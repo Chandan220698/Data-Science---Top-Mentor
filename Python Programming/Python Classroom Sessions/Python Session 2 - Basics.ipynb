{
 "cells": [
  {
   "cell_type": "code",
   "execution_count": 1,
   "id": "d8d78baa",
   "metadata": {},
   "outputs": [],
   "source": [
    "### Float Data Type"
   ]
  },
  {
   "cell_type": "code",
   "execution_count": 2,
   "id": "3b33dceb",
   "metadata": {},
   "outputs": [
    {
     "data": {
      "text/plain": [
       "float"
      ]
     },
     "execution_count": 2,
     "metadata": {},
     "output_type": "execute_result"
    }
   ],
   "source": [
    "f = 1.231\n",
    "type(f)"
   ]
  },
  {
   "cell_type": "code",
   "execution_count": 3,
   "id": "d21750c0",
   "metadata": {},
   "outputs": [
    {
     "name": "stdout",
     "output_type": "stream",
     "text": [
      "1200.0\n"
     ]
    }
   ],
   "source": [
    "f1 = 1.2e3 ## Exp form\n",
    "print(f1)"
   ]
  },
  {
   "cell_type": "code",
   "execution_count": 4,
   "id": "a0b25129",
   "metadata": {},
   "outputs": [
    {
     "name": "stdout",
     "output_type": "stream",
     "text": [
      "10000.0\n"
     ]
    }
   ],
   "source": [
    "f2 = 1e4\n",
    "print(f2)"
   ]
  },
  {
   "cell_type": "code",
   "execution_count": 5,
   "id": "07871722",
   "metadata": {},
   "outputs": [
    {
     "data": {
      "text/plain": [
       "'\\nA complex  number is in form of -\\nreal part + img part\\na + jb\\n- a & b in complex data type contains int of float values\\n'"
      ]
     },
     "execution_count": 5,
     "metadata": {},
     "output_type": "execute_result"
    }
   ],
   "source": [
    "## Comlpex Data Type in python\n",
    "'''\n",
    "A complex  number is in form of -\n",
    "real part + img part\n",
    "a + jb\n",
    "- a & b in complex data type contains int of float values\n",
    "'''"
   ]
  },
  {
   "cell_type": "code",
   "execution_count": 7,
   "id": "1ab89718",
   "metadata": {},
   "outputs": [
    {
     "data": {
      "text/plain": [
       "complex"
      ]
     },
     "execution_count": 7,
     "metadata": {},
     "output_type": "execute_result"
    }
   ],
   "source": [
    "com1 = 3 + 5j\n",
    "type(com1)"
   ]
  },
  {
   "cell_type": "code",
   "execution_count": 8,
   "id": "e78c57cf",
   "metadata": {},
   "outputs": [
    {
     "name": "stdout",
     "output_type": "stream",
     "text": [
      "(30+4.1j)\n"
     ]
    }
   ],
   "source": [
    "num1 = 10 + 1.5j\n",
    "num2 = 20 + 2.6j\n",
    "print(num1+num2)"
   ]
  },
  {
   "cell_type": "code",
   "execution_count": null,
   "id": "3fc988c7",
   "metadata": {},
   "outputs": [],
   "source": [
    "'''\n",
    "Python's inbuilt function to reterive  the real and img part\n",
    "- num.real  & num.imag\n",
    "'''"
   ]
  },
  {
   "cell_type": "code",
   "execution_count": 9,
   "id": "eac4d01e",
   "metadata": {},
   "outputs": [
    {
     "name": "stdout",
     "output_type": "stream",
     "text": [
      "10.0\n",
      "1.5\n"
     ]
    }
   ],
   "source": [
    "print(num1.real)\n",
    "print(num1.imag)"
   ]
  },
  {
   "cell_type": "code",
   "execution_count": 10,
   "id": "39ad3c36",
   "metadata": {},
   "outputs": [],
   "source": [
    "## Bool Data Type (logical Data Type)\n",
    "## Allowed values are True or false (But internally its 1 or 0)"
   ]
  },
  {
   "cell_type": "code",
   "execution_count": 11,
   "id": "bca41976",
   "metadata": {},
   "outputs": [
    {
     "name": "stdout",
     "output_type": "stream",
     "text": [
      "True\n"
     ]
    }
   ],
   "source": [
    "a = -1\n",
    "b = -2\n",
    "print(a > b)"
   ]
  },
  {
   "cell_type": "code",
   "execution_count": 12,
   "id": "e4b2d177",
   "metadata": {},
   "outputs": [
    {
     "data": {
      "text/plain": [
       "'\\nWhenever a variable is created it is stored at a specific location\\nid(a) - to see the memory address of a.\\n'"
      ]
     },
     "execution_count": 12,
     "metadata": {},
     "output_type": "execute_result"
    }
   ],
   "source": [
    "## Address\n",
    "'''\n",
    "Whenever a variable is created it is stored at a specific location\n",
    "id(a) - to see the memory address of a.\n",
    "'''"
   ]
  },
  {
   "cell_type": "code",
   "execution_count": 13,
   "id": "af4ae415",
   "metadata": {},
   "outputs": [
    {
     "data": {
      "text/plain": [
       "140718985914096"
      ]
     },
     "execution_count": 13,
     "metadata": {},
     "output_type": "execute_result"
    }
   ],
   "source": [
    "id(a)"
   ]
  },
  {
   "cell_type": "code",
   "execution_count": 14,
   "id": "e0bf6eb3",
   "metadata": {},
   "outputs": [
    {
     "name": "stdout",
     "output_type": "stream",
     "text": [
      "140718985914064\n"
     ]
    }
   ],
   "source": [
    "print(id(b))"
   ]
  },
  {
   "cell_type": "code",
   "execution_count": 15,
   "id": "937e4d2d",
   "metadata": {},
   "outputs": [
    {
     "data": {
      "text/plain": [
       "2"
      ]
     },
     "execution_count": 15,
     "metadata": {},
     "output_type": "execute_result"
    }
   ],
   "source": [
    "True + True"
   ]
  },
  {
   "cell_type": "code",
   "execution_count": 16,
   "id": "7d031d83",
   "metadata": {},
   "outputs": [
    {
     "data": {
      "text/plain": [
       "20"
      ]
     },
     "execution_count": 16,
     "metadata": {},
     "output_type": "execute_result"
    }
   ],
   "source": [
    "True*20"
   ]
  },
  {
   "cell_type": "code",
   "execution_count": 17,
   "id": "10646107",
   "metadata": {},
   "outputs": [],
   "source": [
    "## String Data Type"
   ]
  },
  {
   "cell_type": "code",
   "execution_count": 18,
   "id": "8b7bdfaa",
   "metadata": {},
   "outputs": [],
   "source": [
    "str = \"Hello World!\""
   ]
  },
  {
   "cell_type": "code",
   "execution_count": 20,
   "id": "1fbca719",
   "metadata": {},
   "outputs": [],
   "source": [
    "## Slice the String\n",
    "## Slice means piece\n",
    "## [] which is also called as slice operator, which can be used to retrieve parts of string (Starts with index 0)"
   ]
  },
  {
   "cell_type": "code",
   "execution_count": 21,
   "id": "b6222bd6",
   "metadata": {},
   "outputs": [
    {
     "data": {
      "text/plain": [
       "'H'"
      ]
     },
     "execution_count": 21,
     "metadata": {},
     "output_type": "execute_result"
    }
   ],
   "source": [
    "str[0]"
   ]
  },
  {
   "cell_type": "code",
   "execution_count": 22,
   "id": "f3ce673e",
   "metadata": {},
   "outputs": [
    {
     "data": {
      "text/plain": [
       "'o'"
      ]
     },
     "execution_count": 22,
     "metadata": {},
     "output_type": "execute_result"
    }
   ],
   "source": [
    "str[4]"
   ]
  },
  {
   "cell_type": "code",
   "execution_count": 23,
   "id": "1f7b2e44",
   "metadata": {},
   "outputs": [
    {
     "data": {
      "text/plain": [
       "'!'"
      ]
     },
     "execution_count": 23,
     "metadata": {},
     "output_type": "execute_result"
    }
   ],
   "source": [
    "str[-1]"
   ]
  },
  {
   "cell_type": "code",
   "execution_count": 26,
   "id": "219c3028",
   "metadata": {},
   "outputs": [
    {
     "data": {
      "text/plain": [
       "'r'"
      ]
     },
     "execution_count": 26,
     "metadata": {},
     "output_type": "execute_result"
    }
   ],
   "source": [
    "str[-4]"
   ]
  },
  {
   "cell_type": "code",
   "execution_count": 27,
   "id": "05f7cde1",
   "metadata": {},
   "outputs": [
    {
     "data": {
      "text/plain": [
       "'Hello World!'"
      ]
     },
     "execution_count": 27,
     "metadata": {},
     "output_type": "execute_result"
    }
   ],
   "source": [
    "str[:]           ## : to represent start(inclusive) and stop(exclusive) and step"
   ]
  },
  {
   "cell_type": "code",
   "execution_count": 29,
   "id": "d6a2266d",
   "metadata": {},
   "outputs": [
    {
     "name": "stdout",
     "output_type": "stream",
     "text": [
      "llo World!\n",
      "Hello\n",
      "llo\n"
     ]
    }
   ],
   "source": [
    "print(str[2:])\n",
    "print(str[:5])\n",
    "print(str[2:5])"
   ]
  },
  {
   "cell_type": "code",
   "execution_count": 31,
   "id": "98e675f8",
   "metadata": {},
   "outputs": [
    {
     "name": "stdout",
     "output_type": "stream",
     "text": [
      "el ol\n"
     ]
    }
   ],
   "source": [
    "print(str[1:10:2]) ##Start from index 1 till index (10-1) with step 2"
   ]
  },
  {
   "cell_type": "code",
   "execution_count": 36,
   "id": "c2213839",
   "metadata": {},
   "outputs": [
    {
     "data": {
      "text/plain": [
       "'!dlroW olleH'"
      ]
     },
     "execution_count": 36,
     "metadata": {},
     "output_type": "execute_result"
    }
   ],
   "source": [
    "str[::-1]          ## To reverse the string"
   ]
  },
  {
   "cell_type": "code",
   "execution_count": null,
   "id": "d248eb0e",
   "metadata": {},
   "outputs": [],
   "source": [
    "## Mathematical Operator in Strings\n",
    "'''\n",
    "1. Concatenation = + operator\n",
    "2. Repetetion    = * operator\n",
    "'''"
   ]
  },
  {
   "cell_type": "code",
   "execution_count": 37,
   "id": "09ed22fc",
   "metadata": {},
   "outputs": [
    {
     "name": "stdout",
     "output_type": "stream",
     "text": [
      "RamRohan\n",
      "RamRamRamRamRamRamRam\n"
     ]
    }
   ],
   "source": [
    "print(\"Ram\" + \"Rohan\")\n",
    "print(\"Ram\"*7)"
   ]
  },
  {
   "cell_type": "code",
   "execution_count": null,
   "id": "65e545b4",
   "metadata": {},
   "outputs": [],
   "source": [
    "## len(str) = length of string"
   ]
  },
  {
   "cell_type": "code",
   "execution_count": 39,
   "id": "cfcff2f7",
   "metadata": {},
   "outputs": [
    {
     "data": {
      "text/plain": [
       "12"
      ]
     },
     "execution_count": 39,
     "metadata": {},
     "output_type": "execute_result"
    }
   ],
   "source": [
    "len(str)"
   ]
  },
  {
   "cell_type": "code",
   "execution_count": 40,
   "id": "84c0c837",
   "metadata": {},
   "outputs": [],
   "source": [
    "#### For loops\n",
    "##   Syntax \n",
    "##   for any_var in sequence:\n",
    "##       expression"
   ]
  },
  {
   "cell_type": "code",
   "execution_count": 42,
   "id": "7bf1d148",
   "metadata": {},
   "outputs": [
    {
     "name": "stdout",
     "output_type": "stream",
     "text": [
      "H\n",
      "e\n",
      "l\n",
      "l\n",
      "o\n",
      " \n",
      "W\n",
      "o\n",
      "r\n",
      "l\n",
      "d\n",
      "!\n"
     ]
    }
   ],
   "source": [
    "for i in str:\n",
    "    print(i)"
   ]
  },
  {
   "cell_type": "code",
   "execution_count": 43,
   "id": "a3e07625",
   "metadata": {},
   "outputs": [],
   "source": [
    "## Program to print the index as well as value"
   ]
  },
  {
   "cell_type": "code",
   "execution_count": 54,
   "id": "bbbe4010",
   "metadata": {},
   "outputs": [
    {
     "name": "stdout",
     "output_type": "stream",
     "text": [
      "index 0 H\n",
      "index 1 e\n",
      "index 2 l\n",
      "index 3 l\n",
      "index 4 o\n",
      "index 5  \n",
      "index 6 W\n",
      "index 7 o\n",
      "index 8 r\n",
      "index 9 l\n",
      "index 10 d\n",
      "index 11 !\n"
     ]
    }
   ],
   "source": [
    "itr = 0\n",
    "for i in str:\n",
    "    print(\"index\",itr, i)\n",
    "    itr = itr + 1"
   ]
  },
  {
   "cell_type": "code",
   "execution_count": 55,
   "id": "1ceff31b",
   "metadata": {},
   "outputs": [],
   "source": [
    "## Program taking variable of string with length 20 and print both forward and backward string with index"
   ]
  },
  {
   "cell_type": "code",
   "execution_count": 65,
   "id": "a3bbfaf2",
   "metadata": {},
   "outputs": [],
   "source": [
    "str1 = \"Happy Rakshabandhan\""
   ]
  },
  {
   "cell_type": "code",
   "execution_count": 66,
   "id": "e909e7ff",
   "metadata": {},
   "outputs": [
    {
     "name": "stdout",
     "output_type": "stream",
     "text": [
      "0 H\n",
      "1 a\n",
      "2 p\n",
      "3 p\n",
      "4 y\n",
      "5  \n",
      "6 R\n",
      "7 a\n",
      "8 k\n",
      "9 s\n",
      "10 h\n",
      "11 a\n",
      "12 b\n",
      "13 a\n",
      "14 n\n",
      "15 d\n",
      "16 h\n",
      "17 a\n",
      "18 n\n"
     ]
    }
   ],
   "source": [
    "itr = 0\n",
    "for i in str1:\n",
    "    print(itr,i)\n",
    "    itr = itr + 1"
   ]
  },
  {
   "cell_type": "code",
   "execution_count": 67,
   "id": "4f9f7161",
   "metadata": {},
   "outputs": [
    {
     "name": "stdout",
     "output_type": "stream",
     "text": [
      "18 n\n",
      "17 a\n",
      "16 h\n",
      "15 d\n",
      "14 n\n",
      "13 a\n",
      "12 b\n",
      "11 a\n",
      "10 h\n",
      "9 s\n",
      "8 k\n",
      "7 a\n",
      "6 R\n",
      "5  \n",
      "4 y\n",
      "3 p\n",
      "2 p\n",
      "1 a\n",
      "0 H\n"
     ]
    }
   ],
   "source": [
    "length = len(str1) - 1\n",
    "for i in str1[::-1]:\n",
    "    print(length, i)\n",
    "    length = length - 1\n"
   ]
  },
  {
   "cell_type": "code",
   "execution_count": 68,
   "id": "54adf8c7",
   "metadata": {},
   "outputs": [],
   "source": [
    "## Checking Membership"
   ]
  },
  {
   "cell_type": "code",
   "execution_count": 69,
   "id": "5b807942",
   "metadata": {},
   "outputs": [
    {
     "name": "stdout",
     "output_type": "stream",
     "text": [
      "True\n",
      "False\n"
     ]
    }
   ],
   "source": [
    "s = \"Durja Pooja\"\n",
    "print('D' in s)\n",
    "print('d' in s)"
   ]
  },
  {
   "cell_type": "code",
   "execution_count": 70,
   "id": "811a018e",
   "metadata": {},
   "outputs": [],
   "source": [
    "## Inbuilt function to take input from user"
   ]
  },
  {
   "cell_type": "code",
   "execution_count": 75,
   "id": "d567d0b5",
   "metadata": {},
   "outputs": [
    {
     "name": "stdout",
     "output_type": "stream",
     "text": [
      "Enter your name: Chandan Kumar\n",
      "Hello Chandan Kumar\n",
      "<class 'str'>\n"
     ]
    }
   ],
   "source": [
    "name = input(\"Enter your name: \")\n",
    "print(\"Hello \" + name)\n",
    "print(type(name))"
   ]
  },
  {
   "cell_type": "code",
   "execution_count": 77,
   "id": "ef2db453",
   "metadata": {},
   "outputs": [
    {
     "name": "stdout",
     "output_type": "stream",
     "text": [
      "Enter your mobile no 21312\n",
      "<class 'int'>\n"
     ]
    }
   ],
   "source": [
    "mobile_no = int(input(\"Enter your mobile no \"))\n",
    "print(type(mobile_no))"
   ]
  },
  {
   "cell_type": "code",
   "execution_count": null,
   "id": "c1c66e80",
   "metadata": {},
   "outputs": [],
   "source": [
    "## program to take input - name, address, phone no."
   ]
  },
  {
   "cell_type": "code",
   "execution_count": 88,
   "id": "b39f8829",
   "metadata": {},
   "outputs": [
    {
     "name": "stdout",
     "output_type": "stream",
     "text": [
      "Enter your name: Chandan Kumar\n",
      "Enter your address: Planet Earth\n",
      "Enter phone no: 369\n",
      "\n",
      "Name: Chandan Kumar\n",
      "Address: Planet Earth\n",
      "phone no.: 369\n"
     ]
    }
   ],
   "source": [
    "name = input(\"Enter your name: \")\n",
    "address = input(\"Enter your address: \")\n",
    "ph_no = int(input(\"Enter phone no: \"))\n",
    "print()\n",
    "print(\"Name:\", name)\n",
    "print(\"Address:\", address)\n",
    "print(\"phone no.:\", ph_no)"
   ]
  },
  {
   "cell_type": "code",
   "execution_count": 91,
   "id": "a6b92bcc",
   "metadata": {},
   "outputs": [
    {
     "name": "stdout",
     "output_type": "stream",
     "text": [
      "The age 111 of user\n"
     ]
    }
   ],
   "source": [
    "age = 111\n",
    "print(f'The age {age} of user')"
   ]
  },
  {
   "cell_type": "code",
   "execution_count": 92,
   "id": "e181e92e",
   "metadata": {},
   "outputs": [],
   "source": [
    "## Removing spaces from String\n",
    "## 1. rstrip() remove spaces from right side\n",
    "## 2. lstrip() remove spaces from left side\n",
    "## 3. strip() remove spaces from both sides"
   ]
  },
  {
   "cell_type": "code",
   "execution_count": 95,
   "id": "7fb9922b",
   "metadata": {},
   "outputs": [
    {
     "name": "stdout",
     "output_type": "stream",
     "text": [
      "Enter city:                 Delhi\n",
      "                Delhi\n",
      "Delhi\n"
     ]
    }
   ],
   "source": [
    "city = input(\"Enter city: \")\n",
    "c = city.strip()\n",
    "print(city)\n",
    "print(c)"
   ]
  },
  {
   "cell_type": "code",
   "execution_count": 96,
   "id": "4d907880",
   "metadata": {},
   "outputs": [],
   "source": [
    "## Replacing a string with another string\n",
    "## s.replace(old_string, new_string)"
   ]
  },
  {
   "cell_type": "code",
   "execution_count": 101,
   "id": "c14ffe2c",
   "metadata": {},
   "outputs": [
    {
     "name": "stdout",
     "output_type": "stream",
     "text": [
      "Learning Java is Easy\n",
      "Learning Python is Easy\n"
     ]
    }
   ],
   "source": [
    "s = \"Learning Java is Easy\"\n",
    "s2 = s.replace(\"Java\", \"Python\")\n",
    "print(s)\n",
    "print(s2)"
   ]
  },
  {
   "cell_type": "code",
   "execution_count": 103,
   "id": "fd789016",
   "metadata": {},
   "outputs": [
    {
     "name": "stdout",
     "output_type": "stream",
     "text": [
      "['Learning', 'Java', 'is', 'Easy']\n"
     ]
    }
   ],
   "source": [
    "s_split = s.split()\n",
    "print(s_split)"
   ]
  },
  {
   "cell_type": "code",
   "execution_count": 105,
   "id": "9bb94e4d",
   "metadata": {},
   "outputs": [
    {
     "name": "stdout",
     "output_type": "stream",
     "text": [
      "['Learning', 'Java', 'is', 'Easy']\n"
     ]
    }
   ],
   "source": [
    "s3 = \"Learning-Java-is-Easy\"\n",
    "s3_split = s3.split(sep = '-')\n",
    "print(s3_split)"
   ]
  },
  {
   "cell_type": "code",
   "execution_count": 109,
   "id": "c98a50af",
   "metadata": {},
   "outputs": [],
   "source": [
    "name = \"Chandan\"\n",
    "salary = 72312\n",
    "age = 23"
   ]
  },
  {
   "cell_type": "code",
   "execution_count": 110,
   "id": "17177b43",
   "metadata": {},
   "outputs": [
    {
     "name": "stdout",
     "output_type": "stream",
     "text": [
      "Chandan age is 72312 and salary is 23 per month\n"
     ]
    }
   ],
   "source": [
    "print(\"{} age is {} and salary is {} per month\".format(name, salary, age))"
   ]
  },
  {
   "cell_type": "code",
   "execution_count": null,
   "id": "86728072",
   "metadata": {},
   "outputs": [],
   "source": [
    "## Build a exam-from\n",
    "## Create a calculator"
   ]
  }
 ],
 "metadata": {
  "kernelspec": {
   "display_name": "Python 3",
   "language": "python",
   "name": "python3"
  },
  "language_info": {
   "codemirror_mode": {
    "name": "ipython",
    "version": 3
   },
   "file_extension": ".py",
   "mimetype": "text/x-python",
   "name": "python",
   "nbconvert_exporter": "python",
   "pygments_lexer": "ipython3",
   "version": "3.8.8"
  }
 },
 "nbformat": 4,
 "nbformat_minor": 5
}
