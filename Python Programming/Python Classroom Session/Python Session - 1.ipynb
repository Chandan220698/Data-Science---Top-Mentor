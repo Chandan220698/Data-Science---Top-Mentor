{
 "cells": [
  {
   "cell_type": "code",
   "execution_count": 1,
   "id": "78037394",
   "metadata": {},
   "outputs": [],
   "source": [
    "# Comments"
   ]
  },
  {
   "cell_type": "code",
   "execution_count": 2,
   "id": "472c6427",
   "metadata": {},
   "outputs": [
    {
     "data": {
      "text/plain": [
       "'Hello World'"
      ]
     },
     "execution_count": 2,
     "metadata": {},
     "output_type": "execute_result"
    }
   ],
   "source": [
    "\"Hello World\""
   ]
  },
  {
   "cell_type": "code",
   "execution_count": 4,
   "id": "2b73dd92",
   "metadata": {},
   "outputs": [
    {
     "name": "stdout",
     "output_type": "stream",
     "text": [
      "Hello World\n"
     ]
    }
   ],
   "source": [
    "print(\"Hello World\")"
   ]
  },
  {
   "cell_type": "markdown",
   "id": "3ebceb37",
   "metadata": {},
   "source": [
    "- Identifier"
   ]
  },
  {
   "cell_type": "code",
   "execution_count": 6,
   "id": "23fee95e",
   "metadata": {},
   "outputs": [],
   "source": [
    "a = 10     ## a is a variable, Storing 10 in memory"
   ]
  },
  {
   "cell_type": "code",
   "execution_count": 7,
   "id": "1c5a3549",
   "metadata": {},
   "outputs": [
    {
     "name": "stdout",
     "output_type": "stream",
     "text": [
      "10\n"
     ]
    }
   ],
   "source": [
    "print(a)"
   ]
  },
  {
   "cell_type": "code",
   "execution_count": 10,
   "id": "b2df552a",
   "metadata": {},
   "outputs": [],
   "source": [
    "import keyword"
   ]
  },
  {
   "cell_type": "code",
   "execution_count": 11,
   "id": "1232096d",
   "metadata": {},
   "outputs": [
    {
     "data": {
      "text/plain": [
       "['False',\n",
       " 'None',\n",
       " 'True',\n",
       " 'and',\n",
       " 'as',\n",
       " 'assert',\n",
       " 'async',\n",
       " 'await',\n",
       " 'break',\n",
       " 'class',\n",
       " 'continue',\n",
       " 'def',\n",
       " 'del',\n",
       " 'elif',\n",
       " 'else',\n",
       " 'except',\n",
       " 'finally',\n",
       " 'for',\n",
       " 'from',\n",
       " 'global',\n",
       " 'if',\n",
       " 'import',\n",
       " 'in',\n",
       " 'is',\n",
       " 'lambda',\n",
       " 'nonlocal',\n",
       " 'not',\n",
       " 'or',\n",
       " 'pass',\n",
       " 'raise',\n",
       " 'return',\n",
       " 'try',\n",
       " 'while',\n",
       " 'with',\n",
       " 'yield']"
      ]
     },
     "execution_count": 11,
     "metadata": {},
     "output_type": "execute_result"
    }
   ],
   "source": [
    "keyword.kwlist"
   ]
  },
  {
   "cell_type": "code",
   "execution_count": 12,
   "id": "dbf647d6",
   "metadata": {},
   "outputs": [
    {
     "data": {
      "text/plain": [
       "35"
      ]
     },
     "execution_count": 12,
     "metadata": {},
     "output_type": "execute_result"
    }
   ],
   "source": [
    "len(keyword.kwlist)  ##Len is inbuilt function which returns the length "
   ]
  },
  {
   "cell_type": "code",
   "execution_count": 16,
   "id": "fdb9c208",
   "metadata": {},
   "outputs": [
    {
     "name": "stdout",
     "output_type": "stream",
     "text": [
      "<class 'str'>\n",
      "<class 'bool'>\n"
     ]
    }
   ],
   "source": [
    "a = \"True\"\n",
    "b = True\n",
    "print(type(a))\n",
    "print(type(b))"
   ]
  },
  {
   "cell_type": "markdown",
   "id": "66484932",
   "metadata": {},
   "source": [
    "- DataTypes"
   ]
  },
  {
   "cell_type": "code",
   "execution_count": 17,
   "id": "0be6b5bd",
   "metadata": {},
   "outputs": [
    {
     "data": {
      "text/plain": [
       "'\\nData Structures\\n1. List\\n2. Tuples\\n3. Dictionary\\n4. Set\\n5. Frozen Set\\n6. Range\\n7. None\\n8. Arrays\\n'"
      ]
     },
     "execution_count": 17,
     "metadata": {},
     "output_type": "execute_result"
    }
   ],
   "source": [
    "'''\n",
    "Data Types:\n",
    "1. Decimal (Integer) (Types of Decimal - Binary, Decimal, Octal, Hexadecimal)\n",
    "2. Float\n",
    "3. Boolean\n",
    "4. Bytes\n",
    "5. Bytes Array\n",
    "6. String\n",
    "7. Complex\n",
    "'''\n",
    "\n",
    "'''\n",
    "Data Structures\n",
    "1. List\n",
    "2. Tuples\n",
    "3. Dictionary\n",
    "4. Set\n",
    "5. Frozen Set\n",
    "6. Range\n",
    "7. None\n",
    "8. Arrays\n",
    "'''"
   ]
  },
  {
   "cell_type": "code",
   "execution_count": 33,
   "id": "d1a4039c",
   "metadata": {},
   "outputs": [
    {
     "data": {
      "text/plain": [
       "'0b1101'"
      ]
     },
     "execution_count": 33,
     "metadata": {},
     "output_type": "execute_result"
    }
   ],
   "source": [
    "a = 13        # Decimal value\n",
    "bin(a)        # Result in binary format"
   ]
  },
  {
   "cell_type": "code",
   "execution_count": 34,
   "id": "dd1edd07",
   "metadata": {},
   "outputs": [
    {
     "name": "stdout",
     "output_type": "stream",
     "text": [
      "13\n"
     ]
    }
   ],
   "source": [
    "a1 = 0b1101   # Binary value\n",
    "print(a1)     # Binary to Decimal"
   ]
  },
  {
   "cell_type": "code",
   "execution_count": 43,
   "id": "a499e83b",
   "metadata": {},
   "outputs": [
    {
     "name": "stdout",
     "output_type": "stream",
     "text": [
      "27134\n"
     ]
    }
   ],
   "source": [
    "b1 = 0x69FE   ## Hex Value\n",
    "print(b1)     ## Hexa to decimal"
   ]
  },
  {
   "cell_type": "code",
   "execution_count": 44,
   "id": "6bc905d6",
   "metadata": {},
   "outputs": [
    {
     "data": {
      "text/plain": [
       "'0x69fe'"
      ]
     },
     "execution_count": 44,
     "metadata": {},
     "output_type": "execute_result"
    }
   ],
   "source": [
    "b = 27134      ## Decimal Value\n",
    "hex(b)        ## Result in hexa format"
   ]
  },
  {
   "cell_type": "code",
   "execution_count": 38,
   "id": "af477b62",
   "metadata": {},
   "outputs": [
    {
     "data": {
      "text/plain": [
       "'0o51500'"
      ]
     },
     "execution_count": 38,
     "metadata": {},
     "output_type": "execute_result"
    }
   ],
   "source": [
    "d1 = 21312  ## Decimal value\n",
    "oct(d1)     ## Printing in Octal formal"
   ]
  },
  {
   "cell_type": "code",
   "execution_count": 40,
   "id": "4fabd72d",
   "metadata": {},
   "outputs": [
    {
     "name": "stdout",
     "output_type": "stream",
     "text": [
      "21312\n"
     ]
    }
   ],
   "source": [
    "d = 0o51500  ## Octal Value\n",
    "print(d)    ## Octal to decimal"
   ]
  },
  {
   "cell_type": "code",
   "execution_count": null,
   "id": "b7aa54b4",
   "metadata": {},
   "outputs": [],
   "source": []
  }
 ],
 "metadata": {
  "kernelspec": {
   "display_name": "Python 3",
   "language": "python",
   "name": "python3"
  },
  "language_info": {
   "codemirror_mode": {
    "name": "ipython",
    "version": 3
   },
   "file_extension": ".py",
   "mimetype": "text/x-python",
   "name": "python",
   "nbconvert_exporter": "python",
   "pygments_lexer": "ipython3",
   "version": "3.8.8"
  }
 },
 "nbformat": 4,
 "nbformat_minor": 5
}
