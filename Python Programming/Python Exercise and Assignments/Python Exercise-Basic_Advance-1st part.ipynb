{
 "cells": [
  {
   "cell_type": "markdown",
   "id": "603240fa",
   "metadata": {},
   "source": [
    "# Python Exercise"
   ]
  },
  {
   "cell_type": "markdown",
   "id": "c9d00b54",
   "metadata": {},
   "source": [
    "### Exercise 1: Mailing Address\n",
    "Create a program that displays your name and complete mailing address formatted in the manner that you would usually see it on the outside of an envelope. Your program does not need to read any input from the user.\n",
    "##### Solution:"
   ]
  },
  {
   "cell_type": "code",
   "execution_count": 1,
   "id": "4575a318",
   "metadata": {},
   "outputs": [
    {
     "name": "stdout",
     "output_type": "stream",
     "text": [
      "Chandan Kumar\n",
      "F-1, Street No.9, Nawada\n",
      "New Delhi, Delhi 110059\n",
      "India\n"
     ]
    }
   ],
   "source": [
    "print(\"Chandan Kumar\")\n",
    "print(\"F-1, Street No.9, Nawada\")\n",
    "print(\"New Delhi,\", \"Delhi\", 110059)\n",
    "print(\"India\")"
   ]
  },
  {
   "cell_type": "markdown",
   "id": "0cd1f59d",
   "metadata": {},
   "source": [
    "### Exercise 2: Hello\n",
    "Write a program that asks the user to enter his or her name. The program should respond with a message that says hello to the user, using his or her name.\n",
    "##### Solution:"
   ]
  },
  {
   "cell_type": "code",
   "execution_count": 8,
   "id": "75f97e06",
   "metadata": {},
   "outputs": [
    {
     "name": "stdout",
     "output_type": "stream",
     "text": [
      "Enter your name: Chandan Kumar\n",
      "Hello, Chandan Kumar !\n"
     ]
    }
   ],
   "source": [
    "name = input(\"Enter your name: \")\n",
    "print(f'Hello, {name} !')"
   ]
  },
  {
   "cell_type": "markdown",
   "id": "7dca0cae",
   "metadata": {},
   "source": [
    "### Exercise 3: Area of a Room\n",
    "Write a program that asks the user to enter the width and length of a room. Once the values have been read, your program should compute and display the area of the room. The length and the width will be entered as floating-point numbers. Include units in your prompt and output message; either feet or meters, depending on which unit you are more comfortable working with.\n",
    "\n",
    "##### Solution:"
   ]
  },
  {
   "cell_type": "code",
   "execution_count": 15,
   "id": "e1c740ba",
   "metadata": {},
   "outputs": [
    {
     "name": "stdout",
     "output_type": "stream",
     "text": [
      "Length of Room(in meters): 11\n",
      "Width of Room(in meters): 9\n",
      "\n",
      "Area of room : 99.0 meter-sq\n"
     ]
    }
   ],
   "source": [
    "length = float(input(\"Length of Room(in meters): \"))\n",
    "width = float(input(\"Width of Room(in meters): \"))\n",
    "area = length * width\n",
    "print(\"\\nArea of room : {} meter-sq\".format(area))"
   ]
  },
  {
   "cell_type": "markdown",
   "id": "9209aa97",
   "metadata": {},
   "source": [
    "### Exercise 4: Area of a Field\n",
    "Create a program that reads the length and width of a farmer’s field from the user in feet. Display the area of the field in acres. Hint: There are 43,560 square feet in an acre\n",
    "##### Solution:"
   ]
  },
  {
   "cell_type": "code",
   "execution_count": 19,
   "id": "0eb5b218",
   "metadata": {},
   "outputs": [
    {
     "name": "stdout",
     "output_type": "stream",
     "text": [
      "Length of field(ft): 400\n",
      "Width of field(ft): 125\n",
      "\n",
      "Area of field: 1.147842056932966 acre\n"
     ]
    }
   ],
   "source": [
    "length = float(input(\"Length of field(ft): \"))\n",
    "width = float(input(\"Width of field(ft): \"))\n",
    "area = (length * width)/43560\n",
    "print(\"\\nArea of field: {} acre\".format(area))"
   ]
  },
  {
   "cell_type": "markdown",
   "id": "6192478d",
   "metadata": {},
   "source": [
    "### Exercise 5: Bottle Deposits\n",
    "In many jurisdictions a small deposit is added to drink containers to encourage people to recycle them. In one particular jurisdiction, drink containers holding one litre or less have a 0.10 deposit, and drink containers holding more than one litre have a $0.25 deposit. Write a program that reads the number of containers of each size from the user. Your program should continue by computing and displaying the refund that will be received for returning those containers. Format the output so that it includes a dollar sign and always displays exactly two decimal places.\n",
    "\n",
    "\n",
    " \n"
   ]
  },
  {
   "cell_type": "code",
   "execution_count": 36,
   "id": "e873fc63",
   "metadata": {},
   "outputs": [
    {
     "name": "stdout",
     "output_type": "stream",
     "text": [
      "Number of containers(<= 1 liter): 11\n",
      "Number of containers(> 1 liter): 13\n",
      "\n",
      "Refund amount: 4.35$\n"
     ]
    }
   ],
   "source": [
    "low_con = int(input(\"Number of containers(<= 1 liter): \"))\n",
    "high_con = int(input(\"Number of containers(> 1 liter): \"))\n",
    "refund_amt = (low_con*0.1)+(high_con*0.25)\n",
    "#print(refund_amt)\n",
    "print(\"\\nRefund amount: \" + \"{:.2f}\".format(refund_amt) + \"$\")  ## {:.2f}.format(variable) for display upto 2 decimal point"
   ]
  },
  {
   "cell_type": "markdown",
   "id": "c5785782",
   "metadata": {},
   "source": [
    "### Exercise 6: Tax and Tip\n",
    "The program that you create for this exercise will begin by reading the cost of a meal ordered at a restaurant from the user. Then your program will compute the tax and tip for the meal. Use your local tax rate when computing the amount of tax owing. Compute the tip as 18 percent of the meal amount (without the tax). The output from your program should include the tax amount, the tip amount, and the grand total for the meal including both the tax and the tip. Format the output so that all of the values are displayed using two decimal places.\n",
    "##### Solution:"
   ]
  },
  {
   "cell_type": "code",
   "execution_count": 44,
   "id": "4109b7a0",
   "metadata": {},
   "outputs": [
    {
     "name": "stdout",
     "output_type": "stream",
     "text": [
      "Meal Cost: 10000\n",
      "\n",
      "Tax Amount: 2800.00rs, Tip Amount: 1800.00rs and Total Amount: 14600.00rs\n"
     ]
    }
   ],
   "source": [
    "meal_cost = float(input(\"Meal Cost: \"))\n",
    "tax_cost = meal_cost*0.28\n",
    "tip_cost = meal_cost*0.18\n",
    "total_cost = meal_cost + tax_cost + tip_cost\n",
    "\n",
    "tax_amt = \"{:.2f}\".format(tax_cost)\n",
    "tip_amt = \"{:.2f}\".format(tip_cost)\n",
    "total_amt = \"{:.2f}\".format(total_cost)\n",
    "\n",
    "print(\"\\nTax Amount: {}rs, Tip Amount: {}rs and Total Amount: {}rs\".format(tax_amt, tip_amt, total_amt))"
   ]
  },
  {
   "cell_type": "markdown",
   "id": "44d6055c",
   "metadata": {},
   "source": [
    "### Exercise 7: Fuel Efficiency\n",
    "In the United States, fuel efficiency for vehicles is normally expressed in miles-per gallon (MPG). In Canada, fuel efficiency is normally expressed in litres-per-hundred kilometres (L/100 km). Use your research skills to determine how to convert from MPG to L/100 km. Then create a program that reads a value from the user in American units and displays the equivalent fuel efficiency in Canadian units.\n",
    "\n",
    "##### Solution:"
   ]
  },
  {
   "cell_type": "code",
   "execution_count": 48,
   "id": "06bfc458",
   "metadata": {},
   "outputs": [
    {
     "name": "stdout",
     "output_type": "stream",
     "text": [
      "Enter Fuel Efficiency(MPG): 10\n",
      "The equivalent fuel efficiency: 23.5215 L/100km\n"
     ]
    }
   ],
   "source": [
    "fuel_eff = float(input(\"Enter Fuel Efficiency(MPG): \"))\n",
    "print(f\"The equivalent fuel efficiency: {235.215/fuel_eff} L/100km\")  ### Using conversion formula in print statement itself"
   ]
  },
  {
   "cell_type": "markdown",
   "id": "0f503d74",
   "metadata": {},
   "source": [
    "### Exercise 8: Height Units\n",
    "Many people think about their height in feet and inches, even in some countries that primarily use the metric system. Write a program that reads a number of feet from the user, followed by a number of inches. Once these values are read, your program should compute and display the equivalent number of centimetres. Hint: One foot is 12 inches. One inch is 2.54 centimetres.\n",
    "##### Solution:"
   ]
  },
  {
   "cell_type": "code",
   "execution_count": null,
   "id": "85a7e6ba",
   "metadata": {},
   "outputs": [],
   "source": [
    "print(\"Enter your height in feets and inches\\n\")\n",
    "feet = int(input(\"Feets: \"))\n",
    "inches = float(input(\"Inches: \"))\n",
    "height = (inches*2.54) + (feet*12*2.54)\n",
    "print(\"Height: {} cm\".format(height))"
   ]
  },
  {
   "cell_type": "code",
   "execution_count": null,
   "id": "29d7bc4a",
   "metadata": {},
   "outputs": [],
   "source": []
  },
  {
   "cell_type": "code",
   "execution_count": null,
   "id": "2865ce79",
   "metadata": {},
   "outputs": [],
   "source": []
  }
 ],
 "metadata": {
  "kernelspec": {
   "display_name": "Python 3",
   "language": "python",
   "name": "python3"
  },
  "language_info": {
   "codemirror_mode": {
    "name": "ipython",
    "version": 3
   },
   "file_extension": ".py",
   "mimetype": "text/x-python",
   "name": "python",
   "nbconvert_exporter": "python",
   "pygments_lexer": "ipython3",
   "version": "3.8.8"
  }
 },
 "nbformat": 4,
 "nbformat_minor": 5
}
