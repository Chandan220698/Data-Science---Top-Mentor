{
 "cells": [
  {
   "cell_type": "markdown",
   "id": "998842d8",
   "metadata": {},
   "source": [
    "## Form\n",
    "- Create a Form"
   ]
  },
  {
   "cell_type": "code",
   "execution_count": 18,
   "id": "3ce2eec7",
   "metadata": {},
   "outputs": [
    {
     "name": "stdout",
     "output_type": "stream",
     "text": [
      "Enter your Details...\n",
      "________________________________________________________\n",
      "- Name: Chandan Kumar\n",
      "- Age: 23\n",
      "- Email Address: ck220698@gmail.com\n",
      "- Phone no.: 8802051134\n",
      "\n",
      "Enter your Address Details...\n",
      "________________________________________________________\n",
      "- House no. and Street: F-1, Street No.9\n",
      "- Area: Nawada\n",
      "- City: New Delhi\n",
      "- State: Delhi\n",
      "- Pincode: 110058\n"
     ]
    }
   ],
   "source": [
    "print(\"Enter your Details...\\n________________________________________________________\")\n",
    "name = input(\"- Name: \")\n",
    "age = int(input(\"- Age: \"))\n",
    "email_address = input(\"- Email Address: \")\n",
    "ph_no = int(input(\"- Phone no.: \"))\n",
    "print(\"\\nEnter your Address Details...\\n________________________________________________________\")\n",
    "addr1 = input(\"- House no. and Street: \")\n",
    "area = input(\"- Area: \")\n",
    "city = input(\"- City: \")\n",
    "state = input(\"- State: \")\n",
    "pincode = int(input(\"- Pincode: \"))"
   ]
  },
  {
   "cell_type": "code",
   "execution_count": null,
   "id": "4e0b1a4d",
   "metadata": {},
   "outputs": [],
   "source": []
  },
  {
   "cell_type": "markdown",
   "id": "b980db44",
   "metadata": {},
   "source": [
    "## Calculator\n",
    "- Creater a simple Calculator"
   ]
  },
  {
   "cell_type": "code",
   "execution_count": 19,
   "id": "aae3eddf",
   "metadata": {},
   "outputs": [
    {
     "name": "stdout",
     "output_type": "stream",
     "text": [
      "Enter Two Numbers:\n",
      "Number 1: 53.2\n",
      "Number 2: 10\n"
     ]
    }
   ],
   "source": [
    "print(\"Enter Two Numbers:\")\n",
    "num1 = float(input(\"Number 1: \"))\n",
    "num2 = float(input(\"Number 2: \"))\n",
    "\n",
    "Sum = num1 + num2\n",
    "Sub = num1 - num2\n",
    "Mul = num1 * num2\n",
    "Div = num1 / num2\n",
    "Modulo = num1 % num2"
   ]
  },
  {
   "cell_type": "code",
   "execution_count": 22,
   "id": "151bcdaf",
   "metadata": {},
   "outputs": [
    {
     "name": "stdout",
     "output_type": "stream",
     "text": [
      "Summition:      53.2 + 10.0 = 63.2\n",
      "Subtraction:    53.2 - 10.0 = 43.2\n",
      "Multiplication: 53.2 * 10.0 = 532.0\n",
      "Division:       53.2 / 10.0 = 5.32\n",
      "Modulo:         53.2 % 10.0 = 3.200000000000003\n"
     ]
    }
   ],
   "source": [
    "print(\"Summition:      {} + {} = {}\".format(num1, num2, Sum))\n",
    "print(\"Subtraction:    {} - {} = {}\".format(num1, num2, Sub))\n",
    "print(\"Multiplication: {} * {} = {}\".format(num1, num2, Mul))\n",
    "print(\"Division:       {} / {} = {}\".format(num1, num2, Div))\n",
    "print(\"Modulo:         {} % {} = {}\".format(num1, num2, Modulo))"
   ]
  },
  {
   "cell_type": "code",
   "execution_count": null,
   "id": "71863278",
   "metadata": {},
   "outputs": [],
   "source": []
  }
 ],
 "metadata": {
  "kernelspec": {
   "display_name": "Python 3",
   "language": "python",
   "name": "python3"
  },
  "language_info": {
   "codemirror_mode": {
    "name": "ipython",
    "version": 3
   },
   "file_extension": ".py",
   "mimetype": "text/x-python",
   "name": "python",
   "nbconvert_exporter": "python",
   "pygments_lexer": "ipython3",
   "version": "3.8.8"
  }
 },
 "nbformat": 4,
 "nbformat_minor": 5
}
