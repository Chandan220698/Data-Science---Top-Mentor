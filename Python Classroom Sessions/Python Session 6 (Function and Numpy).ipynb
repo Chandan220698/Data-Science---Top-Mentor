{
 "cells": [
  {
   "cell_type": "markdown",
   "id": "72714a3c",
   "metadata": {},
   "source": [
    "# Function"
   ]
  },
  {
   "cell_type": "code",
   "execution_count": null,
   "id": "09baa369",
   "metadata": {},
   "outputs": [],
   "source": [
    "'''\n",
    "def func_name(argumnets):\n",
    "    statements...\n",
    "    return(optional)\n",
    "'''"
   ]
  },
  {
   "cell_type": "code",
   "execution_count": 1,
   "id": "8342dc73",
   "metadata": {},
   "outputs": [],
   "source": [
    "def wishing(): ## Defining the function\n",
    "    print(\"Hello...\")"
   ]
  },
  {
   "cell_type": "code",
   "execution_count": 3,
   "id": "32ef5b49",
   "metadata": {},
   "outputs": [
    {
     "name": "stdout",
     "output_type": "stream",
     "text": [
      "Hello...\n"
     ]
    }
   ],
   "source": [
    "wishing() ## Calling the function"
   ]
  },
  {
   "cell_type": "code",
   "execution_count": 5,
   "id": "2c5142bc",
   "metadata": {},
   "outputs": [],
   "source": [
    "## Passing parameters - inputs to the function\n",
    "## While passing parameters in function and calling also, give parameters values"
   ]
  },
  {
   "cell_type": "code",
   "execution_count": 14,
   "id": "1680508f",
   "metadata": {},
   "outputs": [],
   "source": [
    "def wish(name):   ## name is a parameter\n",
    "    print(\"Hello\", name, \"have a good day!\")"
   ]
  },
  {
   "cell_type": "code",
   "execution_count": 15,
   "id": "34303457",
   "metadata": {},
   "outputs": [
    {
     "name": "stdout",
     "output_type": "stream",
     "text": [
      "Hello Chandan have a good day!\n"
     ]
    }
   ],
   "source": [
    "wish(\"Chandan\")"
   ]
  },
  {
   "cell_type": "code",
   "execution_count": 16,
   "id": "a829eaed",
   "metadata": {},
   "outputs": [],
   "source": [
    "## Program to take number as input and print its square value"
   ]
  },
  {
   "cell_type": "code",
   "execution_count": 17,
   "id": "c8ad7f6f",
   "metadata": {},
   "outputs": [],
   "source": [
    "def sq(num):\n",
    "    print(num*num)"
   ]
  },
  {
   "cell_type": "code",
   "execution_count": 18,
   "id": "9f7ae1fc",
   "metadata": {},
   "outputs": [
    {
     "name": "stdout",
     "output_type": "stream",
     "text": [
      "529\n"
     ]
    }
   ],
   "source": [
    "sq(-23)"
   ]
  },
  {
   "cell_type": "code",
   "execution_count": 19,
   "id": "553eb21b",
   "metadata": {},
   "outputs": [],
   "source": [
    "## Program to add, sub, multiply and divide two numbers"
   ]
  },
  {
   "cell_type": "code",
   "execution_count": 20,
   "id": "c916fd9e",
   "metadata": {},
   "outputs": [],
   "source": [
    "def math_op(num1, num2):\n",
    "    print(\"Add\", num1 + num2)\n",
    "    print(\"Sub\", num1 - num2)\n",
    "    print(\"Multiply\", num1 * num2)\n",
    "    print(\"Divide\", num1 / num2)"
   ]
  },
  {
   "cell_type": "code",
   "execution_count": 21,
   "id": "6baf27f3",
   "metadata": {},
   "outputs": [
    {
     "name": "stdout",
     "output_type": "stream",
     "text": [
      "Add 64\n",
      "Sub 40\n",
      "Multiply 624\n",
      "Divide 4.333333333333333\n"
     ]
    }
   ],
   "source": [
    "math_op(52, 12)"
   ]
  },
  {
   "cell_type": "code",
   "execution_count": 22,
   "id": "26b3ab1b",
   "metadata": {},
   "outputs": [],
   "source": [
    "## Return Statment"
   ]
  },
  {
   "cell_type": "code",
   "execution_count": 23,
   "id": "f26159f2",
   "metadata": {},
   "outputs": [],
   "source": [
    "def add(x, y):\n",
    "    return x + y"
   ]
  },
  {
   "cell_type": "code",
   "execution_count": 24,
   "id": "fb0f5ab3",
   "metadata": {},
   "outputs": [
    {
     "data": {
      "text/plain": [
       "111"
      ]
     },
     "execution_count": 24,
     "metadata": {},
     "output_type": "execute_result"
    }
   ],
   "source": [
    "add(1, 110)"
   ]
  },
  {
   "cell_type": "code",
   "execution_count": 25,
   "id": "8f229a11",
   "metadata": {},
   "outputs": [],
   "source": [
    "## Program to check given number is odd or even\n",
    "def isEven(num):\n",
    "    if(num % 2 == 0):\n",
    "        print(\"Even\")\n",
    "    else:\n",
    "        print(\"Odd\")"
   ]
  },
  {
   "cell_type": "code",
   "execution_count": 26,
   "id": "4cf75b78",
   "metadata": {},
   "outputs": [
    {
     "name": "stdout",
     "output_type": "stream",
     "text": [
      "Odd\n"
     ]
    }
   ],
   "source": [
    "isEven(23)"
   ]
  },
  {
   "cell_type": "code",
   "execution_count": 28,
   "id": "ccc0c1ac",
   "metadata": {},
   "outputs": [
    {
     "name": "stdout",
     "output_type": "stream",
     "text": [
      "Even\n"
     ]
    }
   ],
   "source": [
    "isEven(111+1)"
   ]
  },
  {
   "cell_type": "code",
   "execution_count": 36,
   "id": "5832d540",
   "metadata": {},
   "outputs": [],
   "source": [
    "## Returning multiple values\n",
    "def msg(name):\n",
    "    return \"Hello\", name"
   ]
  },
  {
   "cell_type": "code",
   "execution_count": 37,
   "id": "a525fe10",
   "metadata": {},
   "outputs": [
    {
     "data": {
      "text/plain": [
       "('Hello', 'Data')"
      ]
     },
     "execution_count": 37,
     "metadata": {},
     "output_type": "execute_result"
    }
   ],
   "source": [
    "msg(\"Data\")"
   ]
  },
  {
   "cell_type": "code",
   "execution_count": 38,
   "id": "8cca34e4",
   "metadata": {},
   "outputs": [
    {
     "name": "stdout",
     "output_type": "stream",
     "text": [
      "Hello data\n"
     ]
    }
   ],
   "source": [
    "x, y = msg(\"data\")\n",
    "print(x, y)"
   ]
  },
  {
   "cell_type": "code",
   "execution_count": null,
   "id": "d1e39373",
   "metadata": {},
   "outputs": [],
   "source": [
    "'''\n",
    "1. Positional Argument (Order wise)\n",
    "2. Keyword Argument\n",
    "3. Default Argument\n",
    "4. Variable Length Argument\n",
    "'''"
   ]
  },
  {
   "cell_type": "code",
   "execution_count": 40,
   "id": "d825edb6",
   "metadata": {},
   "outputs": [],
   "source": [
    "## 2. Keyword argument \n",
    "## i.e. by parameter name \n",
    "## Order is not important"
   ]
  },
  {
   "cell_type": "code",
   "execution_count": 41,
   "id": "41ab8583",
   "metadata": {},
   "outputs": [],
   "source": [
    "def wish(name, msg):\n",
    "    print(name, msg)"
   ]
  },
  {
   "cell_type": "code",
   "execution_count": 43,
   "id": "a67de663",
   "metadata": {},
   "outputs": [
    {
     "name": "stdout",
     "output_type": "stream",
     "text": [
      "CK 111\n"
     ]
    }
   ],
   "source": [
    "wish(name = \"CK\", msg = 111)"
   ]
  },
  {
   "cell_type": "code",
   "execution_count": 44,
   "id": "00dd17c2",
   "metadata": {},
   "outputs": [
    {
     "ename": "TypeError",
     "evalue": "wish() missing 1 required positional argument: 'name'",
     "output_type": "error",
     "traceback": [
      "\u001b[1;31m---------------------------------------------------------------------------\u001b[0m",
      "\u001b[1;31mTypeError\u001b[0m                                 Traceback (most recent call last)",
      "\u001b[1;32m<ipython-input-44-3c967d698083>\u001b[0m in \u001b[0;36m<module>\u001b[1;34m\u001b[0m\n\u001b[1;32m----> 1\u001b[1;33m \u001b[0mwish\u001b[0m\u001b[1;33m(\u001b[0m\u001b[0mmsg\u001b[0m \u001b[1;33m=\u001b[0m \u001b[1;34m'1111'\u001b[0m\u001b[1;33m)\u001b[0m\u001b[1;33m\u001b[0m\u001b[1;33m\u001b[0m\u001b[0m\n\u001b[0m",
      "\u001b[1;31mTypeError\u001b[0m: wish() missing 1 required positional argument: 'name'"
     ]
    }
   ],
   "source": [
    "wish(msg = '1111')"
   ]
  },
  {
   "cell_type": "code",
   "execution_count": 45,
   "id": "d9e74299",
   "metadata": {},
   "outputs": [
    {
     "ename": "SyntaxError",
     "evalue": "positional argument follows keyword argument (<ipython-input-45-a5275756b04f>, line 1)",
     "output_type": "error",
     "traceback": [
      "\u001b[1;36m  File \u001b[1;32m\"<ipython-input-45-a5275756b04f>\"\u001b[1;36m, line \u001b[1;32m1\u001b[0m\n\u001b[1;33m    wish(name = \"CK\", \"Wassup\")\u001b[0m\n\u001b[1;37m                      ^\u001b[0m\n\u001b[1;31mSyntaxError\u001b[0m\u001b[1;31m:\u001b[0m positional argument follows keyword argument\n"
     ]
    }
   ],
   "source": [
    "wish(name = \"CK\", \"Wassup\") ## Both should be with keyword or no one"
   ]
  },
  {
   "cell_type": "code",
   "execution_count": 47,
   "id": "fb4ae0bc",
   "metadata": {},
   "outputs": [],
   "source": [
    "## 3. Default Argument\n",
    "## default argument must be last argument "
   ]
  },
  {
   "cell_type": "code",
   "execution_count": 48,
   "id": "0d7e5164",
   "metadata": {},
   "outputs": [],
   "source": [
    "def wish1(name = 'Guest'):\n",
    "    print(\"Hello\", name, \"have a good day\")"
   ]
  },
  {
   "cell_type": "code",
   "execution_count": 50,
   "id": "96e89a49",
   "metadata": {},
   "outputs": [
    {
     "name": "stdout",
     "output_type": "stream",
     "text": [
      "Hello Guest have a good day\n"
     ]
    }
   ],
   "source": [
    "wish1()"
   ]
  },
  {
   "cell_type": "code",
   "execution_count": 52,
   "id": "8bbf797a",
   "metadata": {},
   "outputs": [
    {
     "name": "stdout",
     "output_type": "stream",
     "text": [
      "Hello  'Talk with Data'  have a good day\n"
     ]
    }
   ],
   "source": [
    "wish1(\" 'Talk with Data' \")"
   ]
  },
  {
   "cell_type": "code",
   "execution_count": 57,
   "id": "02295545",
   "metadata": {},
   "outputs": [],
   "source": [
    "def msg1(name, age = 23, Job = \"Data Scientist\"):\n",
    "    print(name, age, Job)"
   ]
  },
  {
   "cell_type": "code",
   "execution_count": 58,
   "id": "6ae6edaa",
   "metadata": {},
   "outputs": [
    {
     "name": "stdout",
     "output_type": "stream",
     "text": [
      "CK+1 23 Data Scientist\n"
     ]
    }
   ],
   "source": [
    "msg1(\"CK+1\")"
   ]
  },
  {
   "cell_type": "code",
   "execution_count": 59,
   "id": "a39f2342",
   "metadata": {},
   "outputs": [],
   "source": [
    "## 4. Variable length Argument\n",
    "## Sometimes we can pass variable number of arguments\n",
    "## Variable lengeth Argument should be the first argument of the function"
   ]
  },
  {
   "cell_type": "code",
   "execution_count": 60,
   "id": "dccc210c",
   "metadata": {},
   "outputs": [],
   "source": [
    "def f1(*n):\n",
    "    print(n)"
   ]
  },
  {
   "cell_type": "code",
   "execution_count": 61,
   "id": "ab0710f4",
   "metadata": {},
   "outputs": [
    {
     "name": "stdout",
     "output_type": "stream",
     "text": [
      "('Hello', 'Data Scientist', 'Chandan Kumar', 1111)\n"
     ]
    }
   ],
   "source": [
    "f1(\"Hello\", \"Data Scientist\", \"Chandan Kumar\", 1111)"
   ]
  },
  {
   "cell_type": "code",
   "execution_count": 64,
   "id": "a081afda",
   "metadata": {},
   "outputs": [],
   "source": [
    "## 5. Keyword Argument\n",
    "def kw1(**kwarg):\n",
    "    print(kwarg)"
   ]
  },
  {
   "cell_type": "code",
   "execution_count": 65,
   "id": "b5d5b7f1",
   "metadata": {},
   "outputs": [
    {
     "name": "stdout",
     "output_type": "stream",
     "text": [
      "{'car': 'Tesla', 'Age': 35, 'Job': 'Data Scientist with 12yrs exp', 'name': 'Chandan Kumar'}\n"
     ]
    }
   ],
   "source": [
    "kw1(car = 'Tesla', Age = 35, Job = 'Data Scientist with 12yrs exp', name = \"Chandan Kumar\")"
   ]
  },
  {
   "cell_type": "code",
   "execution_count": 66,
   "id": "0eaea951",
   "metadata": {},
   "outputs": [],
   "source": [
    "## Lambda function\n",
    "add = lambda a, b : a + b"
   ]
  },
  {
   "cell_type": "code",
   "execution_count": 67,
   "id": "bce9bc8b",
   "metadata": {},
   "outputs": [
    {
     "data": {
      "text/plain": [
       "111"
      ]
     },
     "execution_count": 67,
     "metadata": {},
     "output_type": "execute_result"
    }
   ],
   "source": [
    "add(101, 10)"
   ]
  },
  {
   "cell_type": "code",
   "execution_count": 70,
   "id": "4d0db086",
   "metadata": {},
   "outputs": [],
   "source": [
    "biggest = lambda a, b : a if a > b else b"
   ]
  },
  {
   "cell_type": "code",
   "execution_count": 71,
   "id": "36b7d21c",
   "metadata": {},
   "outputs": [
    {
     "data": {
      "text/plain": [
       "111"
      ]
     },
     "execution_count": 71,
     "metadata": {},
     "output_type": "execute_result"
    }
   ],
   "source": [
    "biggest(111, 11)"
   ]
  },
  {
   "cell_type": "code",
   "execution_count": 72,
   "id": "12e30188",
   "metadata": {},
   "outputs": [
    {
     "data": {
      "text/plain": [
       "111"
      ]
     },
     "execution_count": 72,
     "metadata": {},
     "output_type": "execute_result"
    }
   ],
   "source": [
    "biggest(111, 111)"
   ]
  },
  {
   "cell_type": "markdown",
   "id": "32281a0b",
   "metadata": {},
   "source": [
    "# Modules - In Python"
   ]
  },
  {
   "cell_type": "code",
   "execution_count": 73,
   "id": "e1111f91",
   "metadata": {},
   "outputs": [],
   "source": [
    "## Math Modules"
   ]
  },
  {
   "cell_type": "code",
   "execution_count": 74,
   "id": "070586fb",
   "metadata": {},
   "outputs": [],
   "source": [
    "import math"
   ]
  },
  {
   "cell_type": "code",
   "execution_count": 75,
   "id": "002ff4b2",
   "metadata": {},
   "outputs": [
    {
     "data": {
      "text/plain": [
       "3.872983346207417"
      ]
     },
     "execution_count": 75,
     "metadata": {},
     "output_type": "execute_result"
    }
   ],
   "source": [
    "math.sqrt(15)"
   ]
  },
  {
   "cell_type": "code",
   "execution_count": 76,
   "id": "da79ee9e",
   "metadata": {},
   "outputs": [
    {
     "data": {
      "text/plain": [
       "3.141592653589793"
      ]
     },
     "execution_count": 76,
     "metadata": {},
     "output_type": "execute_result"
    }
   ],
   "source": [
    "math.pi"
   ]
  },
  {
   "cell_type": "code",
   "execution_count": 77,
   "id": "53cd18d5",
   "metadata": {},
   "outputs": [],
   "source": [
    "## Program to find the area of circle for any given radius"
   ]
  },
  {
   "cell_type": "code",
   "execution_count": 83,
   "id": "9bc4c339",
   "metadata": {},
   "outputs": [],
   "source": [
    "def circleArea(r):\n",
    "    return math.pi*math.pow(r, 2)"
   ]
  },
  {
   "cell_type": "code",
   "execution_count": 84,
   "id": "851abfca",
   "metadata": {},
   "outputs": [
    {
     "data": {
      "text/plain": [
       "78.53981633974483"
      ]
     },
     "execution_count": 84,
     "metadata": {},
     "output_type": "execute_result"
    }
   ],
   "source": [
    "circleArea(5)"
   ]
  },
  {
   "cell_type": "markdown",
   "id": "7fe49398",
   "metadata": {},
   "source": [
    "# Pandas"
   ]
  },
  {
   "cell_type": "code",
   "execution_count": 90,
   "id": "3533c1c4",
   "metadata": {},
   "outputs": [],
   "source": [
    "## Pandas most useful for Data Analysis and Pre-Processing (Exploaratory Data Analysis)\n",
    "## Two Things are Important\n",
    "## 1. Series - 1D array\n",
    "## 2. DataFrame - 2D array\n",
    "\n",
    "\n",
    "## EDA - If there is a data and you want to understand the history and its various areas about the data while exploring.\n",
    "##     - Finding meaningful pattern"
   ]
  },
  {
   "cell_type": "code",
   "execution_count": 91,
   "id": "0cb8b559",
   "metadata": {},
   "outputs": [],
   "source": [
    "import pandas as pd"
   ]
  },
  {
   "cell_type": "code",
   "execution_count": 92,
   "id": "d2b9d2a3",
   "metadata": {},
   "outputs": [
    {
     "data": {
      "text/plain": [
       "([1, 2, 3, -1, -2, 0], list)"
      ]
     },
     "execution_count": 92,
     "metadata": {},
     "output_type": "execute_result"
    }
   ],
   "source": [
    "l = [1, 2, 3, -1, -2, 0]\n",
    "l, type(l)"
   ]
  },
  {
   "cell_type": "code",
   "execution_count": 94,
   "id": "412ab0e6",
   "metadata": {},
   "outputs": [
    {
     "data": {
      "text/plain": [
       "(0    1\n",
       " 1    2\n",
       " 2    3\n",
       " 3   -1\n",
       " 4   -2\n",
       " 5    0\n",
       " dtype: int64,\n",
       " pandas.core.series.Series)"
      ]
     },
     "execution_count": 94,
     "metadata": {},
     "output_type": "execute_result"
    }
   ],
   "source": [
    "s = pd.Series(l)\n",
    "s, type(s)"
   ]
  },
  {
   "cell_type": "code",
   "execution_count": 95,
   "id": "7d435f5c",
   "metadata": {},
   "outputs": [
    {
     "data": {
      "text/html": [
       "<div>\n",
       "<style scoped>\n",
       "    .dataframe tbody tr th:only-of-type {\n",
       "        vertical-align: middle;\n",
       "    }\n",
       "\n",
       "    .dataframe tbody tr th {\n",
       "        vertical-align: top;\n",
       "    }\n",
       "\n",
       "    .dataframe thead th {\n",
       "        text-align: right;\n",
       "    }\n",
       "</style>\n",
       "<table border=\"1\" class=\"dataframe\">\n",
       "  <thead>\n",
       "    <tr style=\"text-align: right;\">\n",
       "      <th></th>\n",
       "      <th>0</th>\n",
       "    </tr>\n",
       "  </thead>\n",
       "  <tbody>\n",
       "    <tr>\n",
       "      <th>0</th>\n",
       "      <td>1</td>\n",
       "    </tr>\n",
       "    <tr>\n",
       "      <th>1</th>\n",
       "      <td>2</td>\n",
       "    </tr>\n",
       "    <tr>\n",
       "      <th>2</th>\n",
       "      <td>3</td>\n",
       "    </tr>\n",
       "    <tr>\n",
       "      <th>3</th>\n",
       "      <td>-1</td>\n",
       "    </tr>\n",
       "    <tr>\n",
       "      <th>4</th>\n",
       "      <td>-2</td>\n",
       "    </tr>\n",
       "    <tr>\n",
       "      <th>5</th>\n",
       "      <td>0</td>\n",
       "    </tr>\n",
       "  </tbody>\n",
       "</table>\n",
       "</div>"
      ],
      "text/plain": [
       "   0\n",
       "0  1\n",
       "1  2\n",
       "2  3\n",
       "3 -1\n",
       "4 -2\n",
       "5  0"
      ]
     },
     "execution_count": 95,
     "metadata": {},
     "output_type": "execute_result"
    }
   ],
   "source": [
    "d = pd.DataFrame(l)\n",
    "d"
   ]
  },
  {
   "cell_type": "code",
   "execution_count": 104,
   "id": "e59bdd23",
   "metadata": {},
   "outputs": [],
   "source": [
    "df = pd.read_excel(\"Example.xlsx\")"
   ]
  },
  {
   "cell_type": "code",
   "execution_count": 105,
   "id": "36325f8e",
   "metadata": {},
   "outputs": [
    {
     "data": {
      "text/html": [
       "<div>\n",
       "<style scoped>\n",
       "    .dataframe tbody tr th:only-of-type {\n",
       "        vertical-align: middle;\n",
       "    }\n",
       "\n",
       "    .dataframe tbody tr th {\n",
       "        vertical-align: top;\n",
       "    }\n",
       "\n",
       "    .dataframe thead th {\n",
       "        text-align: right;\n",
       "    }\n",
       "</style>\n",
       "<table border=\"1\" class=\"dataframe\">\n",
       "  <thead>\n",
       "    <tr style=\"text-align: right;\">\n",
       "      <th></th>\n",
       "      <th>Customer</th>\n",
       "      <th>Age</th>\n",
       "      <th>Sex</th>\n",
       "      <th>Groceries</th>\n",
       "      <th>Choco-bars</th>\n",
       "      <th>Type</th>\n",
       "      <th>Satisfied</th>\n",
       "      <th>Bulk</th>\n",
       "    </tr>\n",
       "  </thead>\n",
       "  <tbody>\n",
       "    <tr>\n",
       "      <th>0</th>\n",
       "      <td>1</td>\n",
       "      <td>36</td>\n",
       "      <td>Male</td>\n",
       "      <td>180</td>\n",
       "      <td>3</td>\n",
       "      <td>White</td>\n",
       "      <td>4</td>\n",
       "      <td>3</td>\n",
       "    </tr>\n",
       "    <tr>\n",
       "      <th>1</th>\n",
       "      <td>2</td>\n",
       "      <td>45</td>\n",
       "      <td>Male</td>\n",
       "      <td>180</td>\n",
       "      <td>4</td>\n",
       "      <td>Milk</td>\n",
       "      <td>3</td>\n",
       "      <td>2</td>\n",
       "    </tr>\n",
       "    <tr>\n",
       "      <th>2</th>\n",
       "      <td>3</td>\n",
       "      <td>20</td>\n",
       "      <td>Female</td>\n",
       "      <td>220</td>\n",
       "      <td>3</td>\n",
       "      <td>White</td>\n",
       "      <td>2</td>\n",
       "      <td>3</td>\n",
       "    </tr>\n",
       "    <tr>\n",
       "      <th>3</th>\n",
       "      <td>4</td>\n",
       "      <td>27</td>\n",
       "      <td>Female</td>\n",
       "      <td>180</td>\n",
       "      <td>2</td>\n",
       "      <td>White</td>\n",
       "      <td>4</td>\n",
       "      <td>2</td>\n",
       "    </tr>\n",
       "    <tr>\n",
       "      <th>4</th>\n",
       "      <td>5</td>\n",
       "      <td>22</td>\n",
       "      <td>Female</td>\n",
       "      <td>220</td>\n",
       "      <td>5</td>\n",
       "      <td>Milk</td>\n",
       "      <td>3</td>\n",
       "      <td>2</td>\n",
       "    </tr>\n",
       "  </tbody>\n",
       "</table>\n",
       "</div>"
      ],
      "text/plain": [
       "   Customer   Age      Sex  Groceries  Choco-bars  Type   Satisfied   Bulk\n",
       "0          1    36    Male        180           3  White           4     3\n",
       "1          2    45    Male        180           4   Milk           3     2\n",
       "2          3    20  Female        220           3  White           2     3\n",
       "3          4    27  Female        180           2  White           4     2\n",
       "4          5    22  Female        220           5   Milk           3     2"
      ]
     },
     "execution_count": 105,
     "metadata": {},
     "output_type": "execute_result"
    }
   ],
   "source": [
    "df.head() ## First 5 rows"
   ]
  },
  {
   "cell_type": "code",
   "execution_count": 107,
   "id": "9b17788d",
   "metadata": {},
   "outputs": [
    {
     "data": {
      "text/html": [
       "<div>\n",
       "<style scoped>\n",
       "    .dataframe tbody tr th:only-of-type {\n",
       "        vertical-align: middle;\n",
       "    }\n",
       "\n",
       "    .dataframe tbody tr th {\n",
       "        vertical-align: top;\n",
       "    }\n",
       "\n",
       "    .dataframe thead th {\n",
       "        text-align: right;\n",
       "    }\n",
       "</style>\n",
       "<table border=\"1\" class=\"dataframe\">\n",
       "  <thead>\n",
       "    <tr style=\"text-align: right;\">\n",
       "      <th></th>\n",
       "      <th>Customer</th>\n",
       "      <th>Age</th>\n",
       "      <th>Sex</th>\n",
       "      <th>Groceries</th>\n",
       "      <th>Choco-bars</th>\n",
       "      <th>Type</th>\n",
       "      <th>Satisfied</th>\n",
       "      <th>Bulk</th>\n",
       "    </tr>\n",
       "  </thead>\n",
       "  <tbody>\n",
       "    <tr>\n",
       "      <th>45</th>\n",
       "      <td>46</td>\n",
       "      <td>40</td>\n",
       "      <td>Female</td>\n",
       "      <td>250</td>\n",
       "      <td>3</td>\n",
       "      <td>Dark</td>\n",
       "      <td>3</td>\n",
       "      <td>4</td>\n",
       "    </tr>\n",
       "    <tr>\n",
       "      <th>46</th>\n",
       "      <td>47</td>\n",
       "      <td>37</td>\n",
       "      <td>Female</td>\n",
       "      <td>220</td>\n",
       "      <td>5</td>\n",
       "      <td>White</td>\n",
       "      <td>2</td>\n",
       "      <td>4</td>\n",
       "    </tr>\n",
       "    <tr>\n",
       "      <th>47</th>\n",
       "      <td>48</td>\n",
       "      <td>23</td>\n",
       "      <td>Male</td>\n",
       "      <td>150</td>\n",
       "      <td>5</td>\n",
       "      <td>Dark</td>\n",
       "      <td>4</td>\n",
       "      <td>3</td>\n",
       "    </tr>\n",
       "    <tr>\n",
       "      <th>48</th>\n",
       "      <td>49</td>\n",
       "      <td>36</td>\n",
       "      <td>Male</td>\n",
       "      <td>180</td>\n",
       "      <td>4</td>\n",
       "      <td>White</td>\n",
       "      <td>3</td>\n",
       "      <td>3</td>\n",
       "    </tr>\n",
       "    <tr>\n",
       "      <th>49</th>\n",
       "      <td>50</td>\n",
       "      <td>24</td>\n",
       "      <td>Male</td>\n",
       "      <td>180</td>\n",
       "      <td>2</td>\n",
       "      <td>Dark</td>\n",
       "      <td>4</td>\n",
       "      <td>3</td>\n",
       "    </tr>\n",
       "  </tbody>\n",
       "</table>\n",
       "</div>"
      ],
      "text/plain": [
       "    Customer   Age      Sex  Groceries  Choco-bars  Type   Satisfied   Bulk\n",
       "45         46    40  Female        250           3   Dark           3     4\n",
       "46         47    37  Female        220           5  White           2     4\n",
       "47         48    23    Male        150           5   Dark           4     3\n",
       "48         49    36    Male        180           4  White           3     3\n",
       "49         50    24    Male        180           2   Dark           4     3"
      ]
     },
     "execution_count": 107,
     "metadata": {},
     "output_type": "execute_result"
    }
   ],
   "source": [
    "df.tail() ## Last 5 rows"
   ]
  },
  {
   "cell_type": "code",
   "execution_count": 108,
   "id": "8a264ae9",
   "metadata": {},
   "outputs": [
    {
     "data": {
      "text/html": [
       "<div>\n",
       "<style scoped>\n",
       "    .dataframe tbody tr th:only-of-type {\n",
       "        vertical-align: middle;\n",
       "    }\n",
       "\n",
       "    .dataframe tbody tr th {\n",
       "        vertical-align: top;\n",
       "    }\n",
       "\n",
       "    .dataframe thead th {\n",
       "        text-align: right;\n",
       "    }\n",
       "</style>\n",
       "<table border=\"1\" class=\"dataframe\">\n",
       "  <thead>\n",
       "    <tr style=\"text-align: right;\">\n",
       "      <th></th>\n",
       "      <th>Customer</th>\n",
       "      <th>Age</th>\n",
       "      <th>Sex</th>\n",
       "      <th>Groceries</th>\n",
       "      <th>Choco-bars</th>\n",
       "      <th>Type</th>\n",
       "      <th>Satisfied</th>\n",
       "      <th>Bulk</th>\n",
       "    </tr>\n",
       "  </thead>\n",
       "  <tbody>\n",
       "    <tr>\n",
       "      <th>0</th>\n",
       "      <td>1</td>\n",
       "      <td>36</td>\n",
       "      <td>Male</td>\n",
       "      <td>180</td>\n",
       "      <td>3</td>\n",
       "      <td>White</td>\n",
       "      <td>4</td>\n",
       "      <td>3</td>\n",
       "    </tr>\n",
       "    <tr>\n",
       "      <th>1</th>\n",
       "      <td>2</td>\n",
       "      <td>45</td>\n",
       "      <td>Male</td>\n",
       "      <td>180</td>\n",
       "      <td>4</td>\n",
       "      <td>Milk</td>\n",
       "      <td>3</td>\n",
       "      <td>2</td>\n",
       "    </tr>\n",
       "    <tr>\n",
       "      <th>2</th>\n",
       "      <td>3</td>\n",
       "      <td>20</td>\n",
       "      <td>Female</td>\n",
       "      <td>220</td>\n",
       "      <td>3</td>\n",
       "      <td>White</td>\n",
       "      <td>2</td>\n",
       "      <td>3</td>\n",
       "    </tr>\n",
       "    <tr>\n",
       "      <th>3</th>\n",
       "      <td>4</td>\n",
       "      <td>27</td>\n",
       "      <td>Female</td>\n",
       "      <td>180</td>\n",
       "      <td>2</td>\n",
       "      <td>White</td>\n",
       "      <td>4</td>\n",
       "      <td>2</td>\n",
       "    </tr>\n",
       "    <tr>\n",
       "      <th>4</th>\n",
       "      <td>5</td>\n",
       "      <td>22</td>\n",
       "      <td>Female</td>\n",
       "      <td>220</td>\n",
       "      <td>5</td>\n",
       "      <td>Milk</td>\n",
       "      <td>3</td>\n",
       "      <td>2</td>\n",
       "    </tr>\n",
       "    <tr>\n",
       "      <th>5</th>\n",
       "      <td>6</td>\n",
       "      <td>39</td>\n",
       "      <td>Male</td>\n",
       "      <td>150</td>\n",
       "      <td>2</td>\n",
       "      <td>Dark</td>\n",
       "      <td>4</td>\n",
       "      <td>2</td>\n",
       "    </tr>\n",
       "    <tr>\n",
       "      <th>6</th>\n",
       "      <td>7</td>\n",
       "      <td>30</td>\n",
       "      <td>Male</td>\n",
       "      <td>220</td>\n",
       "      <td>5</td>\n",
       "      <td>Dark</td>\n",
       "      <td>2</td>\n",
       "      <td>4</td>\n",
       "    </tr>\n",
       "    <tr>\n",
       "      <th>7</th>\n",
       "      <td>8</td>\n",
       "      <td>42</td>\n",
       "      <td>Male</td>\n",
       "      <td>220</td>\n",
       "      <td>2</td>\n",
       "      <td>Milk</td>\n",
       "      <td>4</td>\n",
       "      <td>1</td>\n",
       "    </tr>\n",
       "    <tr>\n",
       "      <th>8</th>\n",
       "      <td>9</td>\n",
       "      <td>20</td>\n",
       "      <td>Female</td>\n",
       "      <td>250</td>\n",
       "      <td>3</td>\n",
       "      <td>White</td>\n",
       "      <td>4</td>\n",
       "      <td>4</td>\n",
       "    </tr>\n",
       "    <tr>\n",
       "      <th>9</th>\n",
       "      <td>10</td>\n",
       "      <td>40</td>\n",
       "      <td>Female</td>\n",
       "      <td>180</td>\n",
       "      <td>2</td>\n",
       "      <td>Milk</td>\n",
       "      <td>3</td>\n",
       "      <td>1</td>\n",
       "    </tr>\n",
       "    <tr>\n",
       "      <th>10</th>\n",
       "      <td>11</td>\n",
       "      <td>38</td>\n",
       "      <td>Female</td>\n",
       "      <td>180</td>\n",
       "      <td>2</td>\n",
       "      <td>White</td>\n",
       "      <td>2</td>\n",
       "      <td>3</td>\n",
       "    </tr>\n",
       "    <tr>\n",
       "      <th>11</th>\n",
       "      <td>12</td>\n",
       "      <td>31</td>\n",
       "      <td>Male</td>\n",
       "      <td>150</td>\n",
       "      <td>4</td>\n",
       "      <td>Dark</td>\n",
       "      <td>2</td>\n",
       "      <td>1</td>\n",
       "    </tr>\n",
       "    <tr>\n",
       "      <th>12</th>\n",
       "      <td>13</td>\n",
       "      <td>19</td>\n",
       "      <td>Male</td>\n",
       "      <td>220</td>\n",
       "      <td>2</td>\n",
       "      <td>Dark</td>\n",
       "      <td>2</td>\n",
       "      <td>3</td>\n",
       "    </tr>\n",
       "    <tr>\n",
       "      <th>13</th>\n",
       "      <td>14</td>\n",
       "      <td>23</td>\n",
       "      <td>Male</td>\n",
       "      <td>180</td>\n",
       "      <td>5</td>\n",
       "      <td>Dark</td>\n",
       "      <td>1</td>\n",
       "      <td>4</td>\n",
       "    </tr>\n",
       "    <tr>\n",
       "      <th>14</th>\n",
       "      <td>15</td>\n",
       "      <td>36</td>\n",
       "      <td>Female</td>\n",
       "      <td>200</td>\n",
       "      <td>2</td>\n",
       "      <td>White</td>\n",
       "      <td>4</td>\n",
       "      <td>1</td>\n",
       "    </tr>\n",
       "  </tbody>\n",
       "</table>\n",
       "</div>"
      ],
      "text/plain": [
       "    Customer   Age      Sex  Groceries  Choco-bars  Type   Satisfied   Bulk\n",
       "0           1    36    Male        180           3  White           4     3\n",
       "1           2    45    Male        180           4   Milk           3     2\n",
       "2           3    20  Female        220           3  White           2     3\n",
       "3           4    27  Female        180           2  White           4     2\n",
       "4           5    22  Female        220           5   Milk           3     2\n",
       "5           6    39    Male        150           2   Dark           4     2\n",
       "6           7    30    Male        220           5   Dark           2     4\n",
       "7           8    42    Male        220           2   Milk           4     1\n",
       "8           9    20  Female        250           3  White           4     4\n",
       "9          10    40  Female        180           2   Milk           3     1\n",
       "10         11    38  Female        180           2  White           2     3\n",
       "11         12    31    Male        150           4   Dark           2     1\n",
       "12         13    19    Male        220           2   Dark           2     3\n",
       "13         14    23    Male        180           5   Dark           1     4\n",
       "14         15    36  Female        200           2  White           4     1"
      ]
     },
     "execution_count": 108,
     "metadata": {},
     "output_type": "execute_result"
    }
   ],
   "source": [
    "df.head(15)"
   ]
  },
  {
   "cell_type": "code",
   "execution_count": 109,
   "id": "4ba77965",
   "metadata": {},
   "outputs": [
    {
     "data": {
      "text/html": [
       "<div>\n",
       "<style scoped>\n",
       "    .dataframe tbody tr th:only-of-type {\n",
       "        vertical-align: middle;\n",
       "    }\n",
       "\n",
       "    .dataframe tbody tr th {\n",
       "        vertical-align: top;\n",
       "    }\n",
       "\n",
       "    .dataframe thead th {\n",
       "        text-align: right;\n",
       "    }\n",
       "</style>\n",
       "<table border=\"1\" class=\"dataframe\">\n",
       "  <thead>\n",
       "    <tr style=\"text-align: right;\">\n",
       "      <th></th>\n",
       "      <th>Customer</th>\n",
       "      <th>Age</th>\n",
       "      <th>Sex</th>\n",
       "      <th>Groceries</th>\n",
       "      <th>Choco-bars</th>\n",
       "      <th>Type</th>\n",
       "      <th>Satisfied</th>\n",
       "      <th>Bulk</th>\n",
       "    </tr>\n",
       "  </thead>\n",
       "  <tbody>\n",
       "    <tr>\n",
       "      <th>40</th>\n",
       "      <td>41</td>\n",
       "      <td>23</td>\n",
       "      <td>Female</td>\n",
       "      <td>220</td>\n",
       "      <td>4</td>\n",
       "      <td>Dark</td>\n",
       "      <td>2</td>\n",
       "      <td>1</td>\n",
       "    </tr>\n",
       "    <tr>\n",
       "      <th>41</th>\n",
       "      <td>42</td>\n",
       "      <td>24</td>\n",
       "      <td>Male</td>\n",
       "      <td>150</td>\n",
       "      <td>2</td>\n",
       "      <td>Dark</td>\n",
       "      <td>2</td>\n",
       "      <td>1</td>\n",
       "    </tr>\n",
       "    <tr>\n",
       "      <th>42</th>\n",
       "      <td>43</td>\n",
       "      <td>29</td>\n",
       "      <td>Male</td>\n",
       "      <td>180</td>\n",
       "      <td>4</td>\n",
       "      <td>White</td>\n",
       "      <td>2</td>\n",
       "      <td>4</td>\n",
       "    </tr>\n",
       "    <tr>\n",
       "      <th>43</th>\n",
       "      <td>44</td>\n",
       "      <td>32</td>\n",
       "      <td>Male</td>\n",
       "      <td>150</td>\n",
       "      <td>4</td>\n",
       "      <td>Dark</td>\n",
       "      <td>2</td>\n",
       "      <td>1</td>\n",
       "    </tr>\n",
       "    <tr>\n",
       "      <th>44</th>\n",
       "      <td>45</td>\n",
       "      <td>26</td>\n",
       "      <td>Female</td>\n",
       "      <td>250</td>\n",
       "      <td>2</td>\n",
       "      <td>White</td>\n",
       "      <td>4</td>\n",
       "      <td>3</td>\n",
       "    </tr>\n",
       "    <tr>\n",
       "      <th>45</th>\n",
       "      <td>46</td>\n",
       "      <td>40</td>\n",
       "      <td>Female</td>\n",
       "      <td>250</td>\n",
       "      <td>3</td>\n",
       "      <td>Dark</td>\n",
       "      <td>3</td>\n",
       "      <td>4</td>\n",
       "    </tr>\n",
       "    <tr>\n",
       "      <th>46</th>\n",
       "      <td>47</td>\n",
       "      <td>37</td>\n",
       "      <td>Female</td>\n",
       "      <td>220</td>\n",
       "      <td>5</td>\n",
       "      <td>White</td>\n",
       "      <td>2</td>\n",
       "      <td>4</td>\n",
       "    </tr>\n",
       "    <tr>\n",
       "      <th>47</th>\n",
       "      <td>48</td>\n",
       "      <td>23</td>\n",
       "      <td>Male</td>\n",
       "      <td>150</td>\n",
       "      <td>5</td>\n",
       "      <td>Dark</td>\n",
       "      <td>4</td>\n",
       "      <td>3</td>\n",
       "    </tr>\n",
       "    <tr>\n",
       "      <th>48</th>\n",
       "      <td>49</td>\n",
       "      <td>36</td>\n",
       "      <td>Male</td>\n",
       "      <td>180</td>\n",
       "      <td>4</td>\n",
       "      <td>White</td>\n",
       "      <td>3</td>\n",
       "      <td>3</td>\n",
       "    </tr>\n",
       "    <tr>\n",
       "      <th>49</th>\n",
       "      <td>50</td>\n",
       "      <td>24</td>\n",
       "      <td>Male</td>\n",
       "      <td>180</td>\n",
       "      <td>2</td>\n",
       "      <td>Dark</td>\n",
       "      <td>4</td>\n",
       "      <td>3</td>\n",
       "    </tr>\n",
       "  </tbody>\n",
       "</table>\n",
       "</div>"
      ],
      "text/plain": [
       "    Customer   Age      Sex  Groceries  Choco-bars  Type   Satisfied   Bulk\n",
       "40         41    23  Female        220           4   Dark           2     1\n",
       "41         42    24    Male        150           2   Dark           2     1\n",
       "42         43    29    Male        180           4  White           2     4\n",
       "43         44    32    Male        150           4   Dark           2     1\n",
       "44         45    26  Female        250           2  White           4     3\n",
       "45         46    40  Female        250           3   Dark           3     4\n",
       "46         47    37  Female        220           5  White           2     4\n",
       "47         48    23    Male        150           5   Dark           4     3\n",
       "48         49    36    Male        180           4  White           3     3\n",
       "49         50    24    Male        180           2   Dark           4     3"
      ]
     },
     "execution_count": 109,
     "metadata": {},
     "output_type": "execute_result"
    }
   ],
   "source": [
    "df.tail(10)"
   ]
  },
  {
   "cell_type": "code",
   "execution_count": 111,
   "id": "e3cd42d5",
   "metadata": {},
   "outputs": [
    {
     "data": {
      "text/plain": [
       "(50, 8)"
      ]
     },
     "execution_count": 111,
     "metadata": {},
     "output_type": "execute_result"
    }
   ],
   "source": [
    "df.shape"
   ]
  },
  {
   "cell_type": "code",
   "execution_count": 112,
   "id": "9ce98602",
   "metadata": {},
   "outputs": [],
   "source": [
    "data = df.copy() ## Make copy of data so original data dont get affected good for pre processing\n"
   ]
  },
  {
   "cell_type": "code",
   "execution_count": 119,
   "id": "17631dcd",
   "metadata": {},
   "outputs": [
    {
     "name": "stdout",
     "output_type": "stream",
     "text": [
      "<class 'pandas.core.frame.DataFrame'>\n",
      "RangeIndex: 50 entries, 0 to 49\n",
      "Data columns (total 8 columns):\n",
      " #   Column      Non-Null Count  Dtype \n",
      "---  ------      --------------  ----- \n",
      " 0   Customer    50 non-null     int64 \n",
      " 1   Age         50 non-null     int64 \n",
      " 2   Sex         50 non-null     object\n",
      " 3   Groceries   50 non-null     int64 \n",
      " 4   Choco-bars  50 non-null     int64 \n",
      " 5   Type        50 non-null     object\n",
      " 6   Satisfied   50 non-null     int64 \n",
      " 7   Bulk        50 non-null     int64 \n",
      "dtypes: int64(6), object(2)\n",
      "memory usage: 3.2+ KB\n"
     ]
    }
   ],
   "source": [
    "data.info()"
   ]
  },
  {
   "cell_type": "code",
   "execution_count": 117,
   "id": "b5c14173",
   "metadata": {},
   "outputs": [
    {
     "data": {
      "text/html": [
       "<div>\n",
       "<style scoped>\n",
       "    .dataframe tbody tr th:only-of-type {\n",
       "        vertical-align: middle;\n",
       "    }\n",
       "\n",
       "    .dataframe tbody tr th {\n",
       "        vertical-align: top;\n",
       "    }\n",
       "\n",
       "    .dataframe thead th {\n",
       "        text-align: right;\n",
       "    }\n",
       "</style>\n",
       "<table border=\"1\" class=\"dataframe\">\n",
       "  <thead>\n",
       "    <tr style=\"text-align: right;\">\n",
       "      <th></th>\n",
       "      <th>Customer</th>\n",
       "      <th>Age</th>\n",
       "      <th>Groceries</th>\n",
       "      <th>Choco-bars</th>\n",
       "      <th>Satisfied</th>\n",
       "      <th>Bulk</th>\n",
       "    </tr>\n",
       "  </thead>\n",
       "  <tbody>\n",
       "    <tr>\n",
       "      <th>count</th>\n",
       "      <td>50.00000</td>\n",
       "      <td>50.000000</td>\n",
       "      <td>50.000000</td>\n",
       "      <td>50.00000</td>\n",
       "      <td>50.000000</td>\n",
       "      <td>50.000000</td>\n",
       "    </tr>\n",
       "    <tr>\n",
       "      <th>mean</th>\n",
       "      <td>25.50000</td>\n",
       "      <td>30.400000</td>\n",
       "      <td>196.200000</td>\n",
       "      <td>3.42000</td>\n",
       "      <td>2.720000</td>\n",
       "      <td>2.580000</td>\n",
       "    </tr>\n",
       "    <tr>\n",
       "      <th>std</th>\n",
       "      <td>14.57738</td>\n",
       "      <td>8.342172</td>\n",
       "      <td>34.040192</td>\n",
       "      <td>1.12649</td>\n",
       "      <td>1.050559</td>\n",
       "      <td>1.144463</td>\n",
       "    </tr>\n",
       "    <tr>\n",
       "      <th>min</th>\n",
       "      <td>1.00000</td>\n",
       "      <td>18.000000</td>\n",
       "      <td>150.000000</td>\n",
       "      <td>2.00000</td>\n",
       "      <td>1.000000</td>\n",
       "      <td>1.000000</td>\n",
       "    </tr>\n",
       "    <tr>\n",
       "      <th>25%</th>\n",
       "      <td>13.25000</td>\n",
       "      <td>23.000000</td>\n",
       "      <td>180.000000</td>\n",
       "      <td>2.00000</td>\n",
       "      <td>2.000000</td>\n",
       "      <td>1.250000</td>\n",
       "    </tr>\n",
       "    <tr>\n",
       "      <th>50%</th>\n",
       "      <td>25.50000</td>\n",
       "      <td>29.500000</td>\n",
       "      <td>200.000000</td>\n",
       "      <td>3.00000</td>\n",
       "      <td>3.000000</td>\n",
       "      <td>3.000000</td>\n",
       "    </tr>\n",
       "    <tr>\n",
       "      <th>75%</th>\n",
       "      <td>37.75000</td>\n",
       "      <td>37.750000</td>\n",
       "      <td>220.000000</td>\n",
       "      <td>4.00000</td>\n",
       "      <td>4.000000</td>\n",
       "      <td>3.750000</td>\n",
       "    </tr>\n",
       "    <tr>\n",
       "      <th>max</th>\n",
       "      <td>50.00000</td>\n",
       "      <td>45.000000</td>\n",
       "      <td>250.000000</td>\n",
       "      <td>5.00000</td>\n",
       "      <td>4.000000</td>\n",
       "      <td>4.000000</td>\n",
       "    </tr>\n",
       "  </tbody>\n",
       "</table>\n",
       "</div>"
      ],
      "text/plain": [
       "       Customer        Age    Groceries  Choco-bars  Satisfied        Bulk\n",
       "count   50.00000  50.000000   50.000000    50.00000   50.000000  50.000000\n",
       "mean    25.50000  30.400000  196.200000     3.42000    2.720000   2.580000\n",
       "std     14.57738   8.342172   34.040192     1.12649    1.050559   1.144463\n",
       "min      1.00000  18.000000  150.000000     2.00000    1.000000   1.000000\n",
       "25%     13.25000  23.000000  180.000000     2.00000    2.000000   1.250000\n",
       "50%     25.50000  29.500000  200.000000     3.00000    3.000000   3.000000\n",
       "75%     37.75000  37.750000  220.000000     4.00000    4.000000   3.750000\n",
       "max     50.00000  45.000000  250.000000     5.00000    4.000000   4.000000"
      ]
     },
     "execution_count": 117,
     "metadata": {},
     "output_type": "execute_result"
    }
   ],
   "source": [
    "data.describe()"
   ]
  },
  {
   "cell_type": "code",
   "execution_count": null,
   "id": "f139cb71",
   "metadata": {},
   "outputs": [],
   "source": []
  }
 ],
 "metadata": {
  "kernelspec": {
   "display_name": "Python 3",
   "language": "python",
   "name": "python3"
  },
  "language_info": {
   "codemirror_mode": {
    "name": "ipython",
    "version": 3
   },
   "file_extension": ".py",
   "mimetype": "text/x-python",
   "name": "python",
   "nbconvert_exporter": "python",
   "pygments_lexer": "ipython3",
   "version": "3.8.8"
  }
 },
 "nbformat": 4,
 "nbformat_minor": 5
}
