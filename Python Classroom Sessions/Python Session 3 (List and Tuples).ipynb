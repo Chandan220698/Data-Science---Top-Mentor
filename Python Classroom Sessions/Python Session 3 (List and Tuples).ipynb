{
 "cells": [
  {
   "cell_type": "code",
   "execution_count": 2,
   "id": "79e27204",
   "metadata": {},
   "outputs": [],
   "source": [
    "## Complex"
   ]
  },
  {
   "cell_type": "code",
   "execution_count": 3,
   "id": "a5bb2a8a",
   "metadata": {},
   "outputs": [
    {
     "data": {
      "text/plain": [
       "(10+0j)"
      ]
     },
     "execution_count": 3,
     "metadata": {},
     "output_type": "execute_result"
    }
   ],
   "source": [
    "complex(10)"
   ]
  },
  {
   "cell_type": "code",
   "execution_count": 4,
   "id": "eaa869e9",
   "metadata": {},
   "outputs": [
    {
     "data": {
      "text/plain": [
       "(10.5+0j)"
      ]
     },
     "execution_count": 4,
     "metadata": {},
     "output_type": "execute_result"
    }
   ],
   "source": [
    "complex(10.5)"
   ]
  },
  {
   "cell_type": "code",
   "execution_count": 5,
   "id": "e0d5143a",
   "metadata": {},
   "outputs": [
    {
     "data": {
      "text/plain": [
       "(1+0j)"
      ]
     },
     "execution_count": 5,
     "metadata": {},
     "output_type": "execute_result"
    }
   ],
   "source": [
    "complex(True)"
   ]
  },
  {
   "cell_type": "code",
   "execution_count": 6,
   "id": "71f29f96",
   "metadata": {},
   "outputs": [
    {
     "ename": "ValueError",
     "evalue": "complex() arg is a malformed string",
     "output_type": "error",
     "traceback": [
      "\u001b[1;31m---------------------------------------------------------------------------\u001b[0m",
      "\u001b[1;31mValueError\u001b[0m                                Traceback (most recent call last)",
      "\u001b[1;32m<ipython-input-6-5de522d2ac66>\u001b[0m in \u001b[0;36m<module>\u001b[1;34m\u001b[0m\n\u001b[1;32m----> 1\u001b[1;33m \u001b[0mcomplex\u001b[0m\u001b[1;33m(\u001b[0m\u001b[1;34m\"Ten\"\u001b[0m\u001b[1;33m)\u001b[0m\u001b[1;33m\u001b[0m\u001b[1;33m\u001b[0m\u001b[0m\n\u001b[0m",
      "\u001b[1;31mValueError\u001b[0m: complex() arg is a malformed string"
     ]
    }
   ],
   "source": [
    "complex(\"Ten\")"
   ]
  },
  {
   "cell_type": "code",
   "execution_count": 7,
   "id": "881b119f",
   "metadata": {},
   "outputs": [],
   "source": [
    "z = 10 + 2.5j"
   ]
  },
  {
   "cell_type": "code",
   "execution_count": 8,
   "id": "c9526cde",
   "metadata": {},
   "outputs": [
    {
     "data": {
      "text/plain": [
       "10.0"
      ]
     },
     "execution_count": 8,
     "metadata": {},
     "output_type": "execute_result"
    }
   ],
   "source": [
    "z.real"
   ]
  },
  {
   "cell_type": "code",
   "execution_count": 9,
   "id": "5af5db3c",
   "metadata": {},
   "outputs": [
    {
     "data": {
      "text/plain": [
       "2.5"
      ]
     },
     "execution_count": 9,
     "metadata": {},
     "output_type": "execute_result"
    }
   ],
   "source": [
    "z.imag"
   ]
  },
  {
   "cell_type": "code",
   "execution_count": 16,
   "id": "20dbfe78",
   "metadata": {},
   "outputs": [
    {
     "data": {
      "text/plain": [
       "(2+1j)"
      ]
     },
     "execution_count": 16,
     "metadata": {},
     "output_type": "execute_result"
    }
   ],
   "source": [
    "complex(2*True, False + True)"
   ]
  },
  {
   "cell_type": "code",
   "execution_count": 11,
   "id": "ac337659",
   "metadata": {},
   "outputs": [],
   "source": [
    "## Boolean"
   ]
  },
  {
   "cell_type": "code",
   "execution_count": 12,
   "id": "4646c22a",
   "metadata": {},
   "outputs": [
    {
     "data": {
      "text/plain": [
       "True"
      ]
     },
     "execution_count": 12,
     "metadata": {},
     "output_type": "execute_result"
    }
   ],
   "source": [
    "bool(10)"
   ]
  },
  {
   "cell_type": "code",
   "execution_count": 13,
   "id": "ca4973e2",
   "metadata": {},
   "outputs": [
    {
     "data": {
      "text/plain": [
       "True"
      ]
     },
     "execution_count": 13,
     "metadata": {},
     "output_type": "execute_result"
    }
   ],
   "source": [
    "bool(0.2131)"
   ]
  },
  {
   "cell_type": "code",
   "execution_count": 14,
   "id": "b314faf0",
   "metadata": {},
   "outputs": [
    {
     "data": {
      "text/plain": [
       "False"
      ]
     },
     "execution_count": 14,
     "metadata": {},
     "output_type": "execute_result"
    }
   ],
   "source": [
    "bool(0)  ## Any value expect 0 is true"
   ]
  },
  {
   "cell_type": "code",
   "execution_count": 18,
   "id": "d8a4ff86",
   "metadata": {},
   "outputs": [
    {
     "data": {
      "text/plain": [
       "True"
      ]
     },
     "execution_count": 18,
     "metadata": {},
     "output_type": "execute_result"
    }
   ],
   "source": [
    "bool(z)  ## z = 10 + 2.5j (imag number)"
   ]
  },
  {
   "cell_type": "code",
   "execution_count": 19,
   "id": "7a9da1e3",
   "metadata": {},
   "outputs": [
    {
     "data": {
      "text/plain": [
       "True"
      ]
     },
     "execution_count": 19,
     "metadata": {},
     "output_type": "execute_result"
    }
   ],
   "source": [
    "bool(\"adas\")"
   ]
  },
  {
   "cell_type": "code",
   "execution_count": 21,
   "id": "8d8c690c",
   "metadata": {},
   "outputs": [
    {
     "data": {
      "text/plain": [
       "False"
      ]
     },
     "execution_count": 21,
     "metadata": {},
     "output_type": "execute_result"
    }
   ],
   "source": [
    "bool(\"\")  ## For empty string bool will give False else True (length = 0)"
   ]
  },
  {
   "cell_type": "code",
   "execution_count": 22,
   "id": "72658837",
   "metadata": {},
   "outputs": [
    {
     "data": {
      "text/plain": [
       "True"
      ]
     },
     "execution_count": 22,
     "metadata": {},
     "output_type": "execute_result"
    }
   ],
   "source": [
    "bool([1, 2, 3])"
   ]
  },
  {
   "cell_type": "code",
   "execution_count": 23,
   "id": "58b69a17",
   "metadata": {},
   "outputs": [
    {
     "data": {
      "text/plain": [
       "False"
      ]
     },
     "execution_count": 23,
     "metadata": {},
     "output_type": "execute_result"
    }
   ],
   "source": [
    "bool([])  ## Empty list will give False also"
   ]
  },
  {
   "cell_type": "code",
   "execution_count": 24,
   "id": "fdc16f05",
   "metadata": {},
   "outputs": [],
   "source": [
    "## Strings"
   ]
  },
  {
   "cell_type": "code",
   "execution_count": 25,
   "id": "6b5c074d",
   "metadata": {},
   "outputs": [
    {
     "data": {
      "text/plain": [
       "'10'"
      ]
     },
     "execution_count": 25,
     "metadata": {},
     "output_type": "execute_result"
    }
   ],
   "source": [
    "str(10)"
   ]
  },
  {
   "cell_type": "code",
   "execution_count": 26,
   "id": "e28eee67",
   "metadata": {},
   "outputs": [
    {
     "data": {
      "text/plain": [
       "'10.2'"
      ]
     },
     "execution_count": 26,
     "metadata": {},
     "output_type": "execute_result"
    }
   ],
   "source": [
    "str(10.2)"
   ]
  },
  {
   "cell_type": "code",
   "execution_count": 27,
   "id": "908ff524",
   "metadata": {},
   "outputs": [
    {
     "data": {
      "text/plain": [
       "'(10+9j)'"
      ]
     },
     "execution_count": 27,
     "metadata": {},
     "output_type": "execute_result"
    }
   ],
   "source": [
    "str(10+9j)"
   ]
  },
  {
   "cell_type": "code",
   "execution_count": 28,
   "id": "6d90f9cd",
   "metadata": {},
   "outputs": [
    {
     "data": {
      "text/plain": [
       "'True'"
      ]
     },
     "execution_count": 28,
     "metadata": {},
     "output_type": "execute_result"
    }
   ],
   "source": [
    "str(True)"
   ]
  },
  {
   "cell_type": "code",
   "execution_count": 29,
   "id": "39c4622a",
   "metadata": {},
   "outputs": [],
   "source": [
    "## Bytes"
   ]
  },
  {
   "cell_type": "code",
   "execution_count": 32,
   "id": "cdb1ff2c",
   "metadata": {},
   "outputs": [],
   "source": [
    "x = [1, 2, 3, 4, 5, 265]"
   ]
  },
  {
   "cell_type": "code",
   "execution_count": 33,
   "id": "3f5af381",
   "metadata": {},
   "outputs": [
    {
     "data": {
      "text/plain": [
       "list"
      ]
     },
     "execution_count": 33,
     "metadata": {},
     "output_type": "execute_result"
    }
   ],
   "source": [
    "type(x)"
   ]
  },
  {
   "cell_type": "code",
   "execution_count": 34,
   "id": "02aaee5e",
   "metadata": {},
   "outputs": [
    {
     "ename": "ValueError",
     "evalue": "bytes must be in range(0, 256)",
     "output_type": "error",
     "traceback": [
      "\u001b[1;31m---------------------------------------------------------------------------\u001b[0m",
      "\u001b[1;31mValueError\u001b[0m                                Traceback (most recent call last)",
      "\u001b[1;32m<ipython-input-34-03aef6eac21a>\u001b[0m in \u001b[0;36m<module>\u001b[1;34m\u001b[0m\n\u001b[1;32m----> 1\u001b[1;33m \u001b[0mb\u001b[0m \u001b[1;33m=\u001b[0m \u001b[0mbytes\u001b[0m\u001b[1;33m(\u001b[0m\u001b[0mx\u001b[0m\u001b[1;33m)\u001b[0m\u001b[1;33m\u001b[0m\u001b[1;33m\u001b[0m\u001b[0m\n\u001b[0m",
      "\u001b[1;31mValueError\u001b[0m: bytes must be in range(0, 256)"
     ]
    }
   ],
   "source": [
    "b = bytes(x)"
   ]
  },
  {
   "cell_type": "code",
   "execution_count": 35,
   "id": "f29497cd",
   "metadata": {},
   "outputs": [],
   "source": [
    "x = [1, 2, 3, 4, 5, 255]"
   ]
  },
  {
   "cell_type": "code",
   "execution_count": 49,
   "id": "319357c1",
   "metadata": {},
   "outputs": [
    {
     "data": {
      "text/plain": [
       "b'\\x01\\x02\\x03\\x04\\x05\\xff'"
      ]
     },
     "execution_count": 49,
     "metadata": {},
     "output_type": "execute_result"
    }
   ],
   "source": [
    "b = bytes(x)\n",
    "b"
   ]
  },
  {
   "cell_type": "code",
   "execution_count": 37,
   "id": "059c354c",
   "metadata": {},
   "outputs": [
    {
     "data": {
      "text/plain": [
       "bytes"
      ]
     },
     "execution_count": 37,
     "metadata": {},
     "output_type": "execute_result"
    }
   ],
   "source": [
    "type(b)"
   ]
  },
  {
   "cell_type": "code",
   "execution_count": 38,
   "id": "f11529f1",
   "metadata": {},
   "outputs": [
    {
     "name": "stdout",
     "output_type": "stream",
     "text": [
      "1\n",
      "2\n",
      "3\n",
      "4\n",
      "5\n",
      "255\n"
     ]
    }
   ],
   "source": [
    "for element in b:\n",
    "    print(element)"
   ]
  },
  {
   "cell_type": "code",
   "execution_count": 44,
   "id": "65a407e1",
   "metadata": {},
   "outputs": [
    {
     "ename": "TypeError",
     "evalue": "'bytes' object does not support item assignment",
     "output_type": "error",
     "traceback": [
      "\u001b[1;31m---------------------------------------------------------------------------\u001b[0m",
      "\u001b[1;31mTypeError\u001b[0m                                 Traceback (most recent call last)",
      "\u001b[1;32m<ipython-input-44-820ca02fe0ac>\u001b[0m in \u001b[0;36m<module>\u001b[1;34m\u001b[0m\n\u001b[1;32m----> 1\u001b[1;33m \u001b[0mb\u001b[0m\u001b[1;33m[\u001b[0m\u001b[1;36m1\u001b[0m\u001b[1;33m]\u001b[0m \u001b[1;33m=\u001b[0m \u001b[1;36m232\u001b[0m\u001b[1;33m\u001b[0m\u001b[1;33m\u001b[0m\u001b[0m\n\u001b[0m",
      "\u001b[1;31mTypeError\u001b[0m: 'bytes' object does not support item assignment"
     ]
    }
   ],
   "source": [
    "b[1] = 232   ## Byte are not changeable"
   ]
  },
  {
   "cell_type": "code",
   "execution_count": 39,
   "id": "d099bc45",
   "metadata": {},
   "outputs": [],
   "source": [
    "## Allowed value in bytes are in range of 0 to 255\n",
    "## Bytes are immutable, Cannot change it\n",
    "## To make it immutable we can use ByteArray"
   ]
  },
  {
   "cell_type": "code",
   "execution_count": 42,
   "id": "a89a87e6",
   "metadata": {},
   "outputs": [],
   "source": [
    "y = [1.0, 23, 5.23]"
   ]
  },
  {
   "cell_type": "code",
   "execution_count": 43,
   "id": "b2aaa3bc",
   "metadata": {},
   "outputs": [
    {
     "ename": "TypeError",
     "evalue": "'float' object cannot be interpreted as an integer",
     "output_type": "error",
     "traceback": [
      "\u001b[1;31m---------------------------------------------------------------------------\u001b[0m",
      "\u001b[1;31mTypeError\u001b[0m                                 Traceback (most recent call last)",
      "\u001b[1;32m<ipython-input-43-a494ada67b3f>\u001b[0m in \u001b[0;36m<module>\u001b[1;34m\u001b[0m\n\u001b[1;32m----> 1\u001b[1;33m \u001b[0mb1\u001b[0m \u001b[1;33m=\u001b[0m \u001b[0mbytes\u001b[0m\u001b[1;33m(\u001b[0m\u001b[0my\u001b[0m\u001b[1;33m)\u001b[0m\u001b[1;33m\u001b[0m\u001b[1;33m\u001b[0m\u001b[0m\n\u001b[0m",
      "\u001b[1;31mTypeError\u001b[0m: 'float' object cannot be interpreted as an integer"
     ]
    }
   ],
   "source": [
    "b1 = bytes(y)"
   ]
  },
  {
   "cell_type": "code",
   "execution_count": 45,
   "id": "e21ab98d",
   "metadata": {},
   "outputs": [],
   "source": [
    "## Interview Difference between Bytes and ByteArray"
   ]
  },
  {
   "cell_type": "code",
   "execution_count": 48,
   "id": "4f547ab0",
   "metadata": {},
   "outputs": [
    {
     "name": "stdout",
     "output_type": "stream",
     "text": [
      "[1, 2, 3, 4, 5, 255]\n"
     ]
    },
    {
     "data": {
      "text/plain": [
       "bytearray(b'\\x01\\x02\\x03\\x04\\x05\\xff')"
      ]
     },
     "execution_count": 48,
     "metadata": {},
     "output_type": "execute_result"
    }
   ],
   "source": [
    "print(x)\n",
    "bArr = bytearray(x)\n",
    "bArr"
   ]
  },
  {
   "cell_type": "code",
   "execution_count": 51,
   "id": "b790d14a",
   "metadata": {},
   "outputs": [],
   "source": [
    "bArr[2] = 111"
   ]
  },
  {
   "cell_type": "code",
   "execution_count": 52,
   "id": "6aef8c38",
   "metadata": {},
   "outputs": [
    {
     "name": "stdout",
     "output_type": "stream",
     "text": [
      "[1, 2, 3, 4, 5, 255]\n",
      "bytearray(b'\\x01\\x02o\\x04\\x05\\xff')\n"
     ]
    }
   ],
   "source": [
    "print(x)\n",
    "print(bArr)"
   ]
  },
  {
   "cell_type": "code",
   "execution_count": null,
   "id": "75201bb6",
   "metadata": {},
   "outputs": [],
   "source": []
  },
  {
   "cell_type": "code",
   "execution_count": 53,
   "id": "b89c29df",
   "metadata": {},
   "outputs": [],
   "source": [
    "## LIST"
   ]
  },
  {
   "cell_type": "code",
   "execution_count": 54,
   "id": "86e12d24",
   "metadata": {},
   "outputs": [
    {
     "data": {
      "text/plain": [
       "'\\nRules of LIST:\\n1. Insertion order is preserved\\n2. Heterogenous objects are allowed\\n3. Duplicates are allowed\\n4. Growable in Nature\\n5. Values is closed in [] brackets\\n6(imp). List is Mutable Object. (Values/ Elements can be modified) \\n'"
      ]
     },
     "execution_count": 54,
     "metadata": {},
     "output_type": "execute_result"
    }
   ],
   "source": [
    "'''\n",
    "Rules of LIST:\n",
    "1. Insertion order is preserved\n",
    "2. Heterogenous objects are allowed\n",
    "3. Duplicates are allowed\n",
    "4. Growable in Nature\n",
    "5. Values is closed in [] brackets\n",
    "6(imp). List is Mutable Object. (Values/ Elements can be modified) \n",
    "'''"
   ]
  },
  {
   "cell_type": "code",
   "execution_count": 55,
   "id": "b256bcdc",
   "metadata": {},
   "outputs": [
    {
     "data": {
      "text/plain": [
       "([10, 20, 30, 40, 50], list)"
      ]
     },
     "execution_count": 55,
     "metadata": {},
     "output_type": "execute_result"
    }
   ],
   "source": [
    "## 1. Insertion is preserved i.e. well indexed\n",
    "list1 = [10, 20, 30, 40, 50]\n",
    "list1, type(list1)"
   ]
  },
  {
   "cell_type": "code",
   "execution_count": 56,
   "id": "cef7c237",
   "metadata": {},
   "outputs": [
    {
     "data": {
      "text/plain": [
       "(list, int)"
      ]
     },
     "execution_count": 56,
     "metadata": {},
     "output_type": "execute_result"
    }
   ],
   "source": [
    "type(list1), type(list1[2])"
   ]
  },
  {
   "cell_type": "code",
   "execution_count": 57,
   "id": "4edf19c6",
   "metadata": {},
   "outputs": [],
   "source": [
    "## 2.Heterogenous objects are allowed"
   ]
  },
  {
   "cell_type": "code",
   "execution_count": 59,
   "id": "6c5d0e2c",
   "metadata": {},
   "outputs": [
    {
     "data": {
      "text/plain": [
       "[12, 10.23, 'Ram', True, (10+2.4j)]"
      ]
     },
     "execution_count": 59,
     "metadata": {},
     "output_type": "execute_result"
    }
   ],
   "source": [
    "list2 = [12, 10.23, \"Ram\", True, 10+2.4j]\n",
    "list2"
   ]
  },
  {
   "cell_type": "code",
   "execution_count": 61,
   "id": "5a469e89",
   "metadata": {},
   "outputs": [
    {
     "data": {
      "text/plain": [
       "5"
      ]
     },
     "execution_count": 61,
     "metadata": {},
     "output_type": "execute_result"
    }
   ],
   "source": [
    "len(list2)"
   ]
  },
  {
   "cell_type": "code",
   "execution_count": 63,
   "id": "7c228d65",
   "metadata": {},
   "outputs": [
    {
     "data": {
      "text/plain": [
       "(int, float, str, bool, complex)"
      ]
     },
     "execution_count": 63,
     "metadata": {},
     "output_type": "execute_result"
    }
   ],
   "source": [
    "type(list2[0]),type(list2[1]),type(list2[2]),type(list2[3]),type(list2[4])"
   ]
  },
  {
   "cell_type": "code",
   "execution_count": 64,
   "id": "606258f3",
   "metadata": {},
   "outputs": [],
   "source": [
    "## 4. Growable in nature"
   ]
  },
  {
   "cell_type": "code",
   "execution_count": 65,
   "id": "5d4335f2",
   "metadata": {},
   "outputs": [
    {
     "data": {
      "text/plain": [
       "[12, 10.23, 'Ram', True, (10+2.4j)]"
      ]
     },
     "execution_count": 65,
     "metadata": {},
     "output_type": "execute_result"
    }
   ],
   "source": [
    "list2"
   ]
  },
  {
   "cell_type": "code",
   "execution_count": 66,
   "id": "1812252a",
   "metadata": {},
   "outputs": [],
   "source": [
    "list2.append(\"Data Scientist\")"
   ]
  },
  {
   "cell_type": "code",
   "execution_count": 67,
   "id": "4823fb9d",
   "metadata": {},
   "outputs": [
    {
     "data": {
      "text/plain": [
       "[12, 10.23, 'Ram', True, (10+2.4j), 'Data Scientist']"
      ]
     },
     "execution_count": 67,
     "metadata": {},
     "output_type": "execute_result"
    }
   ],
   "source": [
    "list2"
   ]
  },
  {
   "cell_type": "code",
   "execution_count": 68,
   "id": "041d3551",
   "metadata": {},
   "outputs": [],
   "source": [
    "## 6(imp). List is Mutable Object."
   ]
  },
  {
   "cell_type": "code",
   "execution_count": 69,
   "id": "a82cb0d6",
   "metadata": {},
   "outputs": [
    {
     "data": {
      "text/plain": [
       "[12, 10.23, 'Ram', True, (10+2.4j), 'Data Scientist']"
      ]
     },
     "execution_count": 69,
     "metadata": {},
     "output_type": "execute_result"
    }
   ],
   "source": [
    "list2"
   ]
  },
  {
   "cell_type": "code",
   "execution_count": 70,
   "id": "74ba2e81",
   "metadata": {},
   "outputs": [],
   "source": [
    "list2[2] = \"Ram Ji\""
   ]
  },
  {
   "cell_type": "code",
   "execution_count": 71,
   "id": "ac780169",
   "metadata": {},
   "outputs": [
    {
     "data": {
      "text/plain": [
       "[12, 10.23, 'Ram Ji', True, (10+2.4j), 'Data Scientist']"
      ]
     },
     "execution_count": 71,
     "metadata": {},
     "output_type": "execute_result"
    }
   ],
   "source": [
    "list2"
   ]
  },
  {
   "cell_type": "code",
   "execution_count": null,
   "id": "229e73b1",
   "metadata": {},
   "outputs": [],
   "source": [
    "'''\n",
    "1. By Using Index\n",
    "2. Transversing elements of list\n",
    "'''"
   ]
  },
  {
   "cell_type": "code",
   "execution_count": 73,
   "id": "89ba26f7",
   "metadata": {},
   "outputs": [],
   "source": [
    "## 1. By using index\n",
    "## zero based index : first element is zero index\n",
    "## Supports both +ve and -ve  i.e. left to right and Right to left\n",
    "## list[start: Stop: Step]"
   ]
  },
  {
   "cell_type": "code",
   "execution_count": 74,
   "id": "8667198e",
   "metadata": {},
   "outputs": [],
   "source": [
    "numbers = [1,2,3,4,5,6,7,8,9]"
   ]
  },
  {
   "cell_type": "code",
   "execution_count": 75,
   "id": "a53e26b9",
   "metadata": {},
   "outputs": [
    {
     "data": {
      "text/plain": [
       "[3, 5, 7]"
      ]
     },
     "execution_count": 75,
     "metadata": {},
     "output_type": "execute_result"
    }
   ],
   "source": [
    "numbers[2:7:2]"
   ]
  },
  {
   "cell_type": "code",
   "execution_count": 76,
   "id": "0d085181",
   "metadata": {},
   "outputs": [
    {
     "data": {
      "text/plain": [
       "[1, 2, 3, 4, 5, 6, 7, 8, 9]"
      ]
     },
     "execution_count": 76,
     "metadata": {},
     "output_type": "execute_result"
    }
   ],
   "source": [
    "numbers[:100]"
   ]
  },
  {
   "cell_type": "code",
   "execution_count": 77,
   "id": "8e4af5bf",
   "metadata": {},
   "outputs": [
    {
     "data": {
      "text/plain": [
       "[5, 6, 7, 8, 9]"
      ]
     },
     "execution_count": 77,
     "metadata": {},
     "output_type": "execute_result"
    }
   ],
   "source": [
    "numbers[4:10000]"
   ]
  },
  {
   "cell_type": "code",
   "execution_count": 78,
   "id": "14cccfa0",
   "metadata": {},
   "outputs": [
    {
     "data": {
      "text/plain": [
       "[1, 2, 3, 4, 5, 6, 7, 8, 9]"
      ]
     },
     "execution_count": 78,
     "metadata": {},
     "output_type": "execute_result"
    }
   ],
   "source": [
    "## To print all the Elements of list\n",
    "numbers[::]"
   ]
  },
  {
   "cell_type": "code",
   "execution_count": 79,
   "id": "9296cb8d",
   "metadata": {},
   "outputs": [
    {
     "data": {
      "text/plain": [
       "[9, 8, 7, 6, 5, 4, 3, 2, 1]"
      ]
     },
     "execution_count": 79,
     "metadata": {},
     "output_type": "execute_result"
    }
   ],
   "source": [
    "## To reverse list\n",
    "numbers[::-1]"
   ]
  },
  {
   "cell_type": "code",
   "execution_count": 81,
   "id": "b884d506",
   "metadata": {},
   "outputs": [
    {
     "data": {
      "text/plain": [
       "[9, 6, 3]"
      ]
     },
     "execution_count": 81,
     "metadata": {},
     "output_type": "execute_result"
    }
   ],
   "source": [
    "numbers[::-3]"
   ]
  },
  {
   "cell_type": "code",
   "execution_count": 83,
   "id": "b60de9f1",
   "metadata": {},
   "outputs": [
    {
     "data": {
      "text/plain": [
       "[9, 7, 5]"
      ]
     },
     "execution_count": 83,
     "metadata": {},
     "output_type": "execute_result"
    }
   ],
   "source": [
    "numbers[8:2:-2]"
   ]
  },
  {
   "cell_type": "code",
   "execution_count": 84,
   "id": "5fc6c211",
   "metadata": {},
   "outputs": [],
   "source": [
    "## 2. Transversing elements of list\n",
    "## Sequentially accessing each element of list"
   ]
  },
  {
   "cell_type": "code",
   "execution_count": 85,
   "id": "f001c040",
   "metadata": {},
   "outputs": [
    {
     "data": {
      "text/plain": [
       "[1, 2, 3, 4, 5, 6, 7, 8, 9]"
      ]
     },
     "execution_count": 85,
     "metadata": {},
     "output_type": "execute_result"
    }
   ],
   "source": [
    "numbers"
   ]
  },
  {
   "cell_type": "code",
   "execution_count": 86,
   "id": "6fa9f9f8",
   "metadata": {},
   "outputs": [
    {
     "name": "stdout",
     "output_type": "stream",
     "text": [
      "1\n",
      "2\n",
      "3\n",
      "4\n",
      "5\n",
      "6\n",
      "7\n",
      "8\n",
      "9\n"
     ]
    }
   ],
   "source": [
    "for element in numbers:\n",
    "    print(element)"
   ]
  },
  {
   "cell_type": "code",
   "execution_count": 93,
   "id": "6df98f14",
   "metadata": {},
   "outputs": [
    {
     "name": "stdout",
     "output_type": "stream",
     "text": [
      "Data Scientist Chandan Kumar"
     ]
    }
   ],
   "source": [
    "for ch in \"Data Scientist Chandan Kumar\":\n",
    "    print(ch, end=\"\")"
   ]
  },
  {
   "cell_type": "code",
   "execution_count": 88,
   "id": "c01a8198",
   "metadata": {},
   "outputs": [],
   "source": [
    "## To Display even numbers only"
   ]
  },
  {
   "cell_type": "code",
   "execution_count": 95,
   "id": "f2d14ab3",
   "metadata": {},
   "outputs": [
    {
     "name": "stdout",
     "output_type": "stream",
     "text": [
      "[1, 2, 3, 4, 5, 6, 7, 8, 9]\n",
      "\n",
      "2\n",
      "4\n",
      "6\n",
      "8\n"
     ]
    }
   ],
   "source": [
    "print(numbers)\n",
    "print()\n",
    "for element in numbers:\n",
    "    if(element % 2 == 0):\n",
    "        print(element)\n",
    "    "
   ]
  },
  {
   "cell_type": "code",
   "execution_count": 90,
   "id": "01460559",
   "metadata": {},
   "outputs": [
    {
     "name": "stdout",
     "output_type": "stream",
     "text": [
      "1\n",
      "3\n",
      "5\n",
      "7\n",
      "9\n"
     ]
    }
   ],
   "source": [
    "## for Odd numbers\n",
    "for num in numbers:\n",
    "    if(num%2==1):\n",
    "        print(num)"
   ]
  },
  {
   "cell_type": "code",
   "execution_count": 97,
   "id": "a063951c",
   "metadata": {},
   "outputs": [
    {
     "name": "stdout",
     "output_type": "stream",
     "text": [
      "0 1\n",
      "0 2\n",
      "0 3\n",
      "0 4\n",
      "0 5\n",
      "0 6\n",
      "0 7\n",
      "0 8\n",
      "0 9\n"
     ]
    }
   ],
   "source": [
    "for num in numbers:\n",
    "    index = 0\n",
    "    print(index, num)\n",
    "    index = index + 1"
   ]
  },
  {
   "cell_type": "code",
   "execution_count": 104,
   "id": "bd1882d4",
   "metadata": {},
   "outputs": [
    {
     "name": "stdout",
     "output_type": "stream",
     "text": [
      "[1, 2, 3, 4, 5, 6, 7, 8, 9]\n",
      "index: 0     Value:  1\n",
      "index: 1     Value:  2\n",
      "index: 2     Value:  3\n",
      "index: 3     Value:  4\n",
      "index: 4     Value:  5\n",
      "index: 5     Value:  6\n",
      "index: 6     Value:  7\n",
      "index: 7     Value:  8\n",
      "index: 8     Value:  9\n"
     ]
    }
   ],
   "source": [
    "## Another way:\n",
    "print(numbers)\n",
    "length = len(numbers)\n",
    "for i in range(length):\n",
    "    print(\"index:\", i, \"    Value: \", numbers[i])"
   ]
  },
  {
   "cell_type": "code",
   "execution_count": 100,
   "id": "a08e1826",
   "metadata": {},
   "outputs": [
    {
     "data": {
      "text/plain": [
       "range(0, 9)"
      ]
     },
     "execution_count": 100,
     "metadata": {},
     "output_type": "execute_result"
    }
   ],
   "source": [
    "range(length)"
   ]
  },
  {
   "cell_type": "code",
   "execution_count": 108,
   "id": "5cda781c",
   "metadata": {},
   "outputs": [
    {
     "name": "stdout",
     "output_type": "stream",
     "text": [
      "0 1 2 3 4 5 6 7 8 9 "
     ]
    }
   ],
   "source": [
    "## Range\n",
    "for r in range(10):\n",
    "    print(r, end=\" \")"
   ]
  },
  {
   "cell_type": "code",
   "execution_count": null,
   "id": "91c60cb1",
   "metadata": {},
   "outputs": [],
   "source": [
    "## Important Functionality of List\n",
    "'''\n",
    "1. len()\n",
    "2. count() : return count of occurences of an element\n",
    "3. index() : return index of first occerence of element\n",
    "4. append()\n",
    "5. insert() : insert element at specified index\n",
    "6. extend()  : multiple append in end of list\n",
    "7. remove()\n",
    "8. pop()    : remove and return last element of list\n",
    "'''"
   ]
  },
  {
   "cell_type": "code",
   "execution_count": 110,
   "id": "e955755f",
   "metadata": {},
   "outputs": [
    {
     "data": {
      "text/plain": [
       "[1, 2, 3, 4, 5, 6, 7, 8, 9]"
      ]
     },
     "execution_count": 110,
     "metadata": {},
     "output_type": "execute_result"
    }
   ],
   "source": [
    "## 2. Count()\n",
    "numbers"
   ]
  },
  {
   "cell_type": "code",
   "execution_count": 112,
   "id": "ecb44979",
   "metadata": {},
   "outputs": [
    {
     "data": {
      "text/plain": [
       "[1, 2, 3, 4, 5, 6, 7, 8, 9, 1, 1, 1]"
      ]
     },
     "execution_count": 112,
     "metadata": {},
     "output_type": "execute_result"
    }
   ],
   "source": [
    "numbers.append(1)\n",
    "numbers.append(1)\n",
    "numbers.append(1)\n",
    "numbers"
   ]
  },
  {
   "cell_type": "code",
   "execution_count": 113,
   "id": "8c8a2b37",
   "metadata": {},
   "outputs": [
    {
     "data": {
      "text/plain": [
       "4"
      ]
     },
     "execution_count": 113,
     "metadata": {},
     "output_type": "execute_result"
    }
   ],
   "source": [
    "numbers.count(1)"
   ]
  },
  {
   "cell_type": "code",
   "execution_count": 114,
   "id": "b6547fa6",
   "metadata": {},
   "outputs": [
    {
     "data": {
      "text/plain": [
       "0"
      ]
     },
     "execution_count": 114,
     "metadata": {},
     "output_type": "execute_result"
    }
   ],
   "source": [
    "numbers.count(-1)"
   ]
  },
  {
   "cell_type": "code",
   "execution_count": 116,
   "id": "ab3d6fe0",
   "metadata": {},
   "outputs": [
    {
     "data": {
      "text/plain": [
       "2"
      ]
     },
     "execution_count": 116,
     "metadata": {},
     "output_type": "execute_result"
    }
   ],
   "source": [
    "## 3. index()\n",
    "numbers.index(3)"
   ]
  },
  {
   "cell_type": "code",
   "execution_count": 117,
   "id": "a06f84e0",
   "metadata": {},
   "outputs": [
    {
     "ename": "ValueError",
     "evalue": "-3 is not in list",
     "output_type": "error",
     "traceback": [
      "\u001b[1;31m---------------------------------------------------------------------------\u001b[0m",
      "\u001b[1;31mValueError\u001b[0m                                Traceback (most recent call last)",
      "\u001b[1;32m<ipython-input-117-2959c7136466>\u001b[0m in \u001b[0;36m<module>\u001b[1;34m\u001b[0m\n\u001b[1;32m----> 1\u001b[1;33m \u001b[0mnumbers\u001b[0m\u001b[1;33m.\u001b[0m\u001b[0mindex\u001b[0m\u001b[1;33m(\u001b[0m\u001b[1;33m-\u001b[0m\u001b[1;36m3\u001b[0m\u001b[1;33m)\u001b[0m\u001b[1;33m\u001b[0m\u001b[1;33m\u001b[0m\u001b[0m\n\u001b[0m",
      "\u001b[1;31mValueError\u001b[0m: -3 is not in list"
     ]
    }
   ],
   "source": [
    "numbers.index(-3)"
   ]
  },
  {
   "cell_type": "code",
   "execution_count": 118,
   "id": "71c3cbb7",
   "metadata": {},
   "outputs": [],
   "source": [
    "## 4. append()\n",
    "li = []"
   ]
  },
  {
   "cell_type": "code",
   "execution_count": 119,
   "id": "e681d0a1",
   "metadata": {},
   "outputs": [],
   "source": [
    "li.append(1)\n",
    "li.append(2)"
   ]
  },
  {
   "cell_type": "code",
   "execution_count": 120,
   "id": "be51d115",
   "metadata": {},
   "outputs": [
    {
     "data": {
      "text/plain": [
       "[1, 2]"
      ]
     },
     "execution_count": 120,
     "metadata": {},
     "output_type": "execute_result"
    }
   ],
   "source": [
    "li"
   ]
  },
  {
   "cell_type": "code",
   "execution_count": 121,
   "id": "91259b50",
   "metadata": {},
   "outputs": [],
   "source": [
    "## program to add 0 to 100 to empty list divisible by 10\n",
    "nums = []\n",
    "for n in range(101):\n",
    "    if(n%10==0):\n",
    "        nums.append(n)"
   ]
  },
  {
   "cell_type": "code",
   "execution_count": 122,
   "id": "efa84a6c",
   "metadata": {},
   "outputs": [
    {
     "data": {
      "text/plain": [
       "[0, 10, 20, 30, 40, 50, 60, 70, 80, 90, 100]"
      ]
     },
     "execution_count": 122,
     "metadata": {},
     "output_type": "execute_result"
    }
   ],
   "source": [
    "nums"
   ]
  },
  {
   "cell_type": "code",
   "execution_count": 126,
   "id": "a792fc27",
   "metadata": {},
   "outputs": [
    {
     "name": "stdout",
     "output_type": "stream",
     "text": [
      "1\n",
      "24\n",
      "47\n",
      "70\n",
      "93\n"
     ]
    }
   ],
   "source": [
    "for n in range(1, 101, 23):\n",
    "    print(n)"
   ]
  },
  {
   "cell_type": "code",
   "execution_count": 128,
   "id": "112706ef",
   "metadata": {},
   "outputs": [
    {
     "data": {
      "text/plain": [
       "[0, 10, 20, 30, 40, 50, 60, 70, 80, 90, 100, 101, 101]"
      ]
     },
     "execution_count": 128,
     "metadata": {},
     "output_type": "execute_result"
    }
   ],
   "source": [
    "nums.append(101)\n",
    "nums"
   ]
  },
  {
   "cell_type": "code",
   "execution_count": 129,
   "id": "a0a1616b",
   "metadata": {},
   "outputs": [
    {
     "ename": "TypeError",
     "evalue": "extend() takes exactly one argument (2 given)",
     "output_type": "error",
     "traceback": [
      "\u001b[1;31m---------------------------------------------------------------------------\u001b[0m",
      "\u001b[1;31mTypeError\u001b[0m                                 Traceback (most recent call last)",
      "\u001b[1;32m<ipython-input-129-2d888513b867>\u001b[0m in \u001b[0;36m<module>\u001b[1;34m\u001b[0m\n\u001b[1;32m----> 1\u001b[1;33m \u001b[0mnums\u001b[0m\u001b[1;33m.\u001b[0m\u001b[0mextend\u001b[0m\u001b[1;33m(\u001b[0m\u001b[1;36m102\u001b[0m\u001b[1;33m,\u001b[0m \u001b[1;36m103\u001b[0m\u001b[1;33m)\u001b[0m\u001b[1;33m\u001b[0m\u001b[1;33m\u001b[0m\u001b[0m\n\u001b[0m\u001b[0;32m      2\u001b[0m \u001b[0mnums\u001b[0m\u001b[1;33m\u001b[0m\u001b[1;33m\u001b[0m\u001b[0m\n",
      "\u001b[1;31mTypeError\u001b[0m: extend() takes exactly one argument (2 given)"
     ]
    }
   ],
   "source": [
    "nums.extend(102, 103)\n",
    "nums"
   ]
  },
  {
   "cell_type": "code",
   "execution_count": 130,
   "id": "0d7e32f0",
   "metadata": {},
   "outputs": [
    {
     "data": {
      "text/plain": [
       "[0, 10, 20, 30, 40, 50, 60, 70, 80, 90, 100, 101, 101, 102, 103]"
      ]
     },
     "execution_count": 130,
     "metadata": {},
     "output_type": "execute_result"
    }
   ],
   "source": [
    "nums.extend([102, 103])\n",
    "nums"
   ]
  },
  {
   "cell_type": "code",
   "execution_count": 131,
   "id": "382b39ea",
   "metadata": {},
   "outputs": [
    {
     "data": {
      "text/plain": [
       "[0, 10, 20, 30, 40, 50, 60, 70, 80, 90, 100, 101, 101, 102, 103]"
      ]
     },
     "execution_count": 131,
     "metadata": {},
     "output_type": "execute_result"
    }
   ],
   "source": [
    "## 5. insert function\n",
    "nums"
   ]
  },
  {
   "cell_type": "code",
   "execution_count": 132,
   "id": "4c7b7646",
   "metadata": {},
   "outputs": [],
   "source": [
    "nums.insert(1, 111)"
   ]
  },
  {
   "cell_type": "code",
   "execution_count": 133,
   "id": "f13ff46c",
   "metadata": {},
   "outputs": [
    {
     "data": {
      "text/plain": [
       "[0, 111, 10, 20, 30, 40, 50, 60, 70, 80, 90, 100, 101, 101, 102, 103]"
      ]
     },
     "execution_count": 133,
     "metadata": {},
     "output_type": "execute_result"
    }
   ],
   "source": [
    "nums"
   ]
  },
  {
   "cell_type": "code",
   "execution_count": 137,
   "id": "601faf39",
   "metadata": {},
   "outputs": [
    {
     "data": {
      "text/plain": [
       "[1, 2, 3, 4, 50, 60]"
      ]
     },
     "execution_count": 137,
     "metadata": {},
     "output_type": "execute_result"
    }
   ],
   "source": [
    "## 6. append\n",
    "num1 = [1,2,3,4]\n",
    "num1.extend([50,60])\n",
    "num1"
   ]
  },
  {
   "cell_type": "code",
   "execution_count": 139,
   "id": "2e132844",
   "metadata": {},
   "outputs": [
    {
     "name": "stdout",
     "output_type": "stream",
     "text": [
      "[77, 88, 99]\n",
      "[1, 2, 3, 4, 50, 60, 77, 88, 99, 77, 88, 99]\n"
     ]
    }
   ],
   "source": [
    "num2 = [77, 88, 99]\n",
    "num1.extend(num2)\n",
    "print(num2)\n",
    "print(num1)"
   ]
  },
  {
   "cell_type": "code",
   "execution_count": 142,
   "id": "54f4059d",
   "metadata": {},
   "outputs": [
    {
     "data": {
      "text/plain": [
       "[1, 2, 3, 4, 50, 60, 77, 99, 77, 99]"
      ]
     },
     "execution_count": 142,
     "metadata": {},
     "output_type": "execute_result"
    }
   ],
   "source": [
    "## 7. remove() function\n",
    "num1.remove(88)\n",
    "num1"
   ]
  },
  {
   "cell_type": "code",
   "execution_count": 141,
   "id": "0c8118ef",
   "metadata": {},
   "outputs": [],
   "source": [
    "##8.pop function - remove element and also return last element of list"
   ]
  },
  {
   "cell_type": "code",
   "execution_count": 143,
   "id": "629834c9",
   "metadata": {},
   "outputs": [
    {
     "data": {
      "text/plain": [
       "[1, 2, 3, 4, 50, 60, 77, 99, 77, 99]"
      ]
     },
     "execution_count": 143,
     "metadata": {},
     "output_type": "execute_result"
    }
   ],
   "source": [
    "num1"
   ]
  },
  {
   "cell_type": "code",
   "execution_count": 144,
   "id": "cb9b4bb3",
   "metadata": {},
   "outputs": [
    {
     "data": {
      "text/plain": [
       "99"
      ]
     },
     "execution_count": 144,
     "metadata": {},
     "output_type": "execute_result"
    }
   ],
   "source": [
    "num1.pop()"
   ]
  },
  {
   "cell_type": "code",
   "execution_count": 145,
   "id": "ec02bbcf",
   "metadata": {},
   "outputs": [
    {
     "data": {
      "text/plain": [
       "[1, 2, 3, 4, 50, 60, 77, 99, 77]"
      ]
     },
     "execution_count": 145,
     "metadata": {},
     "output_type": "execute_result"
    }
   ],
   "source": [
    "num1"
   ]
  },
  {
   "cell_type": "code",
   "execution_count": 146,
   "id": "756399c1",
   "metadata": {},
   "outputs": [
    {
     "data": {
      "text/plain": [
       "[1, 2, 3, 4, 50, 60]"
      ]
     },
     "execution_count": 146,
     "metadata": {},
     "output_type": "execute_result"
    }
   ],
   "source": [
    "num1.pop()\n",
    "num1.pop()\n",
    "num1.pop()\n",
    "num1"
   ]
  },
  {
   "cell_type": "code",
   "execution_count": 147,
   "id": "b33d5bbf",
   "metadata": {},
   "outputs": [
    {
     "data": {
      "text/plain": [
       "[1, 2, 3, 4, 50, 60]"
      ]
     },
     "execution_count": 147,
     "metadata": {},
     "output_type": "execute_result"
    }
   ],
   "source": [
    "## ordering the list\n",
    "## 1. reverse()\n",
    "## 2. sort()"
   ]
  },
  {
   "cell_type": "code",
   "execution_count": 149,
   "id": "f4548625",
   "metadata": {},
   "outputs": [
    {
     "name": "stdout",
     "output_type": "stream",
     "text": [
      "[60, 50, 4, 3, 2, 1]\n"
     ]
    },
    {
     "data": {
      "text/plain": [
       "[1, 2, 3, 4, 50, 60]"
      ]
     },
     "execution_count": 149,
     "metadata": {},
     "output_type": "execute_result"
    }
   ],
   "source": [
    "print(num1)\n",
    "num1.reverse()\n",
    "num1"
   ]
  },
  {
   "cell_type": "code",
   "execution_count": 153,
   "id": "9e763c1b",
   "metadata": {},
   "outputs": [
    {
     "name": "stdout",
     "output_type": "stream",
     "text": [
      "[-23, 0, 111, 222, 231, 333, 369]\n",
      "[369, 333, 231, 222, 111, 0, -23]\n"
     ]
    }
   ],
   "source": [
    "## 2. sort()\n",
    "num3 = [231, -23, 0, 369, 111, 222, 333]\n",
    "num3.sort()\n",
    "print(num3)\n",
    "num3.sort(reverse = True)\n",
    "print(num3)"
   ]
  },
  {
   "cell_type": "code",
   "execution_count": 155,
   "id": "a04d3cca",
   "metadata": {},
   "outputs": [
    {
     "data": {
      "text/plain": [
       "['Kong', 'Lion', 'Tiger', 'zebra']"
      ]
     },
     "execution_count": 155,
     "metadata": {},
     "output_type": "execute_result"
    }
   ],
   "source": [
    "string = [\"zebra\", \"Lion\", \"Tiger\", \"Kong\"]\n",
    "string.sort()\n",
    "string"
   ]
  },
  {
   "cell_type": "code",
   "execution_count": 158,
   "id": "82a40369",
   "metadata": {},
   "outputs": [
    {
     "ename": "TypeError",
     "evalue": "'<' not supported between instances of 'str' and 'int'",
     "output_type": "error",
     "traceback": [
      "\u001b[1;31m---------------------------------------------------------------------------\u001b[0m",
      "\u001b[1;31mTypeError\u001b[0m                                 Traceback (most recent call last)",
      "\u001b[1;32m<ipython-input-158-596a71d539d2>\u001b[0m in \u001b[0;36m<module>\u001b[1;34m\u001b[0m\n\u001b[0;32m      1\u001b[0m \u001b[0mmix_list\u001b[0m \u001b[1;33m=\u001b[0m \u001b[1;33m[\u001b[0m\u001b[1;36m1\u001b[0m\u001b[1;33m,\u001b[0m\u001b[1;36m2\u001b[0m\u001b[1;33m,\u001b[0m \u001b[1;36m3\u001b[0m\u001b[1;33m,\u001b[0m \u001b[1;34m\"Kong\"\u001b[0m\u001b[1;33m,\u001b[0m \u001b[1;34m\"Iron Man\"\u001b[0m\u001b[1;33m]\u001b[0m\u001b[1;33m\u001b[0m\u001b[1;33m\u001b[0m\u001b[0m\n\u001b[1;32m----> 2\u001b[1;33m \u001b[0mmix_list\u001b[0m\u001b[1;33m.\u001b[0m\u001b[0msort\u001b[0m\u001b[1;33m(\u001b[0m\u001b[1;33m)\u001b[0m\u001b[1;33m\u001b[0m\u001b[1;33m\u001b[0m\u001b[0m\n\u001b[0m",
      "\u001b[1;31mTypeError\u001b[0m: '<' not supported between instances of 'str' and 'int'"
     ]
    }
   ],
   "source": [
    "mix_list = [1,2, 3, \"Kong\", \"Iron Man\"]\n",
    "mix_list.sort()"
   ]
  },
  {
   "cell_type": "code",
   "execution_count": 159,
   "id": "f19341d8",
   "metadata": {},
   "outputs": [
    {
     "data": {
      "text/plain": [
       "[1, 2, 3, 11, 22, 333]"
      ]
     },
     "execution_count": 159,
     "metadata": {},
     "output_type": "execute_result"
    }
   ],
   "source": [
    "a = [1, 2, 3]\n",
    "b = [11, 22, 333]\n",
    "a + b    ## Both should be list "
   ]
  },
  {
   "cell_type": "code",
   "execution_count": 160,
   "id": "e03c1e84",
   "metadata": {},
   "outputs": [
    {
     "ename": "TypeError",
     "evalue": "can only concatenate list (not \"tuple\") to list",
     "output_type": "error",
     "traceback": [
      "\u001b[1;31m---------------------------------------------------------------------------\u001b[0m",
      "\u001b[1;31mTypeError\u001b[0m                                 Traceback (most recent call last)",
      "\u001b[1;32m<ipython-input-160-f3c99dca625a>\u001b[0m in \u001b[0;36m<module>\u001b[1;34m\u001b[0m\n\u001b[0;32m      1\u001b[0m \u001b[0mc\u001b[0m \u001b[1;33m=\u001b[0m\u001b[1;33m(\u001b[0m\u001b[1;36m1\u001b[0m\u001b[1;33m,\u001b[0m\u001b[1;36m22\u001b[0m\u001b[1;33m,\u001b[0m \u001b[1;36m333\u001b[0m\u001b[1;33m)\u001b[0m\u001b[1;33m\u001b[0m\u001b[1;33m\u001b[0m\u001b[0m\n\u001b[1;32m----> 2\u001b[1;33m \u001b[0ma\u001b[0m\u001b[1;33m+\u001b[0m\u001b[0mc\u001b[0m\u001b[1;33m\u001b[0m\u001b[1;33m\u001b[0m\u001b[0m\n\u001b[0m",
      "\u001b[1;31mTypeError\u001b[0m: can only concatenate list (not \"tuple\") to list"
     ]
    }
   ],
   "source": [
    "c =(1,22, 333)\n",
    "a+c"
   ]
  },
  {
   "cell_type": "code",
   "execution_count": 161,
   "id": "7b8c9fea",
   "metadata": {},
   "outputs": [
    {
     "ename": "TypeError",
     "evalue": "can only concatenate list (not \"int\") to list",
     "output_type": "error",
     "traceback": [
      "\u001b[1;31m---------------------------------------------------------------------------\u001b[0m",
      "\u001b[1;31mTypeError\u001b[0m                                 Traceback (most recent call last)",
      "\u001b[1;32m<ipython-input-161-2716b343c107>\u001b[0m in \u001b[0;36m<module>\u001b[1;34m\u001b[0m\n\u001b[1;32m----> 1\u001b[1;33m \u001b[0ma\u001b[0m \u001b[1;33m+\u001b[0m \u001b[1;36m10\u001b[0m\u001b[1;33m\u001b[0m\u001b[1;33m\u001b[0m\u001b[0m\n\u001b[0m",
      "\u001b[1;31mTypeError\u001b[0m: can only concatenate list (not \"int\") to list"
     ]
    }
   ],
   "source": [
    "a + 10"
   ]
  },
  {
   "cell_type": "code",
   "execution_count": 165,
   "id": "7e85bf0a",
   "metadata": {},
   "outputs": [
    {
     "name": "stdout",
     "output_type": "stream",
     "text": [
      "(1, 22, 333, 1, 22, 333, 1, 22, 333)\n",
      "[1, 2, 3, 1, 2, 3, 1, 2, 3, 1, 2, 3, 1, 2, 3]\n"
     ]
    }
   ],
   "source": [
    "## Repetiton\n",
    "y = c*3\n",
    "y\n",
    "print(y)\n",
    "y = a * 5\n",
    "print(y)"
   ]
  },
  {
   "cell_type": "code",
   "execution_count": null,
   "id": "3deff289",
   "metadata": {},
   "outputs": [],
   "source": [
    "## Comparision"
   ]
  },
  {
   "cell_type": "code",
   "execution_count": 168,
   "id": "35cedde3",
   "metadata": {},
   "outputs": [
    {
     "name": "stdout",
     "output_type": "stream",
     "text": [
      "True\n"
     ]
    }
   ],
   "source": [
    "s1 = \"Apple\"\n",
    "s2 = \"Apple\"\n",
    "print(s1 == s2)"
   ]
  },
  {
   "cell_type": "code",
   "execution_count": 171,
   "id": "9a932fc5",
   "metadata": {},
   "outputs": [
    {
     "name": "stdout",
     "output_type": "stream",
     "text": [
      "True\n",
      "False\n",
      "False\n"
     ]
    }
   ],
   "source": [
    "l1 = [-1, 0, 1]\n",
    "l2 = [-1, 0, 1]\n",
    "l3 = [-1, 1, 0]\n",
    "t1 = (-1, 0, 1)\n",
    "\n",
    "print(l1 == l2)\n",
    "print(l1 == l3)\n",
    "print(l1 == t1)"
   ]
  },
  {
   "cell_type": "code",
   "execution_count": 172,
   "id": "f5c2a0f9",
   "metadata": {},
   "outputs": [],
   "source": [
    "# Membership operator\n",
    "## 1. In\n",
    "## 2. Not In"
   ]
  },
  {
   "cell_type": "code",
   "execution_count": 175,
   "id": "b89fcf03",
   "metadata": {},
   "outputs": [
    {
     "data": {
      "text/plain": [
       "[1, 2, 3, 4, 50, 60, 111]"
      ]
     },
     "execution_count": 175,
     "metadata": {},
     "output_type": "execute_result"
    }
   ],
   "source": [
    "num1 + [111]"
   ]
  },
  {
   "cell_type": "code",
   "execution_count": 177,
   "id": "2de8af03",
   "metadata": {},
   "outputs": [
    {
     "name": "stdout",
     "output_type": "stream",
     "text": [
      "False\n",
      "False\n"
     ]
    }
   ],
   "source": [
    "print(111 in num1)\n",
    "print(-1 in num1)"
   ]
  },
  {
   "cell_type": "code",
   "execution_count": 181,
   "id": "0cab064e",
   "metadata": {},
   "outputs": [
    {
     "name": "stdout",
     "output_type": "stream",
     "text": [
      "True\n",
      "True\n"
     ]
    }
   ],
   "source": [
    "## clear() Function\n",
    "print(111 not in num1)\n",
    "print(-1 not in num1)"
   ]
  },
  {
   "cell_type": "code",
   "execution_count": 182,
   "id": "6fedcd3c",
   "metadata": {},
   "outputs": [
    {
     "name": "stdout",
     "output_type": "stream",
     "text": [
      "[-2, -1, 0, 1, 2, 3]\n",
      "[]\n"
     ]
    }
   ],
   "source": [
    "num3 = [-2, -1, 0, 1, 2 , 3]\n",
    "print(num3)\n",
    "num3.clear()\n",
    "print(num3)"
   ]
  },
  {
   "cell_type": "code",
   "execution_count": 189,
   "id": "4ebee1b3",
   "metadata": {},
   "outputs": [],
   "source": [
    "## Nested List\n",
    "nlist = [10, 20, [1, 3]]"
   ]
  },
  {
   "cell_type": "code",
   "execution_count": 193,
   "id": "6b33944d",
   "metadata": {},
   "outputs": [
    {
     "name": "stdout",
     "output_type": "stream",
     "text": [
      "20\n",
      "3\n"
     ]
    }
   ],
   "source": [
    "print(nlist[1])\n",
    "print(nlist[2][1])"
   ]
  },
  {
   "cell_type": "code",
   "execution_count": 197,
   "id": "5b9ef687",
   "metadata": {},
   "outputs": [
    {
     "data": {
      "text/plain": [
       "[1, 2, [10, 20, 'DataScientist']]"
      ]
     },
     "execution_count": 197,
     "metadata": {},
     "output_type": "execute_result"
    }
   ],
   "source": [
    "nlist2 = [1, 2, [10, 20, \"Data Scientist\"]]\n",
    "nlist2"
   ]
  },
  {
   "cell_type": "code",
   "execution_count": 204,
   "id": "04e2affe",
   "metadata": {},
   "outputs": [
    {
     "name": "stdout",
     "output_type": "stream",
     "text": [
      "DataScientist\n",
      "i\n",
      "tsitneicSataD\n"
     ]
    }
   ],
   "source": [
    "print(nlist2[2][2])\n",
    "print(nlist2[2][2][6])\n",
    "print(nlist2[2][2][::-1])"
   ]
  },
  {
   "cell_type": "code",
   "execution_count": 205,
   "id": "42184095",
   "metadata": {},
   "outputs": [],
   "source": [
    "## Tuple\n",
    "## Same as list but immutable"
   ]
  },
  {
   "cell_type": "code",
   "execution_count": 206,
   "id": "378fbe57",
   "metadata": {},
   "outputs": [
    {
     "data": {
      "text/plain": [
       "((), tuple)"
      ]
     },
     "execution_count": 206,
     "metadata": {},
     "output_type": "execute_result"
    }
   ],
   "source": [
    "t = ()\n",
    "t, type(t)"
   ]
  },
  {
   "cell_type": "code",
   "execution_count": 207,
   "id": "119f7768",
   "metadata": {},
   "outputs": [
    {
     "data": {
      "text/plain": [
       "(1, 2, 3, 4, 5)"
      ]
     },
     "execution_count": 207,
     "metadata": {},
     "output_type": "execute_result"
    }
   ],
   "source": [
    "t = (1, 2, 3, 4, 5)\n",
    "t"
   ]
  },
  {
   "cell_type": "code",
   "execution_count": 209,
   "id": "3b1477ba",
   "metadata": {},
   "outputs": [
    {
     "ename": "AttributeError",
     "evalue": "'tuple' object has no attribute 'append'",
     "output_type": "error",
     "traceback": [
      "\u001b[1;31m---------------------------------------------------------------------------\u001b[0m",
      "\u001b[1;31mAttributeError\u001b[0m                            Traceback (most recent call last)",
      "\u001b[1;32m<ipython-input-209-a27d2174076b>\u001b[0m in \u001b[0;36m<module>\u001b[1;34m\u001b[0m\n\u001b[1;32m----> 1\u001b[1;33m \u001b[0mt\u001b[0m\u001b[1;33m.\u001b[0m\u001b[0mappend\u001b[0m\u001b[1;33m(\u001b[0m\u001b[1;33m-\u001b[0m\u001b[1;36m12\u001b[0m\u001b[1;33m)\u001b[0m\u001b[1;33m\u001b[0m\u001b[1;33m\u001b[0m\u001b[0m\n\u001b[0m",
      "\u001b[1;31mAttributeError\u001b[0m: 'tuple' object has no attribute 'append'"
     ]
    }
   ],
   "source": [
    "t.append(-12)"
   ]
  },
  {
   "cell_type": "code",
   "execution_count": 210,
   "id": "bfefdb90",
   "metadata": {},
   "outputs": [
    {
     "ename": "TypeError",
     "evalue": "'tuple' object does not support item assignment",
     "output_type": "error",
     "traceback": [
      "\u001b[1;31m---------------------------------------------------------------------------\u001b[0m",
      "\u001b[1;31mTypeError\u001b[0m                                 Traceback (most recent call last)",
      "\u001b[1;32m<ipython-input-210-95a1c443bf88>\u001b[0m in \u001b[0;36m<module>\u001b[1;34m\u001b[0m\n\u001b[1;32m----> 1\u001b[1;33m \u001b[0mt\u001b[0m\u001b[1;33m[\u001b[0m\u001b[1;36m1\u001b[0m\u001b[1;33m]\u001b[0m \u001b[1;33m=\u001b[0m \u001b[1;36m100\u001b[0m\u001b[1;33m\u001b[0m\u001b[1;33m\u001b[0m\u001b[0m\n\u001b[0m",
      "\u001b[1;31mTypeError\u001b[0m: 'tuple' object does not support item assignment"
     ]
    }
   ],
   "source": [
    "t[1] = 100"
   ]
  },
  {
   "cell_type": "code",
   "execution_count": 213,
   "id": "d2764a91",
   "metadata": {},
   "outputs": [
    {
     "name": "stdout",
     "output_type": "stream",
     "text": [
      "(10, 20, 30, 40, 50, 60)\n"
     ]
    }
   ],
   "source": [
    "t1 = 10, 20, 30\n",
    "t2 = (40, 50 ,60)\n",
    "\n",
    "t3 = t1 + t2\n",
    "print(t3)"
   ]
  },
  {
   "cell_type": "code",
   "execution_count": null,
   "id": "5f6bfc65",
   "metadata": {},
   "outputs": [],
   "source": [
    "## Inbuilt function in Tuple\n",
    "'''\n",
    "1. len()\n",
    "2. count()\n",
    "3. index()\n",
    "4. max()\n",
    "5. min\n",
    "'''"
   ]
  },
  {
   "cell_type": "code",
   "execution_count": 214,
   "id": "7de1d403",
   "metadata": {},
   "outputs": [
    {
     "data": {
      "text/plain": [
       "(10, 20, 30, 40, 50, 60)"
      ]
     },
     "execution_count": 214,
     "metadata": {},
     "output_type": "execute_result"
    }
   ],
   "source": [
    "t3"
   ]
  },
  {
   "cell_type": "code",
   "execution_count": 215,
   "id": "638950b7",
   "metadata": {},
   "outputs": [
    {
     "data": {
      "text/plain": [
       "6"
      ]
     },
     "execution_count": 215,
     "metadata": {},
     "output_type": "execute_result"
    }
   ],
   "source": [
    "len(t3)"
   ]
  },
  {
   "cell_type": "code",
   "execution_count": 217,
   "id": "4ca0bf95",
   "metadata": {},
   "outputs": [
    {
     "data": {
      "text/plain": [
       "1"
      ]
     },
     "execution_count": 217,
     "metadata": {},
     "output_type": "execute_result"
    }
   ],
   "source": [
    "t3.count(50)"
   ]
  },
  {
   "cell_type": "code",
   "execution_count": 218,
   "id": "17481adb",
   "metadata": {},
   "outputs": [
    {
     "data": {
      "text/plain": [
       "4"
      ]
     },
     "execution_count": 218,
     "metadata": {},
     "output_type": "execute_result"
    }
   ],
   "source": [
    "t3.index(50)"
   ]
  },
  {
   "cell_type": "code",
   "execution_count": 221,
   "id": "4560262b",
   "metadata": {},
   "outputs": [
    {
     "ename": "AttributeError",
     "evalue": "'tuple' object has no attribute 'sort'",
     "output_type": "error",
     "traceback": [
      "\u001b[1;31m---------------------------------------------------------------------------\u001b[0m",
      "\u001b[1;31mAttributeError\u001b[0m                            Traceback (most recent call last)",
      "\u001b[1;32m<ipython-input-221-b8fc511a9b1f>\u001b[0m in \u001b[0;36m<module>\u001b[1;34m\u001b[0m\n\u001b[0;32m      1\u001b[0m \u001b[0mt4\u001b[0m \u001b[1;33m=\u001b[0m \u001b[1;33m(\u001b[0m\u001b[1;36m111\u001b[0m\u001b[1;33m,\u001b[0m \u001b[1;33m-\u001b[0m\u001b[1;36m23\u001b[0m\u001b[1;33m,\u001b[0m \u001b[1;36m369\u001b[0m\u001b[1;33m,\u001b[0m \u001b[1;36m1\u001b[0m\u001b[1;33m,\u001b[0m \u001b[1;33m-\u001b[0m\u001b[1;36m10\u001b[0m\u001b[1;33m,\u001b[0m \u001b[1;36m0\u001b[0m\u001b[1;33m,\u001b[0m \u001b[1;36m2\u001b[0m\u001b[1;33m)\u001b[0m\u001b[1;33m\u001b[0m\u001b[1;33m\u001b[0m\u001b[0m\n\u001b[1;32m----> 2\u001b[1;33m \u001b[0mt4\u001b[0m\u001b[1;33m.\u001b[0m\u001b[0msort\u001b[0m\u001b[1;33m(\u001b[0m\u001b[1;33m)\u001b[0m\u001b[1;33m\u001b[0m\u001b[1;33m\u001b[0m\u001b[0m\n\u001b[0m",
      "\u001b[1;31mAttributeError\u001b[0m: 'tuple' object has no attribute 'sort'"
     ]
    }
   ],
   "source": [
    "t4 = (111, -23, 369, 1, -10, 0, 2)\n",
    "t4.sort()"
   ]
  },
  {
   "cell_type": "code",
   "execution_count": 223,
   "id": "4d27203e",
   "metadata": {},
   "outputs": [
    {
     "data": {
      "text/plain": [
       "[(111, -23, 369, 1, -10, 0, 2)]"
      ]
     },
     "execution_count": 223,
     "metadata": {},
     "output_type": "execute_result"
    }
   ],
   "source": [
    "list_a = [t3]\n",
    "list_a"
   ]
  },
  {
   "cell_type": "code",
   "execution_count": 224,
   "id": "daa9dc5b",
   "metadata": {},
   "outputs": [],
   "source": [
    "list_a.append(3)"
   ]
  },
  {
   "cell_type": "code",
   "execution_count": 225,
   "id": "bf76ace9",
   "metadata": {},
   "outputs": [
    {
     "data": {
      "text/plain": [
       "[(111, -23, 369, 1, -10, 0, 2), 3]"
      ]
     },
     "execution_count": 225,
     "metadata": {},
     "output_type": "execute_result"
    }
   ],
   "source": [
    "list_a"
   ]
  },
  {
   "cell_type": "code",
   "execution_count": 226,
   "id": "6262da48",
   "metadata": {},
   "outputs": [
    {
     "ename": "TypeError",
     "evalue": "'tuple' object does not support item assignment",
     "output_type": "error",
     "traceback": [
      "\u001b[1;31m---------------------------------------------------------------------------\u001b[0m",
      "\u001b[1;31mTypeError\u001b[0m                                 Traceback (most recent call last)",
      "\u001b[1;32m<ipython-input-226-dfa287961ff3>\u001b[0m in \u001b[0;36m<module>\u001b[1;34m\u001b[0m\n\u001b[1;32m----> 1\u001b[1;33m \u001b[0mlist_a\u001b[0m\u001b[1;33m[\u001b[0m\u001b[1;36m0\u001b[0m\u001b[1;33m]\u001b[0m\u001b[1;33m[\u001b[0m\u001b[1;36m1\u001b[0m\u001b[1;33m]\u001b[0m \u001b[1;33m=\u001b[0m \u001b[1;36m1000\u001b[0m\u001b[1;33m\u001b[0m\u001b[1;33m\u001b[0m\u001b[0m\n\u001b[0m",
      "\u001b[1;31mTypeError\u001b[0m: 'tuple' object does not support item assignment"
     ]
    }
   ],
   "source": [
    "list_a[0][1] = 1000"
   ]
  },
  {
   "cell_type": "code",
   "execution_count": null,
   "id": "b0785cc6",
   "metadata": {},
   "outputs": [],
   "source": [
    "## Tuple to list"
   ]
  },
  {
   "cell_type": "code",
   "execution_count": 233,
   "id": "236e93f0",
   "metadata": {},
   "outputs": [
    {
     "name": "stdout",
     "output_type": "stream",
     "text": [
      "(10, 20, 30)\n",
      "[10, 20, 30]\n"
     ]
    }
   ],
   "source": [
    "print(t1)\n",
    "list_c = list(t1)\n",
    "print(list_c)"
   ]
  },
  {
   "cell_type": "code",
   "execution_count": 229,
   "id": "174cf3d9",
   "metadata": {},
   "outputs": [],
   "source": [
    "## max and min"
   ]
  },
  {
   "cell_type": "code",
   "execution_count": 230,
   "id": "6971067d",
   "metadata": {},
   "outputs": [
    {
     "data": {
      "text/plain": [
       "(10, 20, 30)"
      ]
     },
     "execution_count": 230,
     "metadata": {},
     "output_type": "execute_result"
    }
   ],
   "source": [
    "t1"
   ]
  },
  {
   "cell_type": "code",
   "execution_count": 232,
   "id": "f9f0978c",
   "metadata": {},
   "outputs": [
    {
     "data": {
      "text/plain": [
       "30"
      ]
     },
     "execution_count": 232,
     "metadata": {},
     "output_type": "execute_result"
    }
   ],
   "source": [
    "max(t1)"
   ]
  },
  {
   "cell_type": "code",
   "execution_count": null,
   "id": "e42efb64",
   "metadata": {},
   "outputs": [],
   "source": []
  }
 ],
 "metadata": {
  "kernelspec": {
   "display_name": "Python 3",
   "language": "python",
   "name": "python3"
  },
  "language_info": {
   "codemirror_mode": {
    "name": "ipython",
    "version": 3
   },
   "file_extension": ".py",
   "mimetype": "text/x-python",
   "name": "python",
   "nbconvert_exporter": "python",
   "pygments_lexer": "ipython3",
   "version": "3.8.8"
  }
 },
 "nbformat": 4,
 "nbformat_minor": 5
}
