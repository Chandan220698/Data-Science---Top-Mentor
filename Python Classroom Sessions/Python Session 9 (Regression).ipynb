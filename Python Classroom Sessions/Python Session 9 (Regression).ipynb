{
 "cells": [
  {
   "cell_type": "code",
   "execution_count": 2,
   "id": "38843da5",
   "metadata": {},
   "outputs": [],
   "source": [
    "import pandas as pd\n",
    "import seaborn as sns\n",
    "import matplotlib.pyplot as plt"
   ]
  },
  {
   "cell_type": "code",
   "execution_count": 3,
   "id": "210f6a06",
   "metadata": {},
   "outputs": [],
   "source": [
    "df = pd.read_csv('Car_sales.csv')"
   ]
  },
  {
   "cell_type": "code",
   "execution_count": 4,
   "id": "16c136c5",
   "metadata": {},
   "outputs": [
    {
     "data": {
      "text/html": [
       "<div>\n",
       "<style scoped>\n",
       "    .dataframe tbody tr th:only-of-type {\n",
       "        vertical-align: middle;\n",
       "    }\n",
       "\n",
       "    .dataframe tbody tr th {\n",
       "        vertical-align: top;\n",
       "    }\n",
       "\n",
       "    .dataframe thead th {\n",
       "        text-align: right;\n",
       "    }\n",
       "</style>\n",
       "<table border=\"1\" class=\"dataframe\">\n",
       "  <thead>\n",
       "    <tr style=\"text-align: right;\">\n",
       "      <th></th>\n",
       "      <th>Manufacturer</th>\n",
       "      <th>Model</th>\n",
       "      <th>Sales_in_thousands</th>\n",
       "      <th>__year_resale_value</th>\n",
       "      <th>Vehicle_type</th>\n",
       "      <th>Price_in_thousands</th>\n",
       "      <th>Engine_size</th>\n",
       "      <th>Horsepower</th>\n",
       "      <th>Wheelbase</th>\n",
       "      <th>Width</th>\n",
       "      <th>Length</th>\n",
       "      <th>Curb_weight</th>\n",
       "      <th>Fuel_capacity</th>\n",
       "      <th>Fuel_efficiency</th>\n",
       "      <th>Latest_Launch</th>\n",
       "      <th>Power_perf_factor</th>\n",
       "    </tr>\n",
       "  </thead>\n",
       "  <tbody>\n",
       "    <tr>\n",
       "      <th>0</th>\n",
       "      <td>Acura</td>\n",
       "      <td>Integra</td>\n",
       "      <td>16.919</td>\n",
       "      <td>16.360</td>\n",
       "      <td>Passenger</td>\n",
       "      <td>21.50</td>\n",
       "      <td>1.8</td>\n",
       "      <td>140.0</td>\n",
       "      <td>101.2</td>\n",
       "      <td>67.3</td>\n",
       "      <td>172.4</td>\n",
       "      <td>2.639</td>\n",
       "      <td>13.2</td>\n",
       "      <td>28.0</td>\n",
       "      <td>02-02-2012</td>\n",
       "      <td>58.280150</td>\n",
       "    </tr>\n",
       "    <tr>\n",
       "      <th>1</th>\n",
       "      <td>Acura</td>\n",
       "      <td>TL</td>\n",
       "      <td>39.384</td>\n",
       "      <td>19.875</td>\n",
       "      <td>Passenger</td>\n",
       "      <td>28.40</td>\n",
       "      <td>3.2</td>\n",
       "      <td>225.0</td>\n",
       "      <td>108.1</td>\n",
       "      <td>70.3</td>\n",
       "      <td>192.9</td>\n",
       "      <td>3.517</td>\n",
       "      <td>17.2</td>\n",
       "      <td>25.0</td>\n",
       "      <td>06-03-2011</td>\n",
       "      <td>91.370778</td>\n",
       "    </tr>\n",
       "    <tr>\n",
       "      <th>2</th>\n",
       "      <td>Acura</td>\n",
       "      <td>CL</td>\n",
       "      <td>14.114</td>\n",
       "      <td>18.225</td>\n",
       "      <td>Passenger</td>\n",
       "      <td>NaN</td>\n",
       "      <td>3.2</td>\n",
       "      <td>225.0</td>\n",
       "      <td>106.9</td>\n",
       "      <td>70.6</td>\n",
       "      <td>192.0</td>\n",
       "      <td>3.470</td>\n",
       "      <td>17.2</td>\n",
       "      <td>26.0</td>\n",
       "      <td>01-04-2012</td>\n",
       "      <td>NaN</td>\n",
       "    </tr>\n",
       "    <tr>\n",
       "      <th>3</th>\n",
       "      <td>Acura</td>\n",
       "      <td>RL</td>\n",
       "      <td>8.588</td>\n",
       "      <td>29.725</td>\n",
       "      <td>Passenger</td>\n",
       "      <td>42.00</td>\n",
       "      <td>3.5</td>\n",
       "      <td>210.0</td>\n",
       "      <td>114.6</td>\n",
       "      <td>71.4</td>\n",
       "      <td>196.6</td>\n",
       "      <td>3.850</td>\n",
       "      <td>18.0</td>\n",
       "      <td>22.0</td>\n",
       "      <td>03-10-2011</td>\n",
       "      <td>91.389779</td>\n",
       "    </tr>\n",
       "    <tr>\n",
       "      <th>4</th>\n",
       "      <td>Audi</td>\n",
       "      <td>A4</td>\n",
       "      <td>20.397</td>\n",
       "      <td>22.255</td>\n",
       "      <td>Passenger</td>\n",
       "      <td>23.99</td>\n",
       "      <td>1.8</td>\n",
       "      <td>150.0</td>\n",
       "      <td>102.6</td>\n",
       "      <td>68.2</td>\n",
       "      <td>178.0</td>\n",
       "      <td>2.998</td>\n",
       "      <td>16.4</td>\n",
       "      <td>27.0</td>\n",
       "      <td>10-08-2011</td>\n",
       "      <td>62.777639</td>\n",
       "    </tr>\n",
       "  </tbody>\n",
       "</table>\n",
       "</div>"
      ],
      "text/plain": [
       "  Manufacturer    Model  Sales_in_thousands  __year_resale_value Vehicle_type  \\\n",
       "0        Acura  Integra              16.919               16.360    Passenger   \n",
       "1        Acura       TL              39.384               19.875    Passenger   \n",
       "2        Acura       CL              14.114               18.225    Passenger   \n",
       "3        Acura       RL               8.588               29.725    Passenger   \n",
       "4         Audi       A4              20.397               22.255    Passenger   \n",
       "\n",
       "   Price_in_thousands  Engine_size  Horsepower  Wheelbase  Width  Length  \\\n",
       "0               21.50          1.8       140.0      101.2   67.3   172.4   \n",
       "1               28.40          3.2       225.0      108.1   70.3   192.9   \n",
       "2                 NaN          3.2       225.0      106.9   70.6   192.0   \n",
       "3               42.00          3.5       210.0      114.6   71.4   196.6   \n",
       "4               23.99          1.8       150.0      102.6   68.2   178.0   \n",
       "\n",
       "   Curb_weight  Fuel_capacity  Fuel_efficiency Latest_Launch  \\\n",
       "0        2.639           13.2             28.0    02-02-2012   \n",
       "1        3.517           17.2             25.0    06-03-2011   \n",
       "2        3.470           17.2             26.0    01-04-2012   \n",
       "3        3.850           18.0             22.0    03-10-2011   \n",
       "4        2.998           16.4             27.0    10-08-2011   \n",
       "\n",
       "   Power_perf_factor  \n",
       "0          58.280150  \n",
       "1          91.370778  \n",
       "2                NaN  \n",
       "3          91.389779  \n",
       "4          62.777639  "
      ]
     },
     "execution_count": 4,
     "metadata": {},
     "output_type": "execute_result"
    }
   ],
   "source": [
    "df.head()"
   ]
  },
  {
   "cell_type": "code",
   "execution_count": 5,
   "id": "9a99c8b1",
   "metadata": {},
   "outputs": [
    {
     "data": {
      "text/plain": [
       "(157, 16)"
      ]
     },
     "execution_count": 5,
     "metadata": {},
     "output_type": "execute_result"
    }
   ],
   "source": [
    "df.shape"
   ]
  },
  {
   "cell_type": "code",
   "execution_count": 6,
   "id": "6c567cbd",
   "metadata": {},
   "outputs": [
    {
     "data": {
      "text/plain": [
       "Index(['Manufacturer', 'Model', 'Sales_in_thousands', '__year_resale_value',\n",
       "       'Vehicle_type', 'Price_in_thousands', 'Engine_size', 'Horsepower',\n",
       "       'Wheelbase', 'Width', 'Length', 'Curb_weight', 'Fuel_capacity',\n",
       "       'Fuel_efficiency', 'Latest_Launch', 'Power_perf_factor'],\n",
       "      dtype='object')"
      ]
     },
     "execution_count": 6,
     "metadata": {},
     "output_type": "execute_result"
    }
   ],
   "source": [
    "df.columns"
   ]
  },
  {
   "cell_type": "code",
   "execution_count": 14,
   "id": "8cdcbd59",
   "metadata": {},
   "outputs": [],
   "source": [
    "## output - Sales_in_thousands (dependent variable)\n",
    "## Process of feature selection to determine independent variable\n",
    "\n",
    "## Process of feature selection\n",
    "## 1. correlation()\n",
    "## 2. variance selection method - It helps to select variables whose variance are high"
   ]
  },
  {
   "cell_type": "code",
   "execution_count": 8,
   "id": "1d122d44",
   "metadata": {},
   "outputs": [
    {
     "data": {
      "text/html": [
       "<div>\n",
       "<style scoped>\n",
       "    .dataframe tbody tr th:only-of-type {\n",
       "        vertical-align: middle;\n",
       "    }\n",
       "\n",
       "    .dataframe tbody tr th {\n",
       "        vertical-align: top;\n",
       "    }\n",
       "\n",
       "    .dataframe thead th {\n",
       "        text-align: right;\n",
       "    }\n",
       "</style>\n",
       "<table border=\"1\" class=\"dataframe\">\n",
       "  <thead>\n",
       "    <tr style=\"text-align: right;\">\n",
       "      <th></th>\n",
       "      <th>Sales_in_thousands</th>\n",
       "      <th>__year_resale_value</th>\n",
       "      <th>Price_in_thousands</th>\n",
       "      <th>Engine_size</th>\n",
       "      <th>Horsepower</th>\n",
       "      <th>Wheelbase</th>\n",
       "      <th>Width</th>\n",
       "      <th>Length</th>\n",
       "      <th>Curb_weight</th>\n",
       "      <th>Fuel_capacity</th>\n",
       "      <th>Fuel_efficiency</th>\n",
       "      <th>Power_perf_factor</th>\n",
       "    </tr>\n",
       "  </thead>\n",
       "  <tbody>\n",
       "    <tr>\n",
       "      <th>Sales_in_thousands</th>\n",
       "      <td>1.000000</td>\n",
       "      <td>-0.279034</td>\n",
       "      <td>-0.304734</td>\n",
       "      <td>0.019983</td>\n",
       "      <td>-0.197756</td>\n",
       "      <td>0.358179</td>\n",
       "      <td>0.140918</td>\n",
       "      <td>0.254980</td>\n",
       "      <td>0.008628</td>\n",
       "      <td>0.086540</td>\n",
       "      <td>-0.016764</td>\n",
       "      <td>-0.223252</td>\n",
       "    </tr>\n",
       "    <tr>\n",
       "      <th>__year_resale_value</th>\n",
       "      <td>-0.279034</td>\n",
       "      <td>1.000000</td>\n",
       "      <td>0.953840</td>\n",
       "      <td>0.531330</td>\n",
       "      <td>0.769081</td>\n",
       "      <td>-0.052270</td>\n",
       "      <td>0.178767</td>\n",
       "      <td>0.026548</td>\n",
       "      <td>0.361557</td>\n",
       "      <td>0.325567</td>\n",
       "      <td>-0.399880</td>\n",
       "      <td>0.827123</td>\n",
       "    </tr>\n",
       "    <tr>\n",
       "      <th>Price_in_thousands</th>\n",
       "      <td>-0.304734</td>\n",
       "      <td>0.953840</td>\n",
       "      <td>1.000000</td>\n",
       "      <td>0.626875</td>\n",
       "      <td>0.839744</td>\n",
       "      <td>0.110513</td>\n",
       "      <td>0.329136</td>\n",
       "      <td>0.156935</td>\n",
       "      <td>0.526224</td>\n",
       "      <td>0.423282</td>\n",
       "      <td>-0.492157</td>\n",
       "      <td>0.897945</td>\n",
       "    </tr>\n",
       "    <tr>\n",
       "      <th>Engine_size</th>\n",
       "      <td>0.019983</td>\n",
       "      <td>0.531330</td>\n",
       "      <td>0.626875</td>\n",
       "      <td>1.000000</td>\n",
       "      <td>0.837360</td>\n",
       "      <td>0.472130</td>\n",
       "      <td>0.690398</td>\n",
       "      <td>0.541424</td>\n",
       "      <td>0.760043</td>\n",
       "      <td>0.663022</td>\n",
       "      <td>-0.734622</td>\n",
       "      <td>0.818528</td>\n",
       "    </tr>\n",
       "    <tr>\n",
       "      <th>Horsepower</th>\n",
       "      <td>-0.197756</td>\n",
       "      <td>0.769081</td>\n",
       "      <td>0.839744</td>\n",
       "      <td>0.837360</td>\n",
       "      <td>1.000000</td>\n",
       "      <td>0.286308</td>\n",
       "      <td>0.539158</td>\n",
       "      <td>0.393364</td>\n",
       "      <td>0.610131</td>\n",
       "      <td>0.499907</td>\n",
       "      <td>-0.611332</td>\n",
       "      <td>0.992994</td>\n",
       "    </tr>\n",
       "    <tr>\n",
       "      <th>Wheelbase</th>\n",
       "      <td>0.358179</td>\n",
       "      <td>-0.052270</td>\n",
       "      <td>0.110513</td>\n",
       "      <td>0.472130</td>\n",
       "      <td>0.286308</td>\n",
       "      <td>1.000000</td>\n",
       "      <td>0.683135</td>\n",
       "      <td>0.839639</td>\n",
       "      <td>0.651016</td>\n",
       "      <td>0.654044</td>\n",
       "      <td>-0.497931</td>\n",
       "      <td>0.258852</td>\n",
       "    </tr>\n",
       "    <tr>\n",
       "      <th>Width</th>\n",
       "      <td>0.140918</td>\n",
       "      <td>0.178767</td>\n",
       "      <td>0.329136</td>\n",
       "      <td>0.690398</td>\n",
       "      <td>0.539158</td>\n",
       "      <td>0.683135</td>\n",
       "      <td>1.000000</td>\n",
       "      <td>0.710435</td>\n",
       "      <td>0.720927</td>\n",
       "      <td>0.656302</td>\n",
       "      <td>-0.602546</td>\n",
       "      <td>0.512025</td>\n",
       "    </tr>\n",
       "    <tr>\n",
       "      <th>Length</th>\n",
       "      <td>0.254980</td>\n",
       "      <td>0.026548</td>\n",
       "      <td>0.156935</td>\n",
       "      <td>0.541424</td>\n",
       "      <td>0.393364</td>\n",
       "      <td>0.839639</td>\n",
       "      <td>0.710435</td>\n",
       "      <td>1.000000</td>\n",
       "      <td>0.627163</td>\n",
       "      <td>0.563540</td>\n",
       "      <td>-0.446756</td>\n",
       "      <td>0.354095</td>\n",
       "    </tr>\n",
       "    <tr>\n",
       "      <th>Curb_weight</th>\n",
       "      <td>0.008628</td>\n",
       "      <td>0.361557</td>\n",
       "      <td>0.526224</td>\n",
       "      <td>0.760043</td>\n",
       "      <td>0.610131</td>\n",
       "      <td>0.651016</td>\n",
       "      <td>0.720927</td>\n",
       "      <td>0.627163</td>\n",
       "      <td>1.000000</td>\n",
       "      <td>0.863968</td>\n",
       "      <td>-0.818402</td>\n",
       "      <td>0.612071</td>\n",
       "    </tr>\n",
       "    <tr>\n",
       "      <th>Fuel_capacity</th>\n",
       "      <td>0.086540</td>\n",
       "      <td>0.325567</td>\n",
       "      <td>0.423282</td>\n",
       "      <td>0.663022</td>\n",
       "      <td>0.499907</td>\n",
       "      <td>0.654044</td>\n",
       "      <td>0.656302</td>\n",
       "      <td>0.563540</td>\n",
       "      <td>0.863968</td>\n",
       "      <td>1.000000</td>\n",
       "      <td>-0.801512</td>\n",
       "      <td>0.501184</td>\n",
       "    </tr>\n",
       "    <tr>\n",
       "      <th>Fuel_efficiency</th>\n",
       "      <td>-0.016764</td>\n",
       "      <td>-0.399880</td>\n",
       "      <td>-0.492157</td>\n",
       "      <td>-0.734622</td>\n",
       "      <td>-0.611332</td>\n",
       "      <td>-0.497931</td>\n",
       "      <td>-0.602546</td>\n",
       "      <td>-0.446756</td>\n",
       "      <td>-0.818402</td>\n",
       "      <td>-0.801512</td>\n",
       "      <td>1.000000</td>\n",
       "      <td>-0.607495</td>\n",
       "    </tr>\n",
       "    <tr>\n",
       "      <th>Power_perf_factor</th>\n",
       "      <td>-0.223252</td>\n",
       "      <td>0.827123</td>\n",
       "      <td>0.897945</td>\n",
       "      <td>0.818528</td>\n",
       "      <td>0.992994</td>\n",
       "      <td>0.258852</td>\n",
       "      <td>0.512025</td>\n",
       "      <td>0.354095</td>\n",
       "      <td>0.612071</td>\n",
       "      <td>0.501184</td>\n",
       "      <td>-0.607495</td>\n",
       "      <td>1.000000</td>\n",
       "    </tr>\n",
       "  </tbody>\n",
       "</table>\n",
       "</div>"
      ],
      "text/plain": [
       "                     Sales_in_thousands  __year_resale_value  \\\n",
       "Sales_in_thousands             1.000000            -0.279034   \n",
       "__year_resale_value           -0.279034             1.000000   \n",
       "Price_in_thousands            -0.304734             0.953840   \n",
       "Engine_size                    0.019983             0.531330   \n",
       "Horsepower                    -0.197756             0.769081   \n",
       "Wheelbase                      0.358179            -0.052270   \n",
       "Width                          0.140918             0.178767   \n",
       "Length                         0.254980             0.026548   \n",
       "Curb_weight                    0.008628             0.361557   \n",
       "Fuel_capacity                  0.086540             0.325567   \n",
       "Fuel_efficiency               -0.016764            -0.399880   \n",
       "Power_perf_factor             -0.223252             0.827123   \n",
       "\n",
       "                     Price_in_thousands  Engine_size  Horsepower  Wheelbase  \\\n",
       "Sales_in_thousands            -0.304734     0.019983   -0.197756   0.358179   \n",
       "__year_resale_value            0.953840     0.531330    0.769081  -0.052270   \n",
       "Price_in_thousands             1.000000     0.626875    0.839744   0.110513   \n",
       "Engine_size                    0.626875     1.000000    0.837360   0.472130   \n",
       "Horsepower                     0.839744     0.837360    1.000000   0.286308   \n",
       "Wheelbase                      0.110513     0.472130    0.286308   1.000000   \n",
       "Width                          0.329136     0.690398    0.539158   0.683135   \n",
       "Length                         0.156935     0.541424    0.393364   0.839639   \n",
       "Curb_weight                    0.526224     0.760043    0.610131   0.651016   \n",
       "Fuel_capacity                  0.423282     0.663022    0.499907   0.654044   \n",
       "Fuel_efficiency               -0.492157    -0.734622   -0.611332  -0.497931   \n",
       "Power_perf_factor              0.897945     0.818528    0.992994   0.258852   \n",
       "\n",
       "                        Width    Length  Curb_weight  Fuel_capacity  \\\n",
       "Sales_in_thousands   0.140918  0.254980     0.008628       0.086540   \n",
       "__year_resale_value  0.178767  0.026548     0.361557       0.325567   \n",
       "Price_in_thousands   0.329136  0.156935     0.526224       0.423282   \n",
       "Engine_size          0.690398  0.541424     0.760043       0.663022   \n",
       "Horsepower           0.539158  0.393364     0.610131       0.499907   \n",
       "Wheelbase            0.683135  0.839639     0.651016       0.654044   \n",
       "Width                1.000000  0.710435     0.720927       0.656302   \n",
       "Length               0.710435  1.000000     0.627163       0.563540   \n",
       "Curb_weight          0.720927  0.627163     1.000000       0.863968   \n",
       "Fuel_capacity        0.656302  0.563540     0.863968       1.000000   \n",
       "Fuel_efficiency     -0.602546 -0.446756    -0.818402      -0.801512   \n",
       "Power_perf_factor    0.512025  0.354095     0.612071       0.501184   \n",
       "\n",
       "                     Fuel_efficiency  Power_perf_factor  \n",
       "Sales_in_thousands         -0.016764          -0.223252  \n",
       "__year_resale_value        -0.399880           0.827123  \n",
       "Price_in_thousands         -0.492157           0.897945  \n",
       "Engine_size                -0.734622           0.818528  \n",
       "Horsepower                 -0.611332           0.992994  \n",
       "Wheelbase                  -0.497931           0.258852  \n",
       "Width                      -0.602546           0.512025  \n",
       "Length                     -0.446756           0.354095  \n",
       "Curb_weight                -0.818402           0.612071  \n",
       "Fuel_capacity              -0.801512           0.501184  \n",
       "Fuel_efficiency             1.000000          -0.607495  \n",
       "Power_perf_factor          -0.607495           1.000000  "
      ]
     },
     "execution_count": 8,
     "metadata": {},
     "output_type": "execute_result"
    }
   ],
   "source": [
    "df.corr()"
   ]
  },
  {
   "cell_type": "code",
   "execution_count": 9,
   "id": "4ef9bfd1",
   "metadata": {},
   "outputs": [],
   "source": [
    "## to see corr of all with sales_in_thousand"
   ]
  },
  {
   "cell_type": "code",
   "execution_count": 10,
   "id": "1aabf6e7",
   "metadata": {},
   "outputs": [
    {
     "data": {
      "text/plain": [
       "Sales_in_thousands     1.000000\n",
       "__year_resale_value   -0.279034\n",
       "Price_in_thousands    -0.304734\n",
       "Engine_size            0.019983\n",
       "Horsepower            -0.197756\n",
       "Wheelbase              0.358179\n",
       "Width                  0.140918\n",
       "Length                 0.254980\n",
       "Curb_weight            0.008628\n",
       "Fuel_capacity          0.086540\n",
       "Fuel_efficiency       -0.016764\n",
       "Power_perf_factor     -0.223252\n",
       "Name: Sales_in_thousands, dtype: float64"
      ]
     },
     "execution_count": 10,
     "metadata": {},
     "output_type": "execute_result"
    }
   ],
   "source": [
    "df.corr()['Sales_in_thousands']"
   ]
  },
  {
   "cell_type": "code",
   "execution_count": 12,
   "id": "00e8fc7a",
   "metadata": {},
   "outputs": [
    {
     "data": {
      "text/plain": [
       "<AxesSubplot:>"
      ]
     },
     "execution_count": 12,
     "metadata": {},
     "output_type": "execute_result"
    },
    {
     "data": {
      "image/png": "[encoded data removed]",
      "text/plain": [
       "<Figure size 432x288 with 2 Axes>"
      ]
     },
     "metadata": {
      "needs_background": "light"
     },
     "output_type": "display_data"
    }
   ],
   "source": [
    "sns.heatmap(df.corr())"
   ]
  },
  {
   "cell_type": "code",
   "execution_count": 13,
   "id": "323cb298",
   "metadata": {},
   "outputs": [
    {
     "data": {
      "text/plain": [
       "<AxesSubplot:>"
      ]
     },
     "execution_count": 13,
     "metadata": {},
     "output_type": "execute_result"
    },
    {
     "data": {
      "image/png": "[encoded data removed]",
      "text/plain": [
       "<Figure size 432x288 with 2 Axes>"
      ]
     },
     "metadata": {
      "needs_background": "light"
     },
     "output_type": "display_data"
    }
   ],
   "source": [
    "sns.heatmap(df.corr(), annot=True)"
   ]
  },
  {
   "cell_type": "code",
   "execution_count": 15,
   "id": "89efe0ea",
   "metadata": {},
   "outputs": [],
   "source": [
    "## 2. Variance selection"
   ]
  },
  {
   "cell_type": "code",
   "execution_count": 23,
   "id": "b1967035",
   "metadata": {},
   "outputs": [
    {
     "data": {
      "text/plain": [
       "Sales_in_thousands     4628.002257\n",
       "__year_resale_value     131.180007\n",
       "Price_in_thousands      205.969949\n",
       "Engine_size               1.091300\n",
       "Horsepower             3214.926385\n",
       "Wheelbase                58.389512\n",
       "Width                    11.915419\n",
       "Length                  180.412023\n",
       "Curb_weight               0.397532\n",
       "Fuel_capacity            15.115932\n",
       "Fuel_efficiency          18.341567\n",
       "Power_perf_factor       632.153558\n",
       "dtype: float64"
      ]
     },
     "execution_count": 23,
     "metadata": {},
     "output_type": "execute_result"
    }
   ],
   "source": [
    "df.var()"
   ]
  },
  {
   "cell_type": "code",
   "execution_count": 25,
   "id": "da7a8a94",
   "metadata": {},
   "outputs": [],
   "source": [
    "## selecting the high variance varaibles as they have more impact on output variable\n",
    "## In this case 'Horsepower' and 'Power_perf_factor'"
   ]
  },
  {
   "cell_type": "code",
   "execution_count": 27,
   "id": "af77aa14",
   "metadata": {},
   "outputs": [],
   "source": [
    "y = df['Sales_in_thousands']\n",
    "x = df[['Horsepower', 'Power_perf_factor']]"
   ]
  },
  {
   "cell_type": "code",
   "execution_count": 28,
   "id": "03c7abbc",
   "metadata": {},
   "outputs": [
    {
     "data": {
      "text/plain": [
       "Manufacturer            0\n",
       "Model                   0\n",
       "Sales_in_thousands      0\n",
       "__year_resale_value    36\n",
       "Vehicle_type            0\n",
       "Price_in_thousands      2\n",
       "Engine_size             1\n",
       "Horsepower              1\n",
       "Wheelbase               1\n",
       "Width                   1\n",
       "Length                  1\n",
       "Curb_weight             2\n",
       "Fuel_capacity           1\n",
       "Fuel_efficiency         3\n",
       "Latest_Launch           0\n",
       "Power_perf_factor       2\n",
       "dtype: int64"
      ]
     },
     "execution_count": 28,
     "metadata": {},
     "output_type": "execute_result"
    }
   ],
   "source": [
    "df.isnull().sum()"
   ]
  },
  {
   "cell_type": "code",
   "execution_count": 29,
   "id": "3c11921a",
   "metadata": {},
   "outputs": [
    {
     "data": {
      "text/plain": [
       "(157, 16)"
      ]
     },
     "execution_count": 29,
     "metadata": {},
     "output_type": "execute_result"
    }
   ],
   "source": [
    "df.shape"
   ]
  },
  {
   "cell_type": "code",
   "execution_count": 32,
   "id": "0c959fb0",
   "metadata": {},
   "outputs": [],
   "source": [
    "df1 = df.dropna(axis = 0, subset = ['Power_perf_factor'])"
   ]
  },
  {
   "cell_type": "code",
   "execution_count": 34,
   "id": "b4284ffd",
   "metadata": {},
   "outputs": [
    {
     "data": {
      "text/html": [
       "<div>\n",
       "<style scoped>\n",
       "    .dataframe tbody tr th:only-of-type {\n",
       "        vertical-align: middle;\n",
       "    }\n",
       "\n",
       "    .dataframe tbody tr th {\n",
       "        vertical-align: top;\n",
       "    }\n",
       "\n",
       "    .dataframe thead th {\n",
       "        text-align: right;\n",
       "    }\n",
       "</style>\n",
       "<table border=\"1\" class=\"dataframe\">\n",
       "  <thead>\n",
       "    <tr style=\"text-align: right;\">\n",
       "      <th></th>\n",
       "      <th>Manufacturer</th>\n",
       "      <th>Model</th>\n",
       "      <th>Sales_in_thousands</th>\n",
       "      <th>__year_resale_value</th>\n",
       "      <th>Vehicle_type</th>\n",
       "      <th>Price_in_thousands</th>\n",
       "      <th>Engine_size</th>\n",
       "      <th>Horsepower</th>\n",
       "      <th>Wheelbase</th>\n",
       "      <th>Width</th>\n",
       "      <th>Length</th>\n",
       "      <th>Curb_weight</th>\n",
       "      <th>Fuel_capacity</th>\n",
       "      <th>Fuel_efficiency</th>\n",
       "      <th>Latest_Launch</th>\n",
       "      <th>Power_perf_factor</th>\n",
       "    </tr>\n",
       "  </thead>\n",
       "  <tbody>\n",
       "    <tr>\n",
       "      <th>0</th>\n",
       "      <td>Acura</td>\n",
       "      <td>Integra</td>\n",
       "      <td>16.919</td>\n",
       "      <td>16.360</td>\n",
       "      <td>Passenger</td>\n",
       "      <td>21.50</td>\n",
       "      <td>1.8</td>\n",
       "      <td>140.0</td>\n",
       "      <td>101.2</td>\n",
       "      <td>67.3</td>\n",
       "      <td>172.4</td>\n",
       "      <td>2.639</td>\n",
       "      <td>13.2</td>\n",
       "      <td>28.0</td>\n",
       "      <td>02-02-2012</td>\n",
       "      <td>58.280150</td>\n",
       "    </tr>\n",
       "    <tr>\n",
       "      <th>1</th>\n",
       "      <td>Acura</td>\n",
       "      <td>TL</td>\n",
       "      <td>39.384</td>\n",
       "      <td>19.875</td>\n",
       "      <td>Passenger</td>\n",
       "      <td>28.40</td>\n",
       "      <td>3.2</td>\n",
       "      <td>225.0</td>\n",
       "      <td>108.1</td>\n",
       "      <td>70.3</td>\n",
       "      <td>192.9</td>\n",
       "      <td>3.517</td>\n",
       "      <td>17.2</td>\n",
       "      <td>25.0</td>\n",
       "      <td>06-03-2011</td>\n",
       "      <td>91.370778</td>\n",
       "    </tr>\n",
       "    <tr>\n",
       "      <th>3</th>\n",
       "      <td>Acura</td>\n",
       "      <td>RL</td>\n",
       "      <td>8.588</td>\n",
       "      <td>29.725</td>\n",
       "      <td>Passenger</td>\n",
       "      <td>42.00</td>\n",
       "      <td>3.5</td>\n",
       "      <td>210.0</td>\n",
       "      <td>114.6</td>\n",
       "      <td>71.4</td>\n",
       "      <td>196.6</td>\n",
       "      <td>3.850</td>\n",
       "      <td>18.0</td>\n",
       "      <td>22.0</td>\n",
       "      <td>03-10-2011</td>\n",
       "      <td>91.389779</td>\n",
       "    </tr>\n",
       "    <tr>\n",
       "      <th>4</th>\n",
       "      <td>Audi</td>\n",
       "      <td>A4</td>\n",
       "      <td>20.397</td>\n",
       "      <td>22.255</td>\n",
       "      <td>Passenger</td>\n",
       "      <td>23.99</td>\n",
       "      <td>1.8</td>\n",
       "      <td>150.0</td>\n",
       "      <td>102.6</td>\n",
       "      <td>68.2</td>\n",
       "      <td>178.0</td>\n",
       "      <td>2.998</td>\n",
       "      <td>16.4</td>\n",
       "      <td>27.0</td>\n",
       "      <td>10-08-2011</td>\n",
       "      <td>62.777639</td>\n",
       "    </tr>\n",
       "    <tr>\n",
       "      <th>5</th>\n",
       "      <td>Audi</td>\n",
       "      <td>A6</td>\n",
       "      <td>18.780</td>\n",
       "      <td>23.555</td>\n",
       "      <td>Passenger</td>\n",
       "      <td>33.95</td>\n",
       "      <td>2.8</td>\n",
       "      <td>200.0</td>\n",
       "      <td>108.7</td>\n",
       "      <td>76.1</td>\n",
       "      <td>192.0</td>\n",
       "      <td>3.561</td>\n",
       "      <td>18.5</td>\n",
       "      <td>22.0</td>\n",
       "      <td>08-09-2011</td>\n",
       "      <td>84.565105</td>\n",
       "    </tr>\n",
       "  </tbody>\n",
       "</table>\n",
       "</div>"
      ],
      "text/plain": [
       "  Manufacturer    Model  Sales_in_thousands  __year_resale_value Vehicle_type  \\\n",
       "0        Acura  Integra              16.919               16.360    Passenger   \n",
       "1        Acura       TL              39.384               19.875    Passenger   \n",
       "3        Acura       RL               8.588               29.725    Passenger   \n",
       "4         Audi       A4              20.397               22.255    Passenger   \n",
       "5         Audi       A6              18.780               23.555    Passenger   \n",
       "\n",
       "   Price_in_thousands  Engine_size  Horsepower  Wheelbase  Width  Length  \\\n",
       "0               21.50          1.8       140.0      101.2   67.3   172.4   \n",
       "1               28.40          3.2       225.0      108.1   70.3   192.9   \n",
       "3               42.00          3.5       210.0      114.6   71.4   196.6   \n",
       "4               23.99          1.8       150.0      102.6   68.2   178.0   \n",
       "5               33.95          2.8       200.0      108.7   76.1   192.0   \n",
       "\n",
       "   Curb_weight  Fuel_capacity  Fuel_efficiency Latest_Launch  \\\n",
       "0        2.639           13.2             28.0    02-02-2012   \n",
       "1        3.517           17.2             25.0    06-03-2011   \n",
       "3        3.850           18.0             22.0    03-10-2011   \n",
       "4        2.998           16.4             27.0    10-08-2011   \n",
       "5        3.561           18.5             22.0    08-09-2011   \n",
       "\n",
       "   Power_perf_factor  \n",
       "0          58.280150  \n",
       "1          91.370778  \n",
       "3          91.389779  \n",
       "4          62.777639  \n",
       "5          84.565105  "
      ]
     },
     "execution_count": 34,
     "metadata": {},
     "output_type": "execute_result"
    }
   ],
   "source": [
    "df1.head()"
   ]
  },
  {
   "cell_type": "code",
   "execution_count": 36,
   "id": "1c596a11",
   "metadata": {},
   "outputs": [
    {
     "data": {
      "text/plain": [
       "(155, 16)"
      ]
     },
     "execution_count": 36,
     "metadata": {},
     "output_type": "execute_result"
    }
   ],
   "source": [
    "df1.shape"
   ]
  },
  {
   "cell_type": "code",
   "execution_count": 37,
   "id": "df0675c8",
   "metadata": {},
   "outputs": [
    {
     "data": {
      "text/plain": [
       "Manufacturer            0\n",
       "Model                   0\n",
       "Sales_in_thousands      0\n",
       "__year_resale_value    36\n",
       "Vehicle_type            0\n",
       "Price_in_thousands      0\n",
       "Engine_size             0\n",
       "Horsepower              0\n",
       "Wheelbase               0\n",
       "Width                   0\n",
       "Length                  0\n",
       "Curb_weight             1\n",
       "Fuel_capacity           0\n",
       "Fuel_efficiency         2\n",
       "Latest_Launch           0\n",
       "Power_perf_factor       0\n",
       "dtype: int64"
      ]
     },
     "execution_count": 37,
     "metadata": {},
     "output_type": "execute_result"
    }
   ],
   "source": [
    "df1.isnull().sum()"
   ]
  },
  {
   "cell_type": "code",
   "execution_count": 38,
   "id": "b0bddbd5",
   "metadata": {},
   "outputs": [],
   "source": [
    "## We have dropped the rows where the 'Power_perf_factor' is null"
   ]
  },
  {
   "cell_type": "code",
   "execution_count": 39,
   "id": "b221a953",
   "metadata": {},
   "outputs": [],
   "source": [
    "## So new x and y"
   ]
  },
  {
   "cell_type": "code",
   "execution_count": 40,
   "id": "aeed662c",
   "metadata": {},
   "outputs": [],
   "source": [
    "y = df1['Sales_in_thousands']\n",
    "x = df1[['Horsepower', 'Power_perf_factor']]"
   ]
  },
  {
   "cell_type": "code",
   "execution_count": 41,
   "id": "131f29da",
   "metadata": {},
   "outputs": [
    {
     "data": {
      "text/plain": [
       "(155, 2)"
      ]
     },
     "execution_count": 41,
     "metadata": {},
     "output_type": "execute_result"
    }
   ],
   "source": [
    "x.shape"
   ]
  },
  {
   "cell_type": "code",
   "execution_count": 42,
   "id": "e35287c1",
   "metadata": {},
   "outputs": [
    {
     "data": {
      "text/plain": [
       "(155,)"
      ]
     },
     "execution_count": 42,
     "metadata": {},
     "output_type": "execute_result"
    }
   ],
   "source": [
    "y.shape"
   ]
  },
  {
   "cell_type": "markdown",
   "id": "d31101a9",
   "metadata": {},
   "source": [
    "## Sampling of Data"
   ]
  },
  {
   "cell_type": "code",
   "execution_count": 44,
   "id": "c3224c9e",
   "metadata": {},
   "outputs": [],
   "source": [
    "## Sampling of data: Dividing the dataset into training and test data\n",
    "## using scikit learn module"
   ]
  },
  {
   "cell_type": "code",
   "execution_count": 48,
   "id": "b5149509",
   "metadata": {},
   "outputs": [],
   "source": [
    "import sklearn\n",
    "from sklearn.model_selection import train_test_split"
   ]
  },
  {
   "cell_type": "code",
   "execution_count": 49,
   "id": "4334a647",
   "metadata": {},
   "outputs": [],
   "source": [
    "x_train, x_test, y_train, y_test = train_test_split(x, y, test_size=0.25)"
   ]
  },
  {
   "cell_type": "code",
   "execution_count": 51,
   "id": "35a16198",
   "metadata": {},
   "outputs": [
    {
     "data": {
      "text/plain": [
       "((116, 2), (116,))"
      ]
     },
     "execution_count": 51,
     "metadata": {},
     "output_type": "execute_result"
    }
   ],
   "source": [
    "x_train.shape, y_train.shape"
   ]
  },
  {
   "cell_type": "code",
   "execution_count": 53,
   "id": "7383495b",
   "metadata": {},
   "outputs": [
    {
     "data": {
      "text/html": [
       "<div>\n",
       "<style scoped>\n",
       "    .dataframe tbody tr th:only-of-type {\n",
       "        vertical-align: middle;\n",
       "    }\n",
       "\n",
       "    .dataframe tbody tr th {\n",
       "        vertical-align: top;\n",
       "    }\n",
       "\n",
       "    .dataframe thead th {\n",
       "        text-align: right;\n",
       "    }\n",
       "</style>\n",
       "<table border=\"1\" class=\"dataframe\">\n",
       "  <thead>\n",
       "    <tr style=\"text-align: right;\">\n",
       "      <th></th>\n",
       "      <th>Horsepower</th>\n",
       "      <th>Power_perf_factor</th>\n",
       "    </tr>\n",
       "  </thead>\n",
       "  <tbody>\n",
       "    <tr>\n",
       "      <th>123</th>\n",
       "      <td>185.0</td>\n",
       "      <td>76.208440</td>\n",
       "    </tr>\n",
       "    <tr>\n",
       "      <th>104</th>\n",
       "      <td>170.0</td>\n",
       "      <td>71.171664</td>\n",
       "    </tr>\n",
       "    <tr>\n",
       "      <th>138</th>\n",
       "      <td>210.0</td>\n",
       "      <td>84.911898</td>\n",
       "    </tr>\n",
       "    <tr>\n",
       "      <th>149</th>\n",
       "      <td>115.0</td>\n",
       "      <td>47.946841</td>\n",
       "    </tr>\n",
       "    <tr>\n",
       "      <th>47</th>\n",
       "      <td>190.0</td>\n",
       "      <td>76.509185</td>\n",
       "    </tr>\n",
       "  </tbody>\n",
       "</table>\n",
       "</div>"
      ],
      "text/plain": [
       "     Horsepower  Power_perf_factor\n",
       "123       185.0          76.208440\n",
       "104       170.0          71.171664\n",
       "138       210.0          84.911898\n",
       "149       115.0          47.946841\n",
       "47        190.0          76.509185"
      ]
     },
     "execution_count": 53,
     "metadata": {},
     "output_type": "execute_result"
    }
   ],
   "source": [
    "x_train.head() ## Randomly divided to reduce the bias"
   ]
  },
  {
   "cell_type": "code",
   "execution_count": 54,
   "id": "d1c79812",
   "metadata": {},
   "outputs": [
    {
     "data": {
      "text/plain": [
       "123     39.572\n",
       "104     27.308\n",
       "138     63.849\n",
       "149      5.596\n",
       "47     113.369\n",
       "Name: Sales_in_thousands, dtype: float64"
      ]
     },
     "execution_count": 54,
     "metadata": {},
     "output_type": "execute_result"
    }
   ],
   "source": [
    "y_train.head()"
   ]
  },
  {
   "cell_type": "markdown",
   "id": "19b573b0",
   "metadata": {},
   "source": [
    "## Model Training"
   ]
  },
  {
   "cell_type": "markdown",
   "id": "5ff53bcb",
   "metadata": {},
   "source": [
    "- Linear Regression: 1 dependent and 1 independent\n",
    "- Multiple Regression: 1 dependent and multiple independent"
   ]
  },
  {
   "cell_type": "code",
   "execution_count": 55,
   "id": "9b3f8410",
   "metadata": {},
   "outputs": [],
   "source": [
    "## In this case we are using multiple regression"
   ]
  },
  {
   "cell_type": "code",
   "execution_count": 57,
   "id": "cb66019e",
   "metadata": {},
   "outputs": [],
   "source": [
    "from sklearn.linear_model import LinearRegression\n",
    "## Named linear regression but it can perform both linear and multiple regression"
   ]
  },
  {
   "cell_type": "code",
   "execution_count": 58,
   "id": "298e6171",
   "metadata": {},
   "outputs": [],
   "source": [
    "model = LinearRegression() "
   ]
  },
  {
   "cell_type": "code",
   "execution_count": 60,
   "id": "2188f2a3",
   "metadata": {},
   "outputs": [],
   "source": [
    "## Training the model\n",
    "model_train = model.fit(x_train, y_train)"
   ]
  },
  {
   "cell_type": "code",
   "execution_count": 62,
   "id": "c9339ae9",
   "metadata": {},
   "outputs": [
    {
     "data": {
      "text/plain": [
       "69.47135276460835"
      ]
     },
     "execution_count": 62,
     "metadata": {},
     "output_type": "execute_result"
    }
   ],
   "source": [
    "## Checking the score of the model\n",
    "model_train.intercept_"
   ]
  },
  {
   "cell_type": "code",
   "execution_count": 63,
   "id": "907de7c7",
   "metadata": {},
   "outputs": [
    {
     "data": {
      "text/plain": [
       "array([ 2.88604554, -7.12643009])"
      ]
     },
     "execution_count": 63,
     "metadata": {},
     "output_type": "execute_result"
    }
   ],
   "source": [
    "model_train.coef_"
   ]
  },
  {
   "cell_type": "code",
   "execution_count": 68,
   "id": "c7e1a21f",
   "metadata": {},
   "outputs": [],
   "source": [
    "## Rule of model\n",
    "## y = 2.88604554*x1 + (-7.12643009*x2) + 69.47135276460835\n",
    "\n",
    "## x1 = horsepower,  x2 = Power_perf_factor"
   ]
  },
  {
   "cell_type": "code",
   "execution_count": 69,
   "id": "8b838511",
   "metadata": {},
   "outputs": [],
   "source": [
    "## we can use this equation to predict the output sales"
   ]
  },
  {
   "cell_type": "markdown",
   "id": "8f0d019f",
   "metadata": {},
   "source": [
    "## Validation\n",
    "- Now we validate the model with x_test data"
   ]
  },
  {
   "cell_type": "code",
   "execution_count": 71,
   "id": "e07b6d1a",
   "metadata": {},
   "outputs": [],
   "source": [
    "pred = model_train.predict(x_test)"
   ]
  },
  {
   "cell_type": "code",
   "execution_count": 73,
   "id": "221082ed",
   "metadata": {},
   "outputs": [
    {
     "data": {
      "text/plain": [
       "array([ 60.42641926,  75.20188345,  63.67547751,  67.58863928,\n",
       "        67.68413949,  68.93281306,   4.52278338,  66.0482461 ,\n",
       "        65.97044401, -29.62164161,  52.83162038,  62.7398635 ,\n",
       "        80.5740072 ,  42.98693649,  54.99772645,  77.01078368,\n",
       "        49.46053688,  73.00613967,   2.59618836,  73.64507706,\n",
       "        61.87602644,  52.77598618,  65.607556  ,  62.00518286,\n",
       "        76.29095346,  47.23890326,  79.24997406,  71.60709011,\n",
       "        72.04301736,  58.88792658,  71.00030266,  70.6126658 ,\n",
       "        75.06714736,  65.19696903,  63.02607204,  52.38932867,\n",
       "        71.00699835,  68.69358518, -64.48919647])"
      ]
     },
     "execution_count": 73,
     "metadata": {},
     "output_type": "execute_result"
    }
   ],
   "source": [
    "pred          ## This is prediction of 25% of data"
   ]
  },
  {
   "cell_type": "code",
   "execution_count": 74,
   "id": "72750eb5",
   "metadata": {},
   "outputs": [],
   "source": [
    "## Now comparing the pred with y_test"
   ]
  },
  {
   "cell_type": "code",
   "execution_count": 75,
   "id": "49fd8f57",
   "metadata": {},
   "outputs": [],
   "source": [
    "compare = pd.DataFrame({'Actual Sales': y_test, 'Predicated Sales': pred, 'Errors': (y_test - pred)})"
   ]
  },
  {
   "cell_type": "code",
   "execution_count": 76,
   "id": "78b2cc48",
   "metadata": {},
   "outputs": [
    {
     "data": {
      "text/html": [
       "<div>\n",
       "<style scoped>\n",
       "    .dataframe tbody tr th:only-of-type {\n",
       "        vertical-align: middle;\n",
       "    }\n",
       "\n",
       "    .dataframe tbody tr th {\n",
       "        vertical-align: top;\n",
       "    }\n",
       "\n",
       "    .dataframe thead th {\n",
       "        text-align: right;\n",
       "    }\n",
       "</style>\n",
       "<table border=\"1\" class=\"dataframe\">\n",
       "  <thead>\n",
       "    <tr style=\"text-align: right;\">\n",
       "      <th></th>\n",
       "      <th>Actual Sales</th>\n",
       "      <th>Predicated Sales</th>\n",
       "      <th>Errors</th>\n",
       "    </tr>\n",
       "  </thead>\n",
       "  <tbody>\n",
       "    <tr>\n",
       "      <th>118</th>\n",
       "      <td>51.645</td>\n",
       "      <td>60.426419</td>\n",
       "      <td>-8.781419</td>\n",
       "    </tr>\n",
       "    <tr>\n",
       "      <th>34</th>\n",
       "      <td>30.696</td>\n",
       "      <td>75.201883</td>\n",
       "      <td>-44.505883</td>\n",
       "    </tr>\n",
       "    <tr>\n",
       "      <th>132</th>\n",
       "      <td>8.472</td>\n",
       "      <td>63.675478</td>\n",
       "      <td>-55.203478</td>\n",
       "    </tr>\n",
       "    <tr>\n",
       "      <th>41</th>\n",
       "      <td>16.767</td>\n",
       "      <td>67.588639</td>\n",
       "      <td>-50.821639</td>\n",
       "    </tr>\n",
       "    <tr>\n",
       "      <th>1</th>\n",
       "      <td>39.384</td>\n",
       "      <td>67.684139</td>\n",
       "      <td>-28.300139</td>\n",
       "    </tr>\n",
       "    <tr>\n",
       "      <th>67</th>\n",
       "      <td>55.557</td>\n",
       "      <td>68.932813</td>\n",
       "      <td>-13.375813</td>\n",
       "    </tr>\n",
       "    <tr>\n",
       "      <th>6</th>\n",
       "      <td>1.380</td>\n",
       "      <td>4.522783</td>\n",
       "      <td>-3.142783</td>\n",
       "    </tr>\n",
       "    <tr>\n",
       "      <th>45</th>\n",
       "      <td>181.749</td>\n",
       "      <td>66.048246</td>\n",
       "      <td>115.700754</td>\n",
       "    </tr>\n",
       "    <tr>\n",
       "      <th>87</th>\n",
       "      <td>26.529</td>\n",
       "      <td>65.970444</td>\n",
       "      <td>-39.441444</td>\n",
       "    </tr>\n",
       "    <tr>\n",
       "      <th>94</th>\n",
       "      <td>16.774</td>\n",
       "      <td>-29.621642</td>\n",
       "      <td>46.395642</td>\n",
       "    </tr>\n",
       "    <tr>\n",
       "      <th>148</th>\n",
       "      <td>9.569</td>\n",
       "      <td>52.831620</td>\n",
       "      <td>-43.262620</td>\n",
       "    </tr>\n",
       "    <tr>\n",
       "      <th>134</th>\n",
       "      <td>47.107</td>\n",
       "      <td>62.739863</td>\n",
       "      <td>-15.632863</td>\n",
       "    </tr>\n",
       "    <tr>\n",
       "      <th>11</th>\n",
       "      <td>39.350</td>\n",
       "      <td>80.574007</td>\n",
       "      <td>-41.224007</td>\n",
       "    </tr>\n",
       "    <tr>\n",
       "      <th>8</th>\n",
       "      <td>9.231</td>\n",
       "      <td>42.986936</td>\n",
       "      <td>-33.755936</td>\n",
       "    </tr>\n",
       "    <tr>\n",
       "      <th>4</th>\n",
       "      <td>20.397</td>\n",
       "      <td>54.997726</td>\n",
       "      <td>-34.600726</td>\n",
       "    </tr>\n",
       "    <tr>\n",
       "      <th>27</th>\n",
       "      <td>107.995</td>\n",
       "      <td>77.010784</td>\n",
       "      <td>30.984216</td>\n",
       "    </tr>\n",
       "    <tr>\n",
       "      <th>12</th>\n",
       "      <td>27.851</td>\n",
       "      <td>49.460537</td>\n",
       "      <td>-21.609537</td>\n",
       "    </tr>\n",
       "    <tr>\n",
       "      <th>51</th>\n",
       "      <td>63.403</td>\n",
       "      <td>73.006140</td>\n",
       "      <td>-9.603140</td>\n",
       "    </tr>\n",
       "    <tr>\n",
       "      <th>144</th>\n",
       "      <td>9.835</td>\n",
       "      <td>2.596188</td>\n",
       "      <td>7.238812</td>\n",
       "    </tr>\n",
       "    <tr>\n",
       "      <th>62</th>\n",
       "      <td>41.184</td>\n",
       "      <td>73.645077</td>\n",
       "      <td>-32.461077</td>\n",
       "    </tr>\n",
       "    <tr>\n",
       "      <th>146</th>\n",
       "      <td>83.721</td>\n",
       "      <td>61.876026</td>\n",
       "      <td>21.844974</td>\n",
       "    </tr>\n",
       "    <tr>\n",
       "      <th>83</th>\n",
       "      <td>0.110</td>\n",
       "      <td>52.775986</td>\n",
       "      <td>-52.665986</td>\n",
       "    </tr>\n",
       "    <tr>\n",
       "      <th>102</th>\n",
       "      <td>88.094</td>\n",
       "      <td>65.607556</td>\n",
       "      <td>22.486444</td>\n",
       "    </tr>\n",
       "    <tr>\n",
       "      <th>43</th>\n",
       "      <td>111.313</td>\n",
       "      <td>62.005183</td>\n",
       "      <td>49.307817</td>\n",
       "    </tr>\n",
       "    <tr>\n",
       "      <th>107</th>\n",
       "      <td>65.005</td>\n",
       "      <td>76.290953</td>\n",
       "      <td>-11.285953</td>\n",
       "    </tr>\n",
       "    <tr>\n",
       "      <th>154</th>\n",
       "      <td>17.531</td>\n",
       "      <td>47.238903</td>\n",
       "      <td>-29.707903</td>\n",
       "    </tr>\n",
       "    <tr>\n",
       "      <th>35</th>\n",
       "      <td>76.034</td>\n",
       "      <td>79.249974</td>\n",
       "      <td>-3.215974</td>\n",
       "    </tr>\n",
       "    <tr>\n",
       "      <th>25</th>\n",
       "      <td>32.299</td>\n",
       "      <td>71.607090</td>\n",
       "      <td>-39.308090</td>\n",
       "    </tr>\n",
       "    <tr>\n",
       "      <th>36</th>\n",
       "      <td>4.734</td>\n",
       "      <td>72.043017</td>\n",
       "      <td>-67.309017</td>\n",
       "    </tr>\n",
       "    <tr>\n",
       "      <th>29</th>\n",
       "      <td>32.775</td>\n",
       "      <td>58.887927</td>\n",
       "      <td>-26.112927</td>\n",
       "    </tr>\n",
       "    <tr>\n",
       "      <th>82</th>\n",
       "      <td>5.711</td>\n",
       "      <td>71.000303</td>\n",
       "      <td>-65.289303</td>\n",
       "    </tr>\n",
       "    <tr>\n",
       "      <th>37</th>\n",
       "      <td>71.186</td>\n",
       "      <td>70.612666</td>\n",
       "      <td>0.573334</td>\n",
       "    </tr>\n",
       "    <tr>\n",
       "      <th>101</th>\n",
       "      <td>42.643</td>\n",
       "      <td>75.067147</td>\n",
       "      <td>-32.424147</td>\n",
       "    </tr>\n",
       "    <tr>\n",
       "      <th>85</th>\n",
       "      <td>39.348</td>\n",
       "      <td>65.196969</td>\n",
       "      <td>-25.848969</td>\n",
       "    </tr>\n",
       "    <tr>\n",
       "      <th>90</th>\n",
       "      <td>27.609</td>\n",
       "      <td>63.026072</td>\n",
       "      <td>-35.417072</td>\n",
       "    </tr>\n",
       "    <tr>\n",
       "      <th>16</th>\n",
       "      <td>6.536</td>\n",
       "      <td>52.389329</td>\n",
       "      <td>-45.853329</td>\n",
       "    </tr>\n",
       "    <tr>\n",
       "      <th>50</th>\n",
       "      <td>175.670</td>\n",
       "      <td>71.006998</td>\n",
       "      <td>104.663002</td>\n",
       "    </tr>\n",
       "    <tr>\n",
       "      <th>31</th>\n",
       "      <td>32.306</td>\n",
       "      <td>68.693585</td>\n",
       "      <td>-36.387585</td>\n",
       "    </tr>\n",
       "    <tr>\n",
       "      <th>99</th>\n",
       "      <td>0.954</td>\n",
       "      <td>-64.489196</td>\n",
       "      <td>65.443196</td>\n",
       "    </tr>\n",
       "  </tbody>\n",
       "</table>\n",
       "</div>"
      ],
      "text/plain": [
       "     Actual Sales  Predicated Sales      Errors\n",
       "118        51.645         60.426419   -8.781419\n",
       "34         30.696         75.201883  -44.505883\n",
       "132         8.472         63.675478  -55.203478\n",
       "41         16.767         67.588639  -50.821639\n",
       "1          39.384         67.684139  -28.300139\n",
       "67         55.557         68.932813  -13.375813\n",
       "6           1.380          4.522783   -3.142783\n",
       "45        181.749         66.048246  115.700754\n",
       "87         26.529         65.970444  -39.441444\n",
       "94         16.774        -29.621642   46.395642\n",
       "148         9.569         52.831620  -43.262620\n",
       "134        47.107         62.739863  -15.632863\n",
       "11         39.350         80.574007  -41.224007\n",
       "8           9.231         42.986936  -33.755936\n",
       "4          20.397         54.997726  -34.600726\n",
       "27        107.995         77.010784   30.984216\n",
       "12         27.851         49.460537  -21.609537\n",
       "51         63.403         73.006140   -9.603140\n",
       "144         9.835          2.596188    7.238812\n",
       "62         41.184         73.645077  -32.461077\n",
       "146        83.721         61.876026   21.844974\n",
       "83          0.110         52.775986  -52.665986\n",
       "102        88.094         65.607556   22.486444\n",
       "43        111.313         62.005183   49.307817\n",
       "107        65.005         76.290953  -11.285953\n",
       "154        17.531         47.238903  -29.707903\n",
       "35         76.034         79.249974   -3.215974\n",
       "25         32.299         71.607090  -39.308090\n",
       "36          4.734         72.043017  -67.309017\n",
       "29         32.775         58.887927  -26.112927\n",
       "82          5.711         71.000303  -65.289303\n",
       "37         71.186         70.612666    0.573334\n",
       "101        42.643         75.067147  -32.424147\n",
       "85         39.348         65.196969  -25.848969\n",
       "90         27.609         63.026072  -35.417072\n",
       "16          6.536         52.389329  -45.853329\n",
       "50        175.670         71.006998  104.663002\n",
       "31         32.306         68.693585  -36.387585\n",
       "99          0.954        -64.489196   65.443196"
      ]
     },
     "execution_count": 76,
     "metadata": {},
     "output_type": "execute_result"
    }
   ],
   "source": [
    "compare"
   ]
  },
  {
   "cell_type": "code",
   "execution_count": 78,
   "id": "8d32caad",
   "metadata": {},
   "outputs": [],
   "source": [
    "## Check model score\n",
    "\n",
    "accuracy = model_train.score(x_train, y_train)"
   ]
  },
  {
   "cell_type": "code",
   "execution_count": 81,
   "id": "2dbbafbf",
   "metadata": {},
   "outputs": [
    {
     "data": {
      "text/plain": [
       "10.2"
      ]
     },
     "execution_count": 81,
     "metadata": {},
     "output_type": "execute_result"
    }
   ],
   "source": [
    "round(accuracy*100, 2)"
   ]
  },
  {
   "cell_type": "code",
   "execution_count": 82,
   "id": "4007a1f1",
   "metadata": {},
   "outputs": [],
   "source": [
    "## only 10.2% accuracy"
   ]
  },
  {
   "cell_type": "code",
   "execution_count": null,
   "id": "ee50828a",
   "metadata": {},
   "outputs": [],
   "source": [
    "    "
   ]
  }
 ],
 "metadata": {
  "kernelspec": {
   "display_name": "Python 3",
   "language": "python",
   "name": "python3"
  },
  "language_info": {
   "codemirror_mode": {
    "name": "ipython",
    "version": 3
   },
   "file_extension": ".py",
   "mimetype": "text/x-python",
   "name": "python",
   "nbconvert_exporter": "python",
   "pygments_lexer": "ipython3",
   "version": "3.8.8"
  }
 },
 "nbformat": 4,
 "nbformat_minor": 5
}
