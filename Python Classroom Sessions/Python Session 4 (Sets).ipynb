{
 "cells": [
  {
   "cell_type": "markdown",
   "id": "dfc5cbd7",
   "metadata": {},
   "source": [
    "### ATM Machine Generator"
   ]
  },
  {
   "cell_type": "code",
   "execution_count": null,
   "id": "cfac677d",
   "metadata": {},
   "outputs": [],
   "source": [
    "#import time\n",
    "'''\n",
    "password = 1111\n",
    "balance = 72312\n",
    "\n",
    "while True:\n",
    "    print(\"Enter your ATM Card\")\n",
    "    #time.sleep(2)\n",
    "    pin = int(input(\"Enter 4 digit password: \"))\n",
    "    while True:\n",
    "        if(password != pin):\n",
    "            print(\"\\nInvaild Pin :(\\n\")\n",
    "            break\n",
    "        else:\n",
    "            print(\"\"\"\n",
    "                Menu: \n",
    "                1. Balance\n",
    "                2. Withdrawls\n",
    "                3. Deposit\n",
    "                4. Exit\n",
    "            \"\"\")\n",
    "            option = int(input(\"Choose an option: \"))\n",
    "\n",
    "            if(option == 1):\n",
    "                print(f'\\nCurrent Balance: Rs {balance}/-')\n",
    "            if option == 2:\n",
    "                withdraw_amt = float(input(\"Withdrawl Amount: \"))\n",
    "                balance = balance - withdraw_amt\n",
    "                print(f'\\nSuccess!\\nWithdraw Amount: {withdraw_amt}\\nNew Balance: {balance}')\n",
    "            if option == 3:\n",
    "                deposit_amt = float(input(\"Desposit Amount: \"))\n",
    "                balance = balance + deposit_amt\n",
    "                print(f'\\nSuccess!\\n{deposit_amt} is credited to your bank.\\nNew Balance: {balance}')\n",
    "            if option == 4:\n",
    "                print(\"Thank you for coming :)\\n\")\n",
    "                break;\n",
    "                \n",
    "'''                "
   ]
  },
  {
   "cell_type": "markdown",
   "id": "7b4d9e30",
   "metadata": {},
   "source": [
    "### Data Structure - Set\n",
    "set: if we want to represent a group unqiue value as a single entity\n",
    "     - Duplicates not allowed\n",
    "     - Insertion order is not preserved(No indexing), But we can sort the elements\n",
    "     - Heterogenous elements are allowed\n",
    "     - Sets object are not mutable"
   ]
  },
  {
   "cell_type": "code",
   "execution_count": 1,
   "id": "92cfd479",
   "metadata": {},
   "outputs": [
    {
     "data": {
      "text/plain": [
       "({1, 2, 3}, set)"
      ]
     },
     "execution_count": 1,
     "metadata": {},
     "output_type": "execute_result"
    }
   ],
   "source": [
    "## Set Creation\n",
    "s = {1, 2, 3}\n",
    "s, type(s)"
   ]
  },
  {
   "cell_type": "code",
   "execution_count": 2,
   "id": "d29f5f9f",
   "metadata": {},
   "outputs": [
    {
     "data": {
      "text/plain": [
       "({0, 1, 2, 3, 4}, set)"
      ]
     },
     "execution_count": 2,
     "metadata": {},
     "output_type": "execute_result"
    }
   ],
   "source": [
    "li = list(range(5))\n",
    "set1 = set(li)\n",
    "set1, type(set1)"
   ]
  },
  {
   "cell_type": "code",
   "execution_count": 3,
   "id": "a512dbf0",
   "metadata": {},
   "outputs": [],
   "source": [
    "## Set - Operations"
   ]
  },
  {
   "cell_type": "code",
   "execution_count": 4,
   "id": "1a0710dd",
   "metadata": {},
   "outputs": [
    {
     "data": {
      "text/plain": [
       "{0, 1, 2, 3, 4}"
      ]
     },
     "execution_count": 4,
     "metadata": {},
     "output_type": "execute_result"
    }
   ],
   "source": [
    "set1"
   ]
  },
  {
   "cell_type": "code",
   "execution_count": 5,
   "id": "d8ea2d69",
   "metadata": {},
   "outputs": [
    {
     "data": {
      "text/plain": [
       "{-1, 0, 1, 2, 3, 4}"
      ]
     },
     "execution_count": 5,
     "metadata": {},
     "output_type": "execute_result"
    }
   ],
   "source": [
    "# 1. add\n",
    "set1.add(-1)\n",
    "set1"
   ]
  },
  {
   "cell_type": "code",
   "execution_count": 7,
   "id": "b87bb815",
   "metadata": {},
   "outputs": [
    {
     "data": {
      "text/plain": [
       "{-1, 0, 1, 2, 3, 4, 23}"
      ]
     },
     "execution_count": 7,
     "metadata": {},
     "output_type": "execute_result"
    }
   ],
   "source": [
    "set1.add(23)\n",
    "set1"
   ]
  },
  {
   "cell_type": "code",
   "execution_count": 9,
   "id": "7191f998",
   "metadata": {},
   "outputs": [
    {
     "data": {
      "text/plain": [
       "{-1, 0, 1, 2, 3, 4, 7, 23}"
      ]
     },
     "execution_count": 9,
     "metadata": {},
     "output_type": "execute_result"
    }
   ],
   "source": [
    "set1.add(7)\n",
    "set1"
   ]
  },
  {
   "cell_type": "code",
   "execution_count": 11,
   "id": "91be657c",
   "metadata": {},
   "outputs": [
    {
     "data": {
      "text/plain": [
       "{-1, 0, 1, 2, 3, 4, 7, 8, 9, 23}"
      ]
     },
     "execution_count": 11,
     "metadata": {},
     "output_type": "execute_result"
    }
   ],
   "source": [
    "## 2. Update\n",
    "set1.update([7, 8, 9])\n",
    "set1"
   ]
  },
  {
   "cell_type": "code",
   "execution_count": 12,
   "id": "988d1184",
   "metadata": {},
   "outputs": [
    {
     "data": {
      "text/plain": [
       "{-1, 0, 1, 2, 3, 4, 7, 8, 9, 23}"
      ]
     },
     "execution_count": 12,
     "metadata": {},
     "output_type": "execute_result"
    }
   ],
   "source": [
    "set1.add(7)\n",
    "set1"
   ]
  },
  {
   "cell_type": "code",
   "execution_count": 13,
   "id": "ff0da118",
   "metadata": {},
   "outputs": [
    {
     "data": {
      "text/plain": [
       "{-1, 0, 1, 2, 3, 4, 7, 8, 9, 23}"
      ]
     },
     "execution_count": 13,
     "metadata": {},
     "output_type": "execute_result"
    }
   ],
   "source": [
    "## 3. Copy\n",
    "set2 = set1.copy()\n",
    "set2"
   ]
  },
  {
   "cell_type": "code",
   "execution_count": 14,
   "id": "18b3e082",
   "metadata": {},
   "outputs": [
    {
     "data": {
      "text/plain": [
       "[0, 1, 2, 3, -1]"
      ]
     },
     "execution_count": 14,
     "metadata": {},
     "output_type": "execute_result"
    }
   ],
   "source": [
    "## Ques- Remove duplicates from list \n",
    "list1 = [1, 2, 2, 2, 3, 3, -1, 1, 0]\n",
    "newList = list(set(list1))\n",
    "newList"
   ]
  },
  {
   "cell_type": "code",
   "execution_count": 15,
   "id": "c400baee",
   "metadata": {},
   "outputs": [
    {
     "data": {
      "text/plain": [
       "{-1, 0, 1, 2, 3, 4, 7, 8, 9, 23}"
      ]
     },
     "execution_count": 15,
     "metadata": {},
     "output_type": "execute_result"
    }
   ],
   "source": [
    "## 4. pop\n",
    "set2"
   ]
  },
  {
   "cell_type": "code",
   "execution_count": 17,
   "id": "1753019d",
   "metadata": {},
   "outputs": [
    {
     "data": {
      "text/plain": [
       "{-1, 2, 3, 4, 7, 8, 9, 23}"
      ]
     },
     "execution_count": 17,
     "metadata": {},
     "output_type": "execute_result"
    }
   ],
   "source": [
    "set2.pop()\n",
    "set2"
   ]
  },
  {
   "cell_type": "code",
   "execution_count": 19,
   "id": "67428cfa",
   "metadata": {},
   "outputs": [
    {
     "name": "stdout",
     "output_type": "stream",
     "text": [
      "{2, 3, 4, 7, 8, 9, 23, -1}\n",
      "{2, 3, 4, 7, 8, 9, 23}\n"
     ]
    }
   ],
   "source": [
    "## 5. remove\n",
    "print(set2)\n",
    "set2.remove(-1)\n",
    "print(set2)"
   ]
  },
  {
   "cell_type": "code",
   "execution_count": 20,
   "id": "879cc24d",
   "metadata": {},
   "outputs": [
    {
     "ename": "KeyError",
     "evalue": "1",
     "output_type": "error",
     "traceback": [
      "\u001b[1;31m---------------------------------------------------------------------------\u001b[0m",
      "\u001b[1;31mKeyError\u001b[0m                                  Traceback (most recent call last)",
      "\u001b[1;32m<ipython-input-20-cbceb48f6970>\u001b[0m in \u001b[0;36m<module>\u001b[1;34m\u001b[0m\n\u001b[1;32m----> 1\u001b[1;33m \u001b[0mset2\u001b[0m\u001b[1;33m.\u001b[0m\u001b[0mremove\u001b[0m\u001b[1;33m(\u001b[0m\u001b[1;36m1\u001b[0m\u001b[1;33m)\u001b[0m\u001b[1;33m\u001b[0m\u001b[1;33m\u001b[0m\u001b[0m\n\u001b[0m\u001b[0;32m      2\u001b[0m \u001b[0mprint\u001b[0m\u001b[1;33m(\u001b[0m\u001b[0mset2\u001b[0m\u001b[1;33m)\u001b[0m\u001b[1;33m\u001b[0m\u001b[1;33m\u001b[0m\u001b[0m\n",
      "\u001b[1;31mKeyError\u001b[0m: 1"
     ]
    }
   ],
   "source": [
    "set2.remove(1)\n",
    "print(set2)"
   ]
  },
  {
   "cell_type": "code",
   "execution_count": 23,
   "id": "654f98d0",
   "metadata": {},
   "outputs": [
    {
     "name": "stdout",
     "output_type": "stream",
     "text": [
      "{2, 3, 4, 7, 8, 9, 23}\n",
      "{2, 3, 4, 7, 8, 9, 23}\n",
      "{2, 3, 4, 7, 8, 9}\n"
     ]
    }
   ],
   "source": [
    "## 6. Discard\n",
    "print(set2)\n",
    "set2.discard(0)\n",
    "print(set2)\n",
    "set2.discard(23)\n",
    "print(set2)"
   ]
  },
  {
   "cell_type": "code",
   "execution_count": 24,
   "id": "1f27c9d9",
   "metadata": {},
   "outputs": [],
   "source": [
    "## Difference between remove and discard\n",
    "## Remove give error if element not present in set\n",
    "## Discard wont"
   ]
  },
  {
   "cell_type": "code",
   "execution_count": 28,
   "id": "8fbffd37",
   "metadata": {},
   "outputs": [
    {
     "name": "stdout",
     "output_type": "stream",
     "text": [
      "{0, 1, 2, 3, 4, 7, 8, 9, 23, -1}\n",
      "set()\n"
     ]
    }
   ],
   "source": [
    "## 7. clear()\n",
    "set2 = set1.copy()\n",
    "print(set2)\n",
    "set2.clear()\n",
    "print(set2)"
   ]
  },
  {
   "cell_type": "code",
   "execution_count": 30,
   "id": "7fe7c31e",
   "metadata": {},
   "outputs": [],
   "source": [
    "## Mathematical Operation of sets"
   ]
  },
  {
   "cell_type": "code",
   "execution_count": 32,
   "id": "e7106178",
   "metadata": {},
   "outputs": [],
   "source": [
    "x = {1, 2, 3, 4}\n",
    "y = {3, 4, 5, 6}"
   ]
  },
  {
   "cell_type": "code",
   "execution_count": 33,
   "id": "1419fe58",
   "metadata": {},
   "outputs": [
    {
     "name": "stdout",
     "output_type": "stream",
     "text": [
      "{1, 2, 3, 4, 5, 6}\n",
      "{1, 2, 3, 4, 5, 6}\n"
     ]
    }
   ],
   "source": [
    "## 1. Union\n",
    "print(x.union(y))\n",
    "print(x|y)"
   ]
  },
  {
   "cell_type": "code",
   "execution_count": 34,
   "id": "22c0ba4e",
   "metadata": {},
   "outputs": [
    {
     "name": "stdout",
     "output_type": "stream",
     "text": [
      "{3, 4}\n",
      "{3, 4}\n"
     ]
    }
   ],
   "source": [
    "## 2. Intersection\n",
    "x = {1, 2, 3, 4}\n",
    "y = {3, 4, 5, 6}\n",
    "print(x.intersection(y))\n",
    "print(x&y)"
   ]
  },
  {
   "cell_type": "code",
   "execution_count": 35,
   "id": "7691342a",
   "metadata": {},
   "outputs": [
    {
     "name": "stdout",
     "output_type": "stream",
     "text": [
      "{1, 2}\n",
      "{1, 2}\n"
     ]
    }
   ],
   "source": [
    "## 3. Difference - return element present in x but not in y\n",
    "x = {1, 2, 3, 4}\n",
    "y = {3, 4, 5, 6}\n",
    "print(x.difference(y))\n",
    "print(x-y)"
   ]
  },
  {
   "cell_type": "code",
   "execution_count": 36,
   "id": "0a870204",
   "metadata": {},
   "outputs": [
    {
     "name": "stdout",
     "output_type": "stream",
     "text": [
      "{1, 2, 5, 6}\n",
      "{1, 2, 5, 6}\n"
     ]
    }
   ],
   "source": [
    "## 4. Symmetric Difference - everything expect common elements\n",
    "x = {1, 2, 3, 4}\n",
    "y = {3, 4, 5, 6}\n",
    "print(x.symmetric_difference(y))\n",
    "print(x^y)"
   ]
  },
  {
   "cell_type": "code",
   "execution_count": 43,
   "id": "d689a3e6",
   "metadata": {},
   "outputs": [
    {
     "name": "stdout",
     "output_type": "stream",
     "text": [
      "{0, 1, -444, -23, 12, 111, 23, 123}\n",
      "[123, 111, 23, 12, 1, 0, -23, -444]\n",
      "[-444, -23, 0, 1, 12, 23, 111, 123]\n",
      "{0, 1, -444, -23, 12, 111, 23, 123}\n",
      "{0, 1, -444, -23, 12, 111, 23, 123}\n"
     ]
    }
   ],
   "source": [
    "z = {12, 1, 23, -23, 0, 123, 111, -444}\n",
    "print(z)\n",
    "print(sorted(z, reverse = True))\n",
    "print(sorted(z, reverse = False))\n",
    "print(set(sorted(z, reverse = True)))\n",
    "print(set(sorted(z, reverse = False)))"
   ]
  },
  {
   "cell_type": "code",
   "execution_count": 47,
   "id": "9a013ecb",
   "metadata": {},
   "outputs": [
    {
     "ename": "SyntaxError",
     "evalue": "Missing parentheses in call to 'print'. Did you mean print(cc)? (<ipython-input-47-6fe6d49b1df6>, line 4)",
     "output_type": "error",
     "traceback": [
      "\u001b[1;36m  File \u001b[1;32m\"<ipython-input-47-6fe6d49b1df6>\"\u001b[1;36m, line \u001b[1;32m4\u001b[0m\n\u001b[1;33m    print cc\u001b[0m\n\u001b[1;37m          ^\u001b[0m\n\u001b[1;31mSyntaxError\u001b[0m\u001b[1;31m:\u001b[0m Missing parentheses in call to 'print'. Did you mean print(cc)?\n"
     ]
    }
   ],
   "source": [
    "word = input(\"Enter word to the vowels: \")\n",
    "s = set(word)\n",
    "print(s)\n",
    "v = {'a', 'e'}\n",
    "d.intersection()"
   ]
  },
  {
   "cell_type": "code",
   "execution_count": null,
   "id": "fe6b6a52",
   "metadata": {},
   "outputs": [],
   "source": []
  }
 ],
 "metadata": {
  "kernelspec": {
   "display_name": "Python 3",
   "language": "python",
   "name": "python3"
  },
  "language_info": {
   "codemirror_mode": {
    "name": "ipython",
    "version": 3
   },
   "file_extension": ".py",
   "mimetype": "text/x-python",
   "name": "python",
   "nbconvert_exporter": "python",
   "pygments_lexer": "ipython3",
   "version": "3.8.8"
  }
 },
 "nbformat": 4,
 "nbformat_minor": 5
}
