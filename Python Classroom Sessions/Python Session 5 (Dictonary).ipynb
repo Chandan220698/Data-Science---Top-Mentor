{
 "cells": [
  {
   "cell_type": "markdown",
   "id": "158e3a54",
   "metadata": {},
   "source": [
    "## Dictionary"
   ]
  },
  {
   "cell_type": "code",
   "execution_count": null,
   "id": "afafa63a",
   "metadata": {},
   "outputs": [],
   "source": [
    "### Dictionary Data Structure\n",
    "### List, Tuple and Set represents a group of individual objects with single entity\n",
    "### If we want to represent a group of objects as key and value pairs\n",
    "### then we should go for Dictionary..\n",
    "\n",
    "Duplicate keys are  not allowed but values can be duplicated\n",
    "Hetrogenous Objects are allowed for both key and value\n",
    "Insertion order is not preserved\n",
    "Dictionaries are mutable\n",
    "Dictionaries are dynamic\n",
    "Indexing and slicing concepts are not applicable\n",
    "It represents by curly braces {} with key and value pair\n",
    "#Note - In C++ and Java Dict concept are known as Map, In Ruby and Pearl its known as Hash"
   ]
  },
  {
   "cell_type": "code",
   "execution_count": 1,
   "id": "10dfe887",
   "metadata": {},
   "outputs": [
    {
     "data": {
      "text/plain": [
       "dict"
      ]
     },
     "execution_count": 1,
     "metadata": {},
     "output_type": "execute_result"
    }
   ],
   "source": [
    "d = {}\n",
    "type(d)"
   ]
  },
  {
   "cell_type": "code",
   "execution_count": 2,
   "id": "b16941bf",
   "metadata": {},
   "outputs": [],
   "source": [
    "d[100] = \"Ram\"\n",
    "d[200] = \"Soham\"\n",
    "d[300] = \"Ram\""
   ]
  },
  {
   "cell_type": "code",
   "execution_count": 3,
   "id": "becbb09a",
   "metadata": {},
   "outputs": [
    {
     "name": "stdout",
     "output_type": "stream",
     "text": [
      "{100: 'Ram', 200: 'Soham', 300: 'Ram'}\n"
     ]
    }
   ],
   "source": [
    "print(d)"
   ]
  },
  {
   "cell_type": "code",
   "execution_count": 4,
   "id": "50db3912",
   "metadata": {},
   "outputs": [
    {
     "data": {
      "text/plain": [
       "{100: 'Ram', 200: 'Soham', 300: 'Ram'}"
      ]
     },
     "execution_count": 4,
     "metadata": {},
     "output_type": "execute_result"
    }
   ],
   "source": [
    "## How to access the data from dictionary - using key\n",
    "d"
   ]
  },
  {
   "cell_type": "code",
   "execution_count": 5,
   "id": "de6e426f",
   "metadata": {},
   "outputs": [
    {
     "data": {
      "text/plain": [
       "'Soham'"
      ]
     },
     "execution_count": 5,
     "metadata": {},
     "output_type": "execute_result"
    }
   ],
   "source": [
    "d[200]"
   ]
  },
  {
   "cell_type": "code",
   "execution_count": 6,
   "id": "dff4d905",
   "metadata": {},
   "outputs": [
    {
     "ename": "KeyError",
     "evalue": "'200'",
     "output_type": "error",
     "traceback": [
      "\u001b[1;31m---------------------------------------------------------------------------\u001b[0m",
      "\u001b[1;31mKeyError\u001b[0m                                  Traceback (most recent call last)",
      "\u001b[1;32m<ipython-input-6-05566f7ca62a>\u001b[0m in \u001b[0;36m<module>\u001b[1;34m\u001b[0m\n\u001b[1;32m----> 1\u001b[1;33m \u001b[0md\u001b[0m\u001b[1;33m[\u001b[0m\u001b[1;34m'200'\u001b[0m\u001b[1;33m]\u001b[0m\u001b[1;33m\u001b[0m\u001b[1;33m\u001b[0m\u001b[0m\n\u001b[0m",
      "\u001b[1;31mKeyError\u001b[0m: '200'"
     ]
    }
   ],
   "source": [
    "d['200']"
   ]
  },
  {
   "cell_type": "code",
   "execution_count": null,
   "id": "75ba751f",
   "metadata": {},
   "outputs": [],
   "source": [
    "## We can prevent this by checking if key is already available or not\n",
    "## By using in operator"
   ]
  },
  {
   "cell_type": "code",
   "execution_count": null,
   "id": "e59afe88",
   "metadata": {},
   "outputs": [],
   "source": [
    "if 400 in d:\n",
    "    print(d[400])"
   ]
  },
  {
   "cell_type": "code",
   "execution_count": 8,
   "id": "b7a29bb1",
   "metadata": {},
   "outputs": [],
   "source": [
    "## Program to enter name and %age marks in a dictionary and display information in screen\n",
    "d1 = {}\n",
    "d1['Chandan'] = 86"
   ]
  },
  {
   "cell_type": "code",
   "execution_count": 9,
   "id": "bf997cf1",
   "metadata": {},
   "outputs": [
    {
     "data": {
      "text/plain": [
       "{100: 'Ram', 200: 'Soham', 300: 'Ram'}"
      ]
     },
     "execution_count": 9,
     "metadata": {},
     "output_type": "execute_result"
    }
   ],
   "source": [
    "## Update Dict\n",
    "d"
   ]
  },
  {
   "cell_type": "code",
   "execution_count": 10,
   "id": "f680145a",
   "metadata": {},
   "outputs": [
    {
     "data": {
      "text/plain": [
       "{100: 'Ram', 200: 'Soham', 300: 'Ram', 400: 'Sita'}"
      ]
     },
     "execution_count": 10,
     "metadata": {},
     "output_type": "execute_result"
    }
   ],
   "source": [
    "d[400] = 'Sita'\n",
    "d"
   ]
  },
  {
   "cell_type": "code",
   "execution_count": 11,
   "id": "3b7a8d66",
   "metadata": {},
   "outputs": [
    {
     "data": {
      "text/plain": [
       "{100: 'Ram', 300: 'Ram', 400: 'Sita'}"
      ]
     },
     "execution_count": 11,
     "metadata": {},
     "output_type": "execute_result"
    }
   ],
   "source": [
    "## Delete element in dict\n",
    "## del d[key]\n",
    "del d[200]\n",
    "d"
   ]
  },
  {
   "cell_type": "code",
   "execution_count": 12,
   "id": "539124d5",
   "metadata": {},
   "outputs": [
    {
     "data": {
      "text/plain": [
       "{}"
      ]
     },
     "execution_count": 12,
     "metadata": {},
     "output_type": "execute_result"
    }
   ],
   "source": [
    "## Remove all entries\n",
    "d.clear()\n",
    "d"
   ]
  },
  {
   "cell_type": "code",
   "execution_count": 13,
   "id": "80066714",
   "metadata": {},
   "outputs": [],
   "source": [
    "## d is still available"
   ]
  },
  {
   "cell_type": "code",
   "execution_count": 14,
   "id": "b484db4c",
   "metadata": {},
   "outputs": [
    {
     "ename": "NameError",
     "evalue": "name 'd' is not defined",
     "output_type": "error",
     "traceback": [
      "\u001b[1;31m---------------------------------------------------------------------------\u001b[0m",
      "\u001b[1;31mNameError\u001b[0m                                 Traceback (most recent call last)",
      "\u001b[1;32m<ipython-input-14-412e5c74465d>\u001b[0m in \u001b[0;36m<module>\u001b[1;34m\u001b[0m\n\u001b[0;32m      1\u001b[0m \u001b[1;32mdel\u001b[0m \u001b[0md\u001b[0m\u001b[1;33m\u001b[0m\u001b[1;33m\u001b[0m\u001b[0m\n\u001b[0;32m      2\u001b[0m \u001b[1;31m## now its not defined again\u001b[0m\u001b[1;33m\u001b[0m\u001b[1;33m\u001b[0m\u001b[1;33m\u001b[0m\u001b[0m\n\u001b[1;32m----> 3\u001b[1;33m \u001b[0md\u001b[0m\u001b[1;33m\u001b[0m\u001b[1;33m\u001b[0m\u001b[0m\n\u001b[0m",
      "\u001b[1;31mNameError\u001b[0m: name 'd' is not defined"
     ]
    }
   ],
   "source": [
    "del d\n",
    "## now its not defined again\n",
    "d"
   ]
  },
  {
   "cell_type": "code",
   "execution_count": 15,
   "id": "9a15ff73",
   "metadata": {},
   "outputs": [],
   "source": [
    "## Imp functions\n",
    "## 1. dict()"
   ]
  },
  {
   "cell_type": "code",
   "execution_count": 16,
   "id": "969c8d3d",
   "metadata": {},
   "outputs": [
    {
     "name": "stdout",
     "output_type": "stream",
     "text": [
      "<class 'dict'>\n",
      "{}\n"
     ]
    }
   ],
   "source": [
    "d = dict()\n",
    "print(type(d))\n",
    "print(d)"
   ]
  },
  {
   "cell_type": "code",
   "execution_count": 17,
   "id": "ffd2af9f",
   "metadata": {},
   "outputs": [
    {
     "data": {
      "text/plain": [
       "{100: 'Hello', 200: 'World'}"
      ]
     },
     "execution_count": 17,
     "metadata": {},
     "output_type": "execute_result"
    }
   ],
   "source": [
    "d = dict({100: 'Hello', 200: 'World'})\n",
    "d"
   ]
  },
  {
   "cell_type": "code",
   "execution_count": 18,
   "id": "744cbda5",
   "metadata": {},
   "outputs": [
    {
     "data": {
      "text/plain": [
       "2"
      ]
     },
     "execution_count": 18,
     "metadata": {},
     "output_type": "execute_result"
    }
   ],
   "source": [
    "## 2. len\n",
    "len(d)"
   ]
  },
  {
   "cell_type": "code",
   "execution_count": 19,
   "id": "15f51855",
   "metadata": {},
   "outputs": [],
   "source": [
    "## 3. get\n",
    "## d.get(key)"
   ]
  },
  {
   "cell_type": "code",
   "execution_count": 20,
   "id": "9a8f3420",
   "metadata": {},
   "outputs": [
    {
     "data": {
      "text/plain": [
       "'Hello'"
      ]
     },
     "execution_count": 20,
     "metadata": {},
     "output_type": "execute_result"
    }
   ],
   "source": [
    "d.get(100)"
   ]
  },
  {
   "cell_type": "code",
   "execution_count": 21,
   "id": "f4ef6889",
   "metadata": {},
   "outputs": [],
   "source": [
    "d.get(300) ## 300 not present still wont raise any error"
   ]
  },
  {
   "cell_type": "code",
   "execution_count": 22,
   "id": "bdb9d794",
   "metadata": {},
   "outputs": [
    {
     "data": {
      "text/plain": [
       "'Hello'"
      ]
     },
     "execution_count": 22,
     "metadata": {},
     "output_type": "execute_result"
    }
   ],
   "source": [
    "d.get(100, 'Hi') ## Default value"
   ]
  },
  {
   "cell_type": "code",
   "execution_count": 23,
   "id": "9fa32592",
   "metadata": {},
   "outputs": [
    {
     "data": {
      "text/plain": [
       "'Hi'"
      ]
     },
     "execution_count": 23,
     "metadata": {},
     "output_type": "execute_result"
    }
   ],
   "source": [
    "d.get(300, 'Hi')"
   ]
  },
  {
   "cell_type": "code",
   "execution_count": 25,
   "id": "c3d620a5",
   "metadata": {},
   "outputs": [
    {
     "data": {
      "text/plain": [
       "{100: 'Ram', 200: 'Soham', 300: 'Ram'}"
      ]
     },
     "execution_count": 25,
     "metadata": {},
     "output_type": "execute_result"
    }
   ],
   "source": [
    "d[100] = \"Ram\"\n",
    "d[200] = \"Soham\"\n",
    "d[300] = \"Ram\"\n",
    "d"
   ]
  },
  {
   "cell_type": "code",
   "execution_count": 26,
   "id": "abec8b6f",
   "metadata": {},
   "outputs": [],
   "source": [
    "## 4. pop\n"
   ]
  },
  {
   "cell_type": "code",
   "execution_count": 28,
   "id": "e80c6ba0",
   "metadata": {},
   "outputs": [
    {
     "data": {
      "text/plain": [
       "'Soham'"
      ]
     },
     "execution_count": 28,
     "metadata": {},
     "output_type": "execute_result"
    }
   ],
   "source": [
    "d.pop(200)"
   ]
  },
  {
   "cell_type": "code",
   "execution_count": 29,
   "id": "dd6e263c",
   "metadata": {},
   "outputs": [
    {
     "data": {
      "text/plain": [
       "{100: 'Ram', 300: 'Ram'}"
      ]
     },
     "execution_count": 29,
     "metadata": {},
     "output_type": "execute_result"
    }
   ],
   "source": [
    "d"
   ]
  },
  {
   "cell_type": "code",
   "execution_count": 36,
   "id": "8501032d",
   "metadata": {},
   "outputs": [
    {
     "data": {
      "text/plain": [
       "{'A': 1, 'B': 2, 'C': 3, 'D': 4}"
      ]
     },
     "execution_count": 36,
     "metadata": {},
     "output_type": "execute_result"
    }
   ],
   "source": [
    "## keys()\n",
    "f = {'A': 1, 'B': 2, 'C': 3, 'D': 4}\n",
    "f"
   ]
  },
  {
   "cell_type": "code",
   "execution_count": 37,
   "id": "6df5f34c",
   "metadata": {},
   "outputs": [
    {
     "data": {
      "text/plain": [
       "dict_keys(['A', 'B', 'C', 'D'])"
      ]
     },
     "execution_count": 37,
     "metadata": {},
     "output_type": "execute_result"
    }
   ],
   "source": [
    "f.keys()"
   ]
  },
  {
   "cell_type": "code",
   "execution_count": 38,
   "id": "0266d470",
   "metadata": {},
   "outputs": [
    {
     "data": {
      "text/plain": [
       "{'A': 1, 'B': 2, 'C': 3, 'D': 4, 'E': 5}"
      ]
     },
     "execution_count": 38,
     "metadata": {},
     "output_type": "execute_result"
    }
   ],
   "source": [
    "f['E'] = 5\n",
    "f"
   ]
  },
  {
   "cell_type": "code",
   "execution_count": 40,
   "id": "ea668876",
   "metadata": {},
   "outputs": [
    {
     "name": "stdout",
     "output_type": "stream",
     "text": [
      "A\n",
      "B\n",
      "C\n",
      "D\n",
      "E\n"
     ]
    }
   ],
   "source": [
    "for key in f.keys():\n",
    "    print(key)"
   ]
  },
  {
   "cell_type": "code",
   "execution_count": 42,
   "id": "75b27ad7",
   "metadata": {},
   "outputs": [
    {
     "data": {
      "text/plain": [
       "dict_values([1, 2, 3, 4, 5])"
      ]
     },
     "execution_count": 42,
     "metadata": {},
     "output_type": "execute_result"
    }
   ],
   "source": [
    "## 6. values()\n",
    "f.values()"
   ]
  },
  {
   "cell_type": "code",
   "execution_count": 44,
   "id": "348c5db4",
   "metadata": {},
   "outputs": [
    {
     "data": {
      "text/plain": [
       "{'A': 100, 'B': 92, 'C': 93, 'D': 74, 'E': 85}"
      ]
     },
     "execution_count": 44,
     "metadata": {},
     "output_type": "execute_result"
    }
   ],
   "source": [
    "## Program of student and marks\n",
    "## output std1 = 20 #HCGNQ62\n",
    "marksheet = {'A': 100, 'B': 92, 'C': 93, 'D': 74, 'E': 85}\n",
    "marksheet"
   ]
  },
  {
   "cell_type": "code",
   "execution_count": 45,
   "id": "98fcc620",
   "metadata": {},
   "outputs": [
    {
     "name": "stdout",
     "output_type": "stream",
     "text": [
      "A = 100\n",
      "B = 92\n",
      "C = 93\n",
      "D = 74\n",
      "E = 85\n"
     ]
    }
   ],
   "source": [
    "for key in marksheet.keys():\n",
    "    print(f'{key} = {marksheet[key]}')"
   ]
  },
  {
   "cell_type": "code",
   "execution_count": 46,
   "id": "64f47953",
   "metadata": {},
   "outputs": [
    {
     "data": {
      "text/plain": [
       "{'A': 1, 'B': 2, 'C': 3, 'D': 4, 'E': 5}"
      ]
     },
     "execution_count": 46,
     "metadata": {},
     "output_type": "execute_result"
    }
   ],
   "source": [
    "## 7. items()\n",
    "## return list of tuples representing keys and value pairs\n",
    "f"
   ]
  },
  {
   "cell_type": "code",
   "execution_count": 47,
   "id": "5eb06241",
   "metadata": {},
   "outputs": [
    {
     "data": {
      "text/plain": [
       "dict_items([('A', 1), ('B', 2), ('C', 3), ('D', 4), ('E', 5)])"
      ]
     },
     "execution_count": 47,
     "metadata": {},
     "output_type": "execute_result"
    }
   ],
   "source": [
    "f.items()"
   ]
  },
  {
   "cell_type": "code",
   "execution_count": 48,
   "id": "ead9ed13",
   "metadata": {},
   "outputs": [
    {
     "data": {
      "text/plain": [
       "{'A': 100, 'B': 92, 'C': 93, 'D': 74, 'E': 85}"
      ]
     },
     "execution_count": 48,
     "metadata": {},
     "output_type": "execute_result"
    }
   ],
   "source": [
    "marksheet"
   ]
  },
  {
   "cell_type": "code",
   "execution_count": 49,
   "id": "ad8ae04f",
   "metadata": {},
   "outputs": [
    {
     "name": "stdout",
     "output_type": "stream",
     "text": [
      "A 100\n",
      "B 92\n",
      "C 93\n",
      "D 74\n",
      "E 85\n"
     ]
    }
   ],
   "source": [
    "for key, value in marksheet.items():\n",
    "    print(key, value)"
   ]
  },
  {
   "cell_type": "code",
   "execution_count": 51,
   "id": "6413942f",
   "metadata": {},
   "outputs": [
    {
     "data": {
      "text/plain": [
       "{'A': 100, 'B': 92, 'C': 93, 'D': 74, 'E': 85}"
      ]
     },
     "execution_count": 51,
     "metadata": {},
     "output_type": "execute_result"
    }
   ],
   "source": [
    "marksheet"
   ]
  },
  {
   "cell_type": "code",
   "execution_count": 54,
   "id": "6fe1289f",
   "metadata": {},
   "outputs": [
    {
     "data": {
      "text/plain": [
       "{'A': 100, 'B': 92, 'C': 93, 'D': 74, 'E': 85}"
      ]
     },
     "execution_count": 54,
     "metadata": {},
     "output_type": "execute_result"
    }
   ],
   "source": [
    "## 8. copy\n",
    "marksheet1 = marksheet.copy()\n",
    "marksheet1"
   ]
  },
  {
   "cell_type": "markdown",
   "id": "543f33fd",
   "metadata": {},
   "source": [
    "## Operators\n",
    "1. Arithmethic Operators\n",
    "2. Relational Operator\n",
    "3. Equality Operators\n",
    "4. Logical Operators\n",
    "5. Bitwise Operators"
   ]
  },
  {
   "cell_type": "code",
   "execution_count": null,
   "id": "018428e5",
   "metadata": {},
   "outputs": [],
   "source": [
    "## 1. Arithmethic Operators\n",
    "'''\n",
    "+\n",
    "-\n",
    "*\n",
    "/ floor division\n",
    "% modulo\n",
    "// floor division\n",
    "'''"
   ]
  },
  {
   "cell_type": "code",
   "execution_count": 55,
   "id": "90df2bd5",
   "metadata": {},
   "outputs": [
    {
     "data": {
      "text/plain": [
       "3"
      ]
     },
     "execution_count": 55,
     "metadata": {},
     "output_type": "execute_result"
    }
   ],
   "source": [
    "7 // 2"
   ]
  },
  {
   "cell_type": "code",
   "execution_count": 56,
   "id": "a389a279",
   "metadata": {},
   "outputs": [
    {
     "data": {
      "text/plain": [
       "3.5"
      ]
     },
     "execution_count": 56,
     "metadata": {},
     "output_type": "execute_result"
    }
   ],
   "source": [
    "7 / 2"
   ]
  },
  {
   "cell_type": "code",
   "execution_count": 59,
   "id": "474ac40c",
   "metadata": {},
   "outputs": [
    {
     "data": {
      "text/plain": [
       "3.0"
      ]
     },
     "execution_count": 59,
     "metadata": {},
     "output_type": "execute_result"
    }
   ],
   "source": [
    "7.0 // 2.0"
   ]
  },
  {
   "cell_type": "code",
   "execution_count": 60,
   "id": "f47efb1e",
   "metadata": {},
   "outputs": [],
   "source": [
    "## 2. Relational Operator\n",
    "## > < >= <= "
   ]
  },
  {
   "cell_type": "code",
   "execution_count": 61,
   "id": "a1977713",
   "metadata": {},
   "outputs": [
    {
     "name": "stdout",
     "output_type": "stream",
     "text": [
      "False\n",
      "True\n",
      "False\n",
      "True\n"
     ]
    }
   ],
   "source": [
    "a = 10\n",
    "b = 20\n",
    "print(a > b)\n",
    "print(a < b)\n",
    "print(a > 10)\n",
    "print(a >= 10)"
   ]
  },
  {
   "cell_type": "code",
   "execution_count": 64,
   "id": "1a0dec15",
   "metadata": {},
   "outputs": [
    {
     "name": "stdout",
     "output_type": "stream",
     "text": [
      "False\n",
      "False\n",
      "True\n",
      "True\n"
     ]
    }
   ],
   "source": [
    "a = \"Data Scientist\"\n",
    "b = \"Data Scientist\"\n",
    "print(a > b)\n",
    "print(a < b)\n",
    "print(a >= b)\n",
    "print(a <= b)"
   ]
  },
  {
   "cell_type": "code",
   "execution_count": 65,
   "id": "653a1709",
   "metadata": {},
   "outputs": [
    {
     "name": "stdout",
     "output_type": "stream",
     "text": [
      "False\n",
      "True\n",
      "False\n",
      "True\n"
     ]
    }
   ],
   "source": [
    "a = \"Data Scientist\"\n",
    "b = \"data Scientist\"\n",
    "print(a > b)\n",
    "print(a < b)\n",
    "print(a >= b)\n",
    "print(a <= b)"
   ]
  },
  {
   "cell_type": "code",
   "execution_count": 66,
   "id": "5b8bc2ac",
   "metadata": {},
   "outputs": [],
   "source": [
    "## 3. Equality Operators\n",
    "## == !="
   ]
  },
  {
   "cell_type": "code",
   "execution_count": 67,
   "id": "5b90545a",
   "metadata": {},
   "outputs": [
    {
     "data": {
      "text/plain": [
       "False"
      ]
     },
     "execution_count": 67,
     "metadata": {},
     "output_type": "execute_result"
    }
   ],
   "source": [
    "10 == 20"
   ]
  },
  {
   "cell_type": "code",
   "execution_count": 68,
   "id": "51eda0be",
   "metadata": {},
   "outputs": [
    {
     "data": {
      "text/plain": [
       "True"
      ]
     },
     "execution_count": 68,
     "metadata": {},
     "output_type": "execute_result"
    }
   ],
   "source": [
    "10 != 20"
   ]
  },
  {
   "cell_type": "code",
   "execution_count": null,
   "id": "4893318f",
   "metadata": {},
   "outputs": [],
   "source": [
    "## 4. Logical Operator\n",
    "## and, or, not"
   ]
  },
  {
   "cell_type": "code",
   "execution_count": null,
   "id": "6dd6c4a5",
   "metadata": {},
   "outputs": [],
   "source": [
    "'''\n",
    " - For boolean type behaviour\n",
    " 1. add : true if both argument true\n",
    " 2. or  : true if any argument is true\n",
    " 3. not : compliment of result\n",
    "'''"
   ]
  },
  {
   "cell_type": "code",
   "execution_count": 71,
   "id": "3e990130",
   "metadata": {},
   "outputs": [
    {
     "name": "stdout",
     "output_type": "stream",
     "text": [
      "True\n",
      "False\n",
      "False\n",
      "True\n",
      "True\n",
      "False\n",
      "True\n",
      "False\n",
      "True\n"
     ]
    }
   ],
   "source": [
    "print(True and True)\n",
    "print(True and False)\n",
    "print(False and False)\n",
    "print(True or True)\n",
    "print(True or False)\n",
    "print(False or False)\n",
    "print(not False)\n",
    "print(not True)\n",
    "print(not 0)"
   ]
  },
  {
   "cell_type": "code",
   "execution_count": 77,
   "id": "b3fd44bc",
   "metadata": {},
   "outputs": [
    {
     "name": "stdout",
     "output_type": "stream",
     "text": [
      "20\n",
      "0\n"
     ]
    }
   ],
   "source": [
    "print(10 and 20)\n",
    "print(0 and 20)\n"
   ]
  },
  {
   "cell_type": "code",
   "execution_count": 78,
   "id": "0e0a21a3",
   "metadata": {},
   "outputs": [
    {
     "name": "stdout",
     "output_type": "stream",
     "text": [
      "10\n",
      "20\n"
     ]
    }
   ],
   "source": [
    "print(10 or 20)\n",
    "print(0 or 20)"
   ]
  },
  {
   "cell_type": "code",
   "execution_count": 79,
   "id": "613e552d",
   "metadata": {},
   "outputs": [
    {
     "name": "stdout",
     "output_type": "stream",
     "text": [
      "-10\n"
     ]
    }
   ],
   "source": [
    "print(-10 or 20)"
   ]
  },
  {
   "cell_type": "code",
   "execution_count": 85,
   "id": "6185efa8",
   "metadata": {},
   "outputs": [
    {
     "name": "stdout",
     "output_type": "stream",
     "text": [
      "4\n",
      "0\n",
      "0\n"
     ]
    }
   ],
   "source": [
    "## 5. Bitwise Operators\n",
    "## & | \n",
    "print(4 & 5)\n",
    "print(10 & 20)\n",
    "print(0 & 20)"
   ]
  },
  {
   "cell_type": "code",
   "execution_count": 86,
   "id": "d0cb399b",
   "metadata": {},
   "outputs": [],
   "source": [
    "## 6. Ternary Operators"
   ]
  },
  {
   "cell_type": "code",
   "execution_count": 87,
   "id": "81f3623e",
   "metadata": {},
   "outputs": [],
   "source": [
    "a, b = 10, 20"
   ]
  },
  {
   "cell_type": "code",
   "execution_count": 89,
   "id": "4824eb95",
   "metadata": {},
   "outputs": [
    {
     "data": {
      "text/plain": [
       "40"
      ]
     },
     "execution_count": 89,
     "metadata": {},
     "output_type": "execute_result"
    }
   ],
   "source": [
    "x = 30 if a > b else 40\n",
    "x"
   ]
  },
  {
   "cell_type": "code",
   "execution_count": 91,
   "id": "267e087d",
   "metadata": {},
   "outputs": [],
   "source": [
    "## Program - read 2 numbers from user and print min value"
   ]
  },
  {
   "cell_type": "code",
   "execution_count": 92,
   "id": "81e4b22e",
   "metadata": {},
   "outputs": [
    {
     "data": {
      "text/plain": [
       "10"
      ]
     },
     "execution_count": 92,
     "metadata": {},
     "output_type": "execute_result"
    }
   ],
   "source": [
    "a"
   ]
  },
  {
   "cell_type": "code",
   "execution_count": 93,
   "id": "c7f276cf",
   "metadata": {},
   "outputs": [
    {
     "data": {
      "text/plain": [
       "20"
      ]
     },
     "execution_count": 93,
     "metadata": {},
     "output_type": "execute_result"
    }
   ],
   "source": [
    "b"
   ]
  },
  {
   "cell_type": "code",
   "execution_count": 96,
   "id": "864f237a",
   "metadata": {},
   "outputs": [
    {
     "data": {
      "text/plain": [
       "10"
      ]
     },
     "execution_count": 96,
     "metadata": {},
     "output_type": "execute_result"
    }
   ],
   "source": [
    "minV = a if a < b else b\n",
    "minV"
   ]
  },
  {
   "cell_type": "code",
   "execution_count": 97,
   "id": "5ef1b820",
   "metadata": {},
   "outputs": [],
   "source": [
    "## min of 3 numbers"
   ]
  },
  {
   "cell_type": "code",
   "execution_count": 102,
   "id": "83f23689",
   "metadata": {},
   "outputs": [],
   "source": [
    "a, b, c = 12, -12, 0"
   ]
  },
  {
   "cell_type": "code",
   "execution_count": 103,
   "id": "b62698ac",
   "metadata": {},
   "outputs": [
    {
     "name": "stdout",
     "output_type": "stream",
     "text": [
      "12 -12 0\n"
     ]
    }
   ],
   "source": [
    "print(a, b, c)"
   ]
  },
  {
   "cell_type": "code",
   "execution_count": 104,
   "id": "b2300ad0",
   "metadata": {},
   "outputs": [
    {
     "data": {
      "text/plain": [
       "-12"
      ]
     },
     "execution_count": 104,
     "metadata": {},
     "output_type": "execute_result"
    }
   ],
   "source": [
    "min3 = a if a < b and a < c else b if b < c and b < a else c\n",
    "min3"
   ]
  },
  {
   "cell_type": "code",
   "execution_count": 106,
   "id": "de30e5b9",
   "metadata": {},
   "outputs": [
    {
     "name": "stdout",
     "output_type": "stream",
     "text": [
      "1 369 333\n"
     ]
    }
   ],
   "source": [
    "a, b, c = 1, 369, 333\n",
    "print(a, b, c)"
   ]
  },
  {
   "cell_type": "code",
   "execution_count": 107,
   "id": "5af6e884",
   "metadata": {},
   "outputs": [
    {
     "data": {
      "text/plain": [
       "1"
      ]
     },
     "execution_count": 107,
     "metadata": {},
     "output_type": "execute_result"
    }
   ],
   "source": [
    "min3 = a if a < b and a < c else b if b < c and b < a else c\n",
    "min3"
   ]
  },
  {
   "cell_type": "code",
   "execution_count": 108,
   "id": "d38113a5",
   "metadata": {},
   "outputs": [
    {
     "data": {
      "text/plain": [
       "1"
      ]
     },
     "execution_count": 108,
     "metadata": {},
     "output_type": "execute_result"
    }
   ],
   "source": [
    "min3 = a if a < b and a < c else b if b < c else c\n",
    "min3"
   ]
  },
  {
   "cell_type": "code",
   "execution_count": 118,
   "id": "b4416b96",
   "metadata": {},
   "outputs": [
    {
     "name": "stdout",
     "output_type": "stream",
     "text": [
      "\n",
      "* \n",
      "* * \n",
      "* * * \n",
      "* * * * \n",
      "* * * * * \n"
     ]
    }
   ],
   "source": [
    "## Triangle\n",
    "'''\n",
    "*\n",
    "**\n",
    "***\n",
    "****\n",
    "*****\n",
    "'''\n",
    "for i in range(6):\n",
    "    for j in range(i):\n",
    "        print('*', end = ' ')\n",
    "    print()"
   ]
  },
  {
   "cell_type": "code",
   "execution_count": 119,
   "id": "e47bf878",
   "metadata": {},
   "outputs": [
    {
     "name": "stdout",
     "output_type": "stream",
     "text": [
      "\n",
      "*\n",
      "**\n",
      "***\n",
      "****\n",
      "*****\n"
     ]
    }
   ],
   "source": [
    "for i in range(6):\n",
    "    print('*'*i)"
   ]
  },
  {
   "cell_type": "code",
   "execution_count": null,
   "id": "b0ab0150",
   "metadata": {},
   "outputs": [],
   "source": []
  }
 ],
 "metadata": {
  "kernelspec": {
   "display_name": "Python 3",
   "language": "python",
   "name": "python3"
  },
  "language_info": {
   "codemirror_mode": {
    "name": "ipython",
    "version": 3
   },
   "file_extension": ".py",
   "mimetype": "text/x-python",
   "name": "python",
   "nbconvert_exporter": "python",
   "pygments_lexer": "ipython3",
   "version": "3.8.8"
  }
 },
 "nbformat": 4,
 "nbformat_minor": 5
}
