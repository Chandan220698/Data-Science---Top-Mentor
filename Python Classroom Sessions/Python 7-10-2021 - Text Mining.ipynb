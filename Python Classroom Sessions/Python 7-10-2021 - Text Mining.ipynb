{
 "cells": [
  {
   "cell_type": "code",
   "execution_count": 2,
   "id": "a9c1f908",
   "metadata": {},
   "outputs": [],
   "source": [
    "import nltk\n",
    "\n",
    "## !pip install nltk"
   ]
  },
  {
   "cell_type": "code",
   "execution_count": 3,
   "id": "e3263c82",
   "metadata": {},
   "outputs": [],
   "source": [
    "## NLP is part of computer science and AI which deals with human language"
   ]
  },
  {
   "cell_type": "code",
   "execution_count": 6,
   "id": "8adca55c",
   "metadata": {},
   "outputs": [],
   "source": [
    "## corpus - documentation\n",
    "import nltk.corpus"
   ]
  },
  {
   "cell_type": "code",
   "execution_count": 7,
   "id": "a51849d6",
   "metadata": {},
   "outputs": [],
   "source": [
    "text = \"Todays IPL matches are being played in full awesome manner. Thinking of those emerging\\\n",
    "players which are performing superbly\""
   ]
  },
  {
   "cell_type": "code",
   "execution_count": 8,
   "id": "76211e87",
   "metadata": {},
   "outputs": [
    {
     "data": {
      "text/plain": [
       "'Todays IPL matches are being played in full awesome manner. Thinking of those emergingplayers which are performing superbly'"
      ]
     },
     "execution_count": 8,
     "metadata": {},
     "output_type": "execute_result"
    }
   ],
   "source": [
    "text"
   ]
  },
  {
   "cell_type": "code",
   "execution_count": 10,
   "id": "19f6e5a5",
   "metadata": {},
   "outputs": [
    {
     "name": "stderr",
     "output_type": "stream",
     "text": [
      "[nltk_data] Downloading package punkt to C:\\Users\\Chandan\n",
      "[nltk_data]     Kumar\\AppData\\Roaming\\nltk_data...\n",
      "[nltk_data]   Unzipping tokenizers\\punkt.zip.\n"
     ]
    },
    {
     "data": {
      "text/plain": [
       "True"
      ]
     },
     "execution_count": 10,
     "metadata": {},
     "output_type": "execute_result"
    }
   ],
   "source": [
    "import nltk\n",
    "nltk.download('punkt')"
   ]
  },
  {
   "cell_type": "code",
   "execution_count": 11,
   "id": "757aa7c1",
   "metadata": {},
   "outputs": [],
   "source": [
    "import nltk\n",
    "from nltk import word_tokenize"
   ]
  },
  {
   "cell_type": "code",
   "execution_count": 13,
   "id": "2bdd1af4",
   "metadata": {},
   "outputs": [
    {
     "name": "stdout",
     "output_type": "stream",
     "text": [
      "['Todays', 'IPL', 'matches', 'are', 'being', 'played', 'in', 'full', 'awesome', 'manner', '.', 'Thinking', 'of', 'those', 'emergingplayers', 'which', 'are', 'performing', 'superbly']\n"
     ]
    }
   ],
   "source": [
    "tokens = word_tokenize(text)\n",
    "print(tokens)"
   ]
  },
  {
   "cell_type": "code",
   "execution_count": 14,
   "id": "f3e91e93",
   "metadata": {},
   "outputs": [],
   "source": [
    "## Find the frequency of the words\n",
    "from nltk.probability import FreqDist"
   ]
  },
  {
   "cell_type": "code",
   "execution_count": 15,
   "id": "8d1834c7",
   "metadata": {},
   "outputs": [
    {
     "data": {
      "text/plain": [
       "FreqDist({'are': 2, 'Todays': 1, 'IPL': 1, 'matches': 1, 'being': 1, 'played': 1, 'in': 1, 'full': 1, 'awesome': 1, 'manner': 1, ...})"
      ]
     },
     "execution_count": 15,
     "metadata": {},
     "output_type": "execute_result"
    }
   ],
   "source": [
    "freq = FreqDist(tokens)\n",
    "freq"
   ]
  },
  {
   "cell_type": "code",
   "execution_count": 16,
   "id": "c450b90c",
   "metadata": {},
   "outputs": [
    {
     "data": {
      "text/plain": [
       "[('are', 2),\n",
       " ('Todays', 1),\n",
       " ('IPL', 1),\n",
       " ('matches', 1),\n",
       " ('being', 1),\n",
       " ('played', 1),\n",
       " ('in', 1),\n",
       " ('full', 1),\n",
       " ('awesome', 1),\n",
       " ('manner', 1)]"
      ]
     },
     "execution_count": 16,
     "metadata": {},
     "output_type": "execute_result"
    }
   ],
   "source": [
    "## Find out top 10 words\n",
    "freq_t10 = freq.most_common(10)\n",
    "freq_t10"
   ]
  },
  {
   "cell_type": "code",
   "execution_count": 17,
   "id": "d1c37516",
   "metadata": {},
   "outputs": [],
   "source": [
    "## Steaming and Lemmitatization\n",
    "\n",
    "## It is the process of normalising the words into its base form or root word."
   ]
  },
  {
   "cell_type": "code",
   "execution_count": 18,
   "id": "9a139cc3",
   "metadata": {},
   "outputs": [],
   "source": [
    "from nltk.stem import PorterStemmer"
   ]
  },
  {
   "cell_type": "code",
   "execution_count": 19,
   "id": "10466329",
   "metadata": {},
   "outputs": [
    {
     "data": {
      "text/plain": [
       "'consid'"
      ]
     },
     "execution_count": 19,
     "metadata": {},
     "output_type": "execute_result"
    }
   ],
   "source": [
    "pot = PorterStemmer()\n",
    "pot.stem('considering')"
   ]
  },
  {
   "cell_type": "code",
   "execution_count": 21,
   "id": "59e6a53b",
   "metadata": {},
   "outputs": [
    {
     "data": {
      "text/plain": [
       "'updat'"
      ]
     },
     "execution_count": 21,
     "metadata": {},
     "output_type": "execute_result"
    }
   ],
   "source": [
    "pot = PorterStemmer()\n",
    "pot.stem('update')"
   ]
  },
  {
   "cell_type": "code",
   "execution_count": 22,
   "id": "5ca06ea5",
   "metadata": {},
   "outputs": [
    {
     "name": "stdout",
     "output_type": "stream",
     "text": [
      "wait\n",
      "wait\n",
      "wait\n",
      "wait\n"
     ]
    }
   ],
   "source": [
    "words = ['waited', 'waiting', 'waits', 'wait']\n",
    "\n",
    "for word in words:\n",
    "    print(pot.stem(word))"
   ]
  },
  {
   "cell_type": "code",
   "execution_count": 23,
   "id": "06d4d8da",
   "metadata": {},
   "outputs": [],
   "source": [
    "from nltk.stem import LancasterStemmer"
   ]
  },
  {
   "cell_type": "code",
   "execution_count": 25,
   "id": "38f989b2",
   "metadata": {},
   "outputs": [
    {
     "data": {
      "text/plain": [
       "'consid'"
      ]
     },
     "execution_count": 25,
     "metadata": {},
     "output_type": "execute_result"
    }
   ],
   "source": [
    "lst = LancasterStemmer()\n",
    "lst.stem('considering')"
   ]
  },
  {
   "cell_type": "code",
   "execution_count": 27,
   "id": "77049744",
   "metadata": {},
   "outputs": [
    {
     "name": "stdout",
     "output_type": "stream",
     "text": [
      "wait\n",
      "wait\n",
      "wait\n",
      "wait\n"
     ]
    }
   ],
   "source": [
    "words = ['waited', 'waiting', 'waits', 'wait']\n",
    "\n",
    "for i in words:\n",
    "    print(lst.stem(i))"
   ]
  },
  {
   "cell_type": "code",
   "execution_count": 28,
   "id": "307d7868",
   "metadata": {},
   "outputs": [
    {
     "name": "stdout",
     "output_type": "stream",
     "text": [
      "giv\n",
      "giv\n",
      "giv\n",
      "gav\n"
     ]
    }
   ],
   "source": [
    "words = ['giving', 'given', 'give', 'gave']\n",
    "\n",
    "for i in words:\n",
    "    print(lst.stem(i))"
   ]
  },
  {
   "cell_type": "code",
   "execution_count": 29,
   "id": "2df39183",
   "metadata": {},
   "outputs": [
    {
     "name": "stdout",
     "output_type": "stream",
     "text": [
      "giv\n",
      "giv\n",
      "gav\n",
      "giv\n"
     ]
    }
   ],
   "source": [
    "words = ['giving', 'given', 'gave', 'give']\n",
    "\n",
    "for i in words:\n",
    "    print(lst.stem(i))"
   ]
  },
  {
   "cell_type": "code",
   "execution_count": 30,
   "id": "52534899",
   "metadata": {},
   "outputs": [
    {
     "name": "stdout",
     "output_type": "stream",
     "text": [
      "give\n",
      "given\n",
      "gave\n",
      "give\n"
     ]
    }
   ],
   "source": [
    "words = ['giving', 'given', 'gave', 'give']\n",
    "\n",
    "for i in words:\n",
    "    print(pot.stem(i))"
   ]
  },
  {
   "cell_type": "code",
   "execution_count": 32,
   "id": "538d2a7c",
   "metadata": {},
   "outputs": [],
   "source": [
    "## Lemmitization - It is process of converting a word to its base form\n",
    "## Lemmitization will correctly identify the base form of caring to care,\n",
    "## whereas stemming will cut of the 'ing' part and convert caring to car"
   ]
  },
  {
   "cell_type": "code",
   "execution_count": 41,
   "id": "613aec5d",
   "metadata": {},
   "outputs": [
    {
     "name": "stderr",
     "output_type": "stream",
     "text": [
      "[nltk_data] Downloading package wordnet to C:\\Users\\Chandan\n",
      "[nltk_data]     Kumar\\AppData\\Roaming\\nltk_data...\n",
      "[nltk_data]   Unzipping corpora\\wordnet.zip.\n"
     ]
    },
    {
     "data": {
      "text/plain": [
       "True"
      ]
     },
     "execution_count": 41,
     "metadata": {},
     "output_type": "execute_result"
    }
   ],
   "source": [
    "import nltk\n",
    "nltk.download('wordnet')"
   ]
  },
  {
   "cell_type": "code",
   "execution_count": 48,
   "id": "d5baf4b9",
   "metadata": {},
   "outputs": [],
   "source": [
    "from nltk.stem import WordNetLemmatizer"
   ]
  },
  {
   "cell_type": "code",
   "execution_count": 49,
   "id": "8c635437",
   "metadata": {},
   "outputs": [],
   "source": [
    "lm = WordNetLemmatizer()"
   ]
  },
  {
   "cell_type": "code",
   "execution_count": 50,
   "id": "0436be70",
   "metadata": {},
   "outputs": [
    {
     "name": "stdout",
     "output_type": "stream",
     "text": [
      "caring\n"
     ]
    }
   ],
   "source": [
    "print(lm.lemmatize('caring'))"
   ]
  },
  {
   "cell_type": "code",
   "execution_count": 52,
   "id": "76598bdc",
   "metadata": {},
   "outputs": [
    {
     "name": "stdout",
     "output_type": "stream",
     "text": [
      "step\n",
      "step\n",
      "steep\n",
      "Steeping\n"
     ]
    }
   ],
   "source": [
    "words = ['step', 'steps', 'steeps', 'Steeping']\n",
    "\n",
    "for w in words:\n",
    "    print(lm.lemmatize(w))"
   ]
  },
  {
   "cell_type": "code",
   "execution_count": 54,
   "id": "b732ed8a",
   "metadata": {},
   "outputs": [],
   "source": [
    "## Stop words removal ('like', 'the', 'a', 'at')\n",
    "## nltk stopwords"
   ]
  },
  {
   "cell_type": "code",
   "execution_count": 55,
   "id": "a33f7dd1",
   "metadata": {},
   "outputs": [],
   "source": [
    "from nltk.corpus import stopwords"
   ]
  },
  {
   "cell_type": "code",
   "execution_count": 56,
   "id": "e5487937",
   "metadata": {},
   "outputs": [
    {
     "name": "stderr",
     "output_type": "stream",
     "text": [
      "[nltk_data] Downloading package stopwords to C:\\Users\\Chandan\n",
      "[nltk_data]     Kumar\\AppData\\Roaming\\nltk_data...\n",
      "[nltk_data]   Unzipping corpora\\stopwords.zip.\n"
     ]
    },
    {
     "data": {
      "text/plain": [
       "True"
      ]
     },
     "execution_count": 56,
     "metadata": {},
     "output_type": "execute_result"
    }
   ],
   "source": [
    "import nltk\n",
    "nltk.download('stopwords')"
   ]
  },
  {
   "cell_type": "code",
   "execution_count": 57,
   "id": "fad3775b",
   "metadata": {},
   "outputs": [],
   "source": [
    "a = set(stopwords.words('english'))"
   ]
  },
  {
   "cell_type": "code",
   "execution_count": 58,
   "id": "42b48bb2",
   "metadata": {},
   "outputs": [],
   "source": [
    "msg = \"Ram is a good boy, but he is very naughty\""
   ]
  },
  {
   "cell_type": "code",
   "execution_count": 59,
   "id": "442f7bb9",
   "metadata": {},
   "outputs": [
    {
     "data": {
      "text/plain": [
       "['ram', 'is', 'a', 'good', 'boy', ',', 'but', 'he', 'is', 'very', 'naughty']"
      ]
     },
     "execution_count": 59,
     "metadata": {},
     "output_type": "execute_result"
    }
   ],
   "source": [
    "msg1 = word_tokenize(msg.lower())\n",
    "msg1"
   ]
  },
  {
   "cell_type": "code",
   "execution_count": 60,
   "id": "f98b021b",
   "metadata": {},
   "outputs": [
    {
     "data": {
      "text/plain": [
       "['ram', 'good', 'boy', ',', 'naughty']"
      ]
     },
     "execution_count": 60,
     "metadata": {},
     "output_type": "execute_result"
    }
   ],
   "source": [
    "msg1_stopwords = [x for x in msg1 if x not in a]\n",
    "msg1_stopwords"
   ]
  },
  {
   "cell_type": "code",
   "execution_count": 64,
   "id": "0efb27b3",
   "metadata": {},
   "outputs": [
    {
     "data": {
      "text/plain": [
       "[1, 9, 25, 49, 81]"
      ]
     },
     "execution_count": 64,
     "metadata": {},
     "output_type": "execute_result"
    }
   ],
   "source": [
    "## sq of odd numbers\n",
    "sq = [num*num for num in range(1, 11) if num%2==1]\n",
    "sq"
   ]
  },
  {
   "cell_type": "code",
   "execution_count": 65,
   "id": "3e2b58aa",
   "metadata": {},
   "outputs": [],
   "source": [
    "## parts of speech tagging\n",
    "\n",
    "for i in msg1"
   ]
  },
  {
   "cell_type": "code",
   "execution_count": 68,
   "id": "bdc78a34",
   "metadata": {},
   "outputs": [],
   "source": [
    "## Named entity recognizer\n",
    "\n",
    "t = \"Google CEO named as Sundar pichai, won 900crs investing in startups.\"\n"
   ]
  },
  {
   "cell_type": "code",
   "execution_count": 69,
   "id": "5304ea84",
   "metadata": {},
   "outputs": [],
   "source": [
    "import pandas as pd"
   ]
  },
  {
   "cell_type": "code",
   "execution_count": 72,
   "id": "3b155196",
   "metadata": {},
   "outputs": [
    {
     "name": "stderr",
     "output_type": "stream",
     "text": [
      "C:\\ProgramData\\Anaconda3\\lib\\site-packages\\IPython\\core\\interactiveshell.py:3165: DtypeWarning: Columns (1,10) have mixed types.Specify dtype option on import or set low_memory=False.\n",
      "  has_raised = await self.run_ast_nodes(code_ast.body, cell_name,\n"
     ]
    }
   ],
   "source": [
    "df = pd.read_csv('Amazon reviews.csv')"
   ]
  },
  {
   "cell_type": "code",
   "execution_count": 73,
   "id": "d7ee0d06",
   "metadata": {},
   "outputs": [
    {
     "data": {
      "text/plain": [
       "(34660, 21)"
      ]
     },
     "execution_count": 73,
     "metadata": {},
     "output_type": "execute_result"
    }
   ],
   "source": [
    "df.shape"
   ]
  },
  {
   "cell_type": "code",
   "execution_count": 74,
   "id": "e8d912a3",
   "metadata": {},
   "outputs": [
    {
     "data": {
      "text/html": [
       "<div>\n",
       "<style scoped>\n",
       "    .dataframe tbody tr th:only-of-type {\n",
       "        vertical-align: middle;\n",
       "    }\n",
       "\n",
       "    .dataframe tbody tr th {\n",
       "        vertical-align: top;\n",
       "    }\n",
       "\n",
       "    .dataframe thead th {\n",
       "        text-align: right;\n",
       "    }\n",
       "</style>\n",
       "<table border=\"1\" class=\"dataframe\">\n",
       "  <thead>\n",
       "    <tr style=\"text-align: right;\">\n",
       "      <th></th>\n",
       "      <th>id</th>\n",
       "      <th>name</th>\n",
       "      <th>asins</th>\n",
       "      <th>brand</th>\n",
       "      <th>categories</th>\n",
       "      <th>keys</th>\n",
       "      <th>manufacturer</th>\n",
       "      <th>reviews.date</th>\n",
       "      <th>reviews.dateAdded</th>\n",
       "      <th>reviews.dateSeen</th>\n",
       "      <th>...</th>\n",
       "      <th>reviews.doRecommend</th>\n",
       "      <th>reviews.id</th>\n",
       "      <th>reviews.numHelpful</th>\n",
       "      <th>reviews.rating</th>\n",
       "      <th>reviews.sourceURLs</th>\n",
       "      <th>reviews.text</th>\n",
       "      <th>reviews.title</th>\n",
       "      <th>reviews.userCity</th>\n",
       "      <th>reviews.userProvince</th>\n",
       "      <th>reviews.username</th>\n",
       "    </tr>\n",
       "  </thead>\n",
       "  <tbody>\n",
       "    <tr>\n",
       "      <th>0</th>\n",
       "      <td>AVqkIhwDv8e3D1O-lebb</td>\n",
       "      <td>All-New Fire HD 8 Tablet, 8 HD Display, Wi-Fi,...</td>\n",
       "      <td>B01AHB9CN2</td>\n",
       "      <td>Amazon</td>\n",
       "      <td>Electronics,iPad &amp; Tablets,All Tablets,Fire Ta...</td>\n",
       "      <td>841667104676,amazon/53004484,amazon/b01ahb9cn2...</td>\n",
       "      <td>Amazon</td>\n",
       "      <td>2017-01-13T00:00:00.000Z</td>\n",
       "      <td>2017-07-03T23:33:15Z</td>\n",
       "      <td>2017-06-07T09:04:00.000Z,2017-04-30T00:45:00.000Z</td>\n",
       "      <td>...</td>\n",
       "      <td>True</td>\n",
       "      <td>NaN</td>\n",
       "      <td>0.0</td>\n",
       "      <td>5.0</td>\n",
       "      <td>http://reviews.bestbuy.com/3545/5620406/review...</td>\n",
       "      <td>This product so far has not disappointed. My c...</td>\n",
       "      <td>Kindle</td>\n",
       "      <td>NaN</td>\n",
       "      <td>NaN</td>\n",
       "      <td>Adapter</td>\n",
       "    </tr>\n",
       "    <tr>\n",
       "      <th>1</th>\n",
       "      <td>AVqkIhwDv8e3D1O-lebb</td>\n",
       "      <td>All-New Fire HD 8 Tablet, 8 HD Display, Wi-Fi,...</td>\n",
       "      <td>B01AHB9CN2</td>\n",
       "      <td>Amazon</td>\n",
       "      <td>Electronics,iPad &amp; Tablets,All Tablets,Fire Ta...</td>\n",
       "      <td>841667104676,amazon/53004484,amazon/b01ahb9cn2...</td>\n",
       "      <td>Amazon</td>\n",
       "      <td>2017-01-13T00:00:00.000Z</td>\n",
       "      <td>2017-07-03T23:33:15Z</td>\n",
       "      <td>2017-06-07T09:04:00.000Z,2017-04-30T00:45:00.000Z</td>\n",
       "      <td>...</td>\n",
       "      <td>True</td>\n",
       "      <td>NaN</td>\n",
       "      <td>0.0</td>\n",
       "      <td>5.0</td>\n",
       "      <td>http://reviews.bestbuy.com/3545/5620406/review...</td>\n",
       "      <td>great for beginner or experienced person. Boug...</td>\n",
       "      <td>very fast</td>\n",
       "      <td>NaN</td>\n",
       "      <td>NaN</td>\n",
       "      <td>truman</td>\n",
       "    </tr>\n",
       "  </tbody>\n",
       "</table>\n",
       "<p>2 rows × 21 columns</p>\n",
       "</div>"
      ],
      "text/plain": [
       "                     id                                               name  \\\n",
       "0  AVqkIhwDv8e3D1O-lebb  All-New Fire HD 8 Tablet, 8 HD Display, Wi-Fi,...   \n",
       "1  AVqkIhwDv8e3D1O-lebb  All-New Fire HD 8 Tablet, 8 HD Display, Wi-Fi,...   \n",
       "\n",
       "        asins   brand                                         categories  \\\n",
       "0  B01AHB9CN2  Amazon  Electronics,iPad & Tablets,All Tablets,Fire Ta...   \n",
       "1  B01AHB9CN2  Amazon  Electronics,iPad & Tablets,All Tablets,Fire Ta...   \n",
       "\n",
       "                                                keys manufacturer  \\\n",
       "0  841667104676,amazon/53004484,amazon/b01ahb9cn2...       Amazon   \n",
       "1  841667104676,amazon/53004484,amazon/b01ahb9cn2...       Amazon   \n",
       "\n",
       "               reviews.date     reviews.dateAdded  \\\n",
       "0  2017-01-13T00:00:00.000Z  2017-07-03T23:33:15Z   \n",
       "1  2017-01-13T00:00:00.000Z  2017-07-03T23:33:15Z   \n",
       "\n",
       "                                    reviews.dateSeen  ... reviews.doRecommend  \\\n",
       "0  2017-06-07T09:04:00.000Z,2017-04-30T00:45:00.000Z  ...                True   \n",
       "1  2017-06-07T09:04:00.000Z,2017-04-30T00:45:00.000Z  ...                True   \n",
       "\n",
       "  reviews.id  reviews.numHelpful  reviews.rating  \\\n",
       "0        NaN                 0.0             5.0   \n",
       "1        NaN                 0.0             5.0   \n",
       "\n",
       "                                  reviews.sourceURLs  \\\n",
       "0  http://reviews.bestbuy.com/3545/5620406/review...   \n",
       "1  http://reviews.bestbuy.com/3545/5620406/review...   \n",
       "\n",
       "                                        reviews.text reviews.title  \\\n",
       "0  This product so far has not disappointed. My c...        Kindle   \n",
       "1  great for beginner or experienced person. Boug...     very fast   \n",
       "\n",
       "  reviews.userCity  reviews.userProvince  reviews.username  \n",
       "0              NaN                   NaN           Adapter  \n",
       "1              NaN                   NaN            truman  \n",
       "\n",
       "[2 rows x 21 columns]"
      ]
     },
     "execution_count": 74,
     "metadata": {},
     "output_type": "execute_result"
    }
   ],
   "source": [
    "df.head(2)"
   ]
  },
  {
   "cell_type": "code",
   "execution_count": 75,
   "id": "7ccd1bde",
   "metadata": {},
   "outputs": [
    {
     "data": {
      "text/plain": [
       "Index(['id', 'name', 'asins', 'brand', 'categories', 'keys', 'manufacturer',\n",
       "       'reviews.date', 'reviews.dateAdded', 'reviews.dateSeen',\n",
       "       'reviews.didPurchase', 'reviews.doRecommend', 'reviews.id',\n",
       "       'reviews.numHelpful', 'reviews.rating', 'reviews.sourceURLs',\n",
       "       'reviews.text', 'reviews.title', 'reviews.userCity',\n",
       "       'reviews.userProvince', 'reviews.username'],\n",
       "      dtype='object')"
      ]
     },
     "execution_count": 75,
     "metadata": {},
     "output_type": "execute_result"
    }
   ],
   "source": [
    "df.columns"
   ]
  },
  {
   "cell_type": "code",
   "execution_count": 76,
   "id": "94feac41",
   "metadata": {},
   "outputs": [],
   "source": [
    "columns = ['id', 'name', 'keys', 'manufacturer',\n",
    "       'reviews.date', 'reviews.dateAdded', 'reviews.dateSeen',\n",
    "       'reviews.didPurchase', 'reviews.doRecommend', 'reviews.id',\n",
    "       'reviews.numHelpful','reviews.sourceURLs', 'reviews.title']"
   ]
  },
  {
   "cell_type": "code",
   "execution_count": 78,
   "id": "16c50d0f",
   "metadata": {},
   "outputs": [
    {
     "data": {
      "text/plain": [
       "Index(['asins', 'brand', 'categories', 'reviews.rating', 'reviews.text',\n",
       "       'reviews.userCity', 'reviews.userProvince', 'reviews.username'],\n",
       "      dtype='object')"
      ]
     },
     "execution_count": 78,
     "metadata": {},
     "output_type": "execute_result"
    }
   ],
   "source": [
    "amaz = pd.DataFrame(df.drop(columns, axis=1, inplace=False))\n",
    "amaz.columns"
   ]
  },
  {
   "cell_type": "code",
   "execution_count": 81,
   "id": "045c0a84",
   "metadata": {},
   "outputs": [
    {
     "data": {
      "text/plain": [
       "5.0    23775\n",
       "4.0     8541\n",
       "3.0     1499\n",
       "1.0      410\n",
       "2.0      402\n",
       "Name: reviews.rating, dtype: int64"
      ]
     },
     "execution_count": 81,
     "metadata": {},
     "output_type": "execute_result"
    }
   ],
   "source": [
    "amaz['reviews.rating'].value_counts()"
   ]
  },
  {
   "cell_type": "code",
   "execution_count": 82,
   "id": "5d6fe32f",
   "metadata": {},
   "outputs": [
    {
     "data": {
      "text/plain": [
       "<AxesSubplot:>"
      ]
     },
     "execution_count": 82,
     "metadata": {},
     "output_type": "execute_result"
    },
    {
     "data": {
      "image/png": "[encoded data removed]",
      "text/plain": [
       "<Figure size 432x288 with 1 Axes>"
      ]
     },
     "metadata": {
      "needs_background": "light"
     },
     "output_type": "display_data"
    }
   ],
   "source": [
    "amaz['reviews.rating'].value_counts().plot(kind = 'barh')"
   ]
  },
  {
   "cell_type": "code",
   "execution_count": 83,
   "id": "e736b0b3",
   "metadata": {},
   "outputs": [
    {
     "data": {
      "text/plain": [
       "asins                    object\n",
       "brand                    object\n",
       "categories               object\n",
       "reviews.rating          float64\n",
       "reviews.text             object\n",
       "reviews.userCity        float64\n",
       "reviews.userProvince    float64\n",
       "reviews.username         object\n",
       "dtype: object"
      ]
     },
     "execution_count": 83,
     "metadata": {},
     "output_type": "execute_result"
    }
   ],
   "source": [
    "amaz.dtypes"
   ]
  },
  {
   "cell_type": "code",
   "execution_count": 84,
   "id": "d14dd908",
   "metadata": {},
   "outputs": [],
   "source": [
    "## reviwes.text is object but we need string for nltk"
   ]
  },
  {
   "cell_type": "code",
   "execution_count": 85,
   "id": "76dd8ec9",
   "metadata": {},
   "outputs": [],
   "source": [
    "amaz['reviews.text'] = amaz['reviews.text'].astype('str')"
   ]
  },
  {
   "cell_type": "code",
   "execution_count": 86,
   "id": "989344ef",
   "metadata": {},
   "outputs": [
    {
     "data": {
      "text/plain": [
       "asins                    object\n",
       "brand                    object\n",
       "categories               object\n",
       "reviews.rating          float64\n",
       "reviews.text             object\n",
       "reviews.userCity        float64\n",
       "reviews.userProvince    float64\n",
       "reviews.username         object\n",
       "dtype: object"
      ]
     },
     "execution_count": 86,
     "metadata": {},
     "output_type": "execute_result"
    }
   ],
   "source": [
    "amaz.dtypes"
   ]
  },
  {
   "cell_type": "code",
   "execution_count": 87,
   "id": "c2bf2dfd",
   "metadata": {},
   "outputs": [],
   "source": [
    "## still object but it is now string"
   ]
  },
  {
   "cell_type": "code",
   "execution_count": 88,
   "id": "9d8c4adc",
   "metadata": {},
   "outputs": [
    {
     "data": {
      "text/plain": [
       "'This product so far has not disappointed. My children love to use it and I like the ability to monitor control what content they see with ease.'"
      ]
     },
     "execution_count": 88,
     "metadata": {},
     "output_type": "execute_result"
    }
   ],
   "source": [
    "amaz['reviews.text'][0]"
   ]
  },
  {
   "cell_type": "code",
   "execution_count": 89,
   "id": "65267c88",
   "metadata": {},
   "outputs": [
    {
     "data": {
      "text/plain": [
       "0        this product so far has not disappointed. my c...\n",
       "1        great for beginner or experienced person. boug...\n",
       "2        inexpensive tablet for him to use and learn on...\n",
       "3        i've had my fire hd 8 two weeks now and i love...\n",
       "4        i bought this for my grand daughter when she c...\n",
       "                               ...                        \n",
       "34655    this is not appreciably faster than any other ...\n",
       "34656    amazon should include this charger with the ki...\n",
       "34657    love my kindle fire but i am really disappoint...\n",
       "34658    i was surprised to find it did not come with a...\n",
       "34659    to spite the fact that i have nothing but good...\n",
       "Name: reviews.text, Length: 34660, dtype: object"
      ]
     },
     "execution_count": 89,
     "metadata": {},
     "output_type": "execute_result"
    }
   ],
   "source": [
    "amaz['reviews.text'].apply(lambda t : str(t).lower())"
   ]
  },
  {
   "cell_type": "code",
   "execution_count": 90,
   "id": "0259687f",
   "metadata": {},
   "outputs": [],
   "source": [
    "amaz['reviews.text'] = amaz['reviews.text'].apply(lambda t : str(t).lower())"
   ]
  },
  {
   "cell_type": "code",
   "execution_count": 91,
   "id": "1158b286",
   "metadata": {},
   "outputs": [
    {
     "data": {
      "text/plain": [
       "'inexpensive tablet for him to use and learn on, step up from the nabi. he was thrilled with it, learn how to skype on it already...'"
      ]
     },
     "execution_count": 91,
     "metadata": {},
     "output_type": "execute_result"
    }
   ],
   "source": [
    "amaz['reviews.text'][2]"
   ]
  },
  {
   "cell_type": "code",
   "execution_count": 94,
   "id": "b40eb4d9",
   "metadata": {},
   "outputs": [
    {
     "name": "stderr",
     "output_type": "stream",
     "text": [
      "<ipython-input-94-43183313e05e>:2: FutureWarning: The default value of regex will change from True to False in a future version.\n",
      "  amaz['reviews.text'].str.replace('[^\\w\\s]', '')\n"
     ]
    },
    {
     "data": {
      "text/plain": [
       "0        this product so far has not disappointed my ch...\n",
       "1        great for beginner or experienced person bough...\n",
       "2        inexpensive tablet for him to use and learn on...\n",
       "3        ive had my fire hd 8 two weeks now and i love ...\n",
       "4        i bought this for my grand daughter when she c...\n",
       "                               ...                        \n",
       "34655    this is not appreciably faster than any other ...\n",
       "34656    amazon should include this charger with the ki...\n",
       "34657    love my kindle fire but i am really disappoint...\n",
       "34658    i was surprised to find it did not come with a...\n",
       "34659    to spite the fact that i have nothing but good...\n",
       "Name: reviews.text, Length: 34660, dtype: object"
      ]
     },
     "execution_count": 94,
     "metadata": {},
     "output_type": "execute_result"
    }
   ],
   "source": [
    "## Removing alphanumeric text\n",
    "amaz['reviews.text'].str.replace('[^\\w\\s]', '')"
   ]
  },
  {
   "cell_type": "code",
   "execution_count": 95,
   "id": "68037d06",
   "metadata": {},
   "outputs": [
    {
     "name": "stderr",
     "output_type": "stream",
     "text": [
      "<ipython-input-95-609f3118a227>:1: FutureWarning: The default value of regex will change from True to False in a future version.\n",
      "  amaz['reviews.text'] = amaz['reviews.text'].str.replace('[^\\w\\s]', '')\n"
     ]
    }
   ],
   "source": [
    "amaz['reviews.text'] = amaz['reviews.text'].str.replace('[^\\w\\s]', '')"
   ]
  },
  {
   "cell_type": "code",
   "execution_count": 96,
   "id": "2344ed23",
   "metadata": {},
   "outputs": [
    {
     "data": {
      "text/plain": [
       "'inexpensive tablet for him to use and learn on step up from the nabi he was thrilled with it learn how to skype on it already'"
      ]
     },
     "execution_count": 96,
     "metadata": {},
     "output_type": "execute_result"
    }
   ],
   "source": [
    "amaz['reviews.text'][2]"
   ]
  },
  {
   "cell_type": "code",
   "execution_count": 97,
   "id": "3e38ea00",
   "metadata": {},
   "outputs": [],
   "source": [
    "## stopwords\n",
    "stop = set(stopwords.words('english'))"
   ]
  },
  {
   "cell_type": "code",
   "execution_count": null,
   "id": "a9b5e76b",
   "metadata": {},
   "outputs": [],
   "source": []
  },
  {
   "cell_type": "code",
   "execution_count": null,
   "id": "1cf5e6da",
   "metadata": {},
   "outputs": [],
   "source": []
  }
 ],
 "metadata": {
  "kernelspec": {
   "display_name": "Python 3",
   "language": "python",
   "name": "python3"
  },
  "language_info": {
   "codemirror_mode": {
    "name": "ipython",
    "version": 3
   },
   "file_extension": ".py",
   "mimetype": "text/x-python",
   "name": "python",
   "nbconvert_exporter": "python",
   "pygments_lexer": "ipython3",
   "version": "3.8.8"
  }
 },
 "nbformat": 4,
 "nbformat_minor": 5
}
